{
 "cells": [
  {
   "cell_type": "code",
   "execution_count": 1,
   "id": "d009a984",
   "metadata": {},
   "outputs": [],
   "source": [
    "import argparse\n",
    "from dataclasses import dataclass\n",
    "import json\n",
    "import logging\n",
    "import os\n",
    "import random\n",
    "import sys\n",
    "import time\n",
    "import warnings\n",
    "\n",
    "import matplotlib.pyplot as plt\n",
    "import numpy as np\n",
    "import torch\n",
    "import torch.nn as nn\n",
    "import torch.nn.functional as F\n",
    "from torch.utils.data import Dataset, DataLoader, RandomSampler, SequentialSampler\n",
    "\n",
    "import transformers\n",
    "import wandb\n",
    "from tqdm.auto import tqdm, trange\n",
    "\n",
    "\n",
    "logger = logging.getLogger(__name__)\n",
    "logging.basicConfig(\n",
    "    format=\"%(asctime)s: %(message)s\",\n",
    "    datefmt=\"%m/%d/%Y %H:%M:%S\",\n",
    "    level=logging.INFO,\n",
    ")"
   ]
  },
  {
   "cell_type": "code",
   "execution_count": 2,
   "id": "64aee282",
   "metadata": {},
   "outputs": [],
   "source": [
    "@dataclass\n",
    "class CustomArguments(transformers.TrainingArguments):\n",
    "    sample_train: int = 0\n",
    "    sample_eval: int = 0\n",
    "    num_choices: int = 0\n",
    "    model_name_or_path: str = \"asdf\"  # this is no longer a TrainingArgument attribute\n",
    "        \n",
    "    # python dataclasses cannot have positional attributes in subclass,\n",
    "    # so give all attributes defaults and then make sure they are changed\n",
    "    def __post_init__(self):\n",
    "        if not (self.sample_train * self.sample_eval * self.num_choices) or \\\n",
    "               self.model_name_or_path == \"asdf\":  # make sure none are still default value\n",
    "            raise TypeError(\"__init__ missing required argument(s)\")\n",
    "\n",
    "def get_args():\n",
    "    \"\"\" Set hyperparameters \"\"\"\n",
    "    args = CustomArguments(\n",
    "        output_dir=\"checkpoint\",\n",
    "        model_name_or_path=\"roberta-base\",\n",
    "        overwrite_output_dir=True,\n",
    "        do_train=False,  # Zero shot\n",
    "        do_eval=True,\n",
    "        per_device_eval_batch_size=8,\n",
    "        learning_rate=1e-5,  # Should not matter because not training\n",
    "        weight_decay=0.1,\n",
    "        save_total_limit=2,\n",
    "        seed=123,\n",
    "        sample_train=200,\n",
    "        sample_eval=-1,\n",
    "        num_choices=2,\n",
    "    )\n",
    "    \n",
    "    return args"
   ]
  },
  {
   "cell_type": "code",
   "execution_count": 3,
   "id": "0b031c07",
   "metadata": {},
   "outputs": [],
   "source": [
    "def get_data(file_path, sample, num_choices):\n",
    "    data_file = open(file_path, \"r\")\n",
    "    logger.info(\"Reading QA instances from jsonl dataset at: %s\", file_path)\n",
    "    item_jsons = []\n",
    "    item_ids = []\n",
    "    questions = []\n",
    "    choice_lists = []\n",
    "    answer_ids = []\n",
    "    for line in data_file:\n",
    "        item_jsons.append(json.loads(line.strip()))\n",
    "\n",
    "    if sample != -1:\n",
    "        item_jsons = random.sample(item_jsons, sample)\n",
    "        logger.info(\"Sampling %d examples\", sample)\n",
    "\n",
    "    for item_json in tqdm(item_jsons,total=len(item_jsons)):\n",
    "        item_id = item_json[\"id\"]\n",
    "\n",
    "        question_text = item_json[\"question\"][\"stem\"]\n",
    "\n",
    "        choice_label_to_id = {}\n",
    "        choice_text_list = []\n",
    "        choice_context_list = []\n",
    "        choice_label_list = []\n",
    "        choice_annotations_list = []\n",
    "\n",
    "        any_correct = False\n",
    "        choice_id_correction = 0\n",
    "\n",
    "        for choice_id, choice_item in enumerate(item_json[\"question\"][\"choices\"]):\n",
    "            choice_label = choice_item[\"label\"]\n",
    "            choice_label_to_id[choice_label] = choice_id - choice_id_correction\n",
    "            choice_text = choice_item[\"text\"]\n",
    "\n",
    "            choice_text_list.append(choice_text)\n",
    "            choice_label_list.append(choice_label)\n",
    "\n",
    "            if item_json.get('answerKey') == choice_label:\n",
    "                if any_correct:\n",
    "                    raise ValueError(\"More than one correct answer found for {item_json}!\")\n",
    "                any_correct = True\n",
    "\n",
    "\n",
    "        if not any_correct and 'answerKey' in item_json:\n",
    "            raise ValueError(\"No correct answer found for {item_json}!\")\n",
    "\n",
    "\n",
    "        answer_id = choice_label_to_id.get(item_json.get(\"answerKey\"))\n",
    "        # Pad choices with empty strings if not right number\n",
    "        if len(choice_text_list) != num_choices:\n",
    "            choice_text_list = (choice_text_list + num_choices * [''])[:num_choices]\n",
    "            choice_context_list = (choice_context_list + num_choices * [None])[:num_choices]\n",
    "            if answer_id is not None and answer_id >= num_choices:\n",
    "                logging.warning(f\"Skipping question with more than {num_choices} answers: {item_json}\")\n",
    "                continue\n",
    "\n",
    "        item_ids.append(item_id)\n",
    "        questions.append(question_text)\n",
    "        choice_lists.append(choice_text_list)\n",
    "        answer_ids.append(answer_id)\n",
    "\n",
    "    data_file.close()\n",
    "    return questions, choice_lists, answer_ids"
   ]
  },
  {
   "cell_type": "code",
   "execution_count": 4,
   "id": "6e4d7c36",
   "metadata": {},
   "outputs": [],
   "source": [
    "class BERTDataset(Dataset):\n",
    "    \n",
    "    def __init__(self, questions, choices, answer_ids, tokenizer):\n",
    "        out = tokenizer(questions, max_length=25, padding=\"max_length\")\n",
    "        self.input_ids = out[\"input_ids\"]\n",
    "        self.token_type_ids = out[\"token_type_ids\"]\n",
    "        self.attention_mask = out[\"attention_mask\"]\n",
    "        self.questions = questions\n",
    "        self.choices = choices\n",
    "        self.answer_ids = answer_ids\n",
    "        \n",
    "    def __len__(self):\n",
    "        return len(self.questions)\n",
    "\n",
    "    def __getitem__(self, i):\n",
    "        return {\n",
    "            \"input_ids\": self.input_ids[i], \n",
    "            \"attention_mask\": self.attention_mask[i], \n",
    "            \"token_type_ids\": self.token_type_ids[i],\n",
    "            \"choice_list\": self.choices[i], \n",
    "            \"answer_id\": self.answer_ids[i],\n",
    "        }\n",
    "    \n",
    "\n",
    "class RoBERTaDataset(Dataset):\n",
    "    \n",
    "    def __init__(self, questions, choices, answer_ids, tokenizer):\n",
    "#         if \"t5\" in tokenizer.name_or_path.lower():\n",
    "#             questions = [question.replace('[MASK]', '') for question in questions]\n",
    "#         else:\n",
    "        questions = [question.replace('[MASK]', tokenizer.mask_token) for question in questions]\n",
    "        out = tokenizer(questions, max_length=25, padding=\"max_length\")\n",
    "        self.input_ids = out[\"input_ids\"]\n",
    "        self.attention_mask = out[\"attention_mask\"]\n",
    "        self.questions = questions\n",
    "        self.choices = choices\n",
    "        self.answer_ids = answer_ids\n",
    "        \n",
    "    def __len__(self):\n",
    "        return len(self.questions)\n",
    "\n",
    "    def __getitem__(self, i):\n",
    "        return {\n",
    "            \"input_ids\": self.input_ids[i], \n",
    "            \"attention_mask\": self.attention_mask[i], \n",
    "            \"choice_list\": self.choices[i], \n",
    "            \"answer_id\": self.answer_ids[i],\n",
    "        }"
   ]
  },
  {
   "cell_type": "code",
   "execution_count": 5,
   "id": "8db9561e",
   "metadata": {},
   "outputs": [],
   "source": [
    "d = {(11, 11): 64,\n",
    " (3, 11): 61,\n",
    " (8, 14): 60,\n",
    " (10, 10): 52,\n",
    " (7, 12): 49,\n",
    " (1, 4): 47,\n",
    " (9, 10): 44,\n",
    " (3, 3): 39,\n",
    " (12, 6): 37,\n",
    " (14, 13): 36}"
   ]
  },
  {
   "cell_type": "code",
   "execution_count": 9,
   "id": "39d47325",
   "metadata": {},
   "outputs": [
    {
     "data": {
      "text/plain": [
       "dict_keys([(11, 11), (3, 11), (8, 14), (10, 10), (7, 12), (1, 4), (9, 10), (3, 3), (12, 6), (14, 13)])"
      ]
     },
     "execution_count": 9,
     "metadata": {},
     "output_type": "execute_result"
    }
   ],
   "source": [
    "d.keys()"
   ]
  },
  {
   "cell_type": "code",
   "execution_count": 5,
   "id": "5f440ba1",
   "metadata": {},
   "outputs": [],
   "source": [
    "bert_age_age = [(0, 8), (1, 8), (15, 9), (5, 12), (13, 13), (14, 13), (9, 14), (0, 17), (2, 19), (15, 13), (1, 14), (3, 14), (8, 14), (4, 15), (7, 12), (14, 15), (14, 23), (8, 23), (12, 16), (3, 7)]\n",
    "roberta_age_age = [(11, 0), (3, 2), (14, 6), (2, 8), (6, 10), (13, 10), (10, 13), (14, 13), (10, 17), (15, 19), (12, 4), (12, 10), (2, 12), (6, 12), (7, 15), (3, 18), (6, 11), (12, 11), (6, 13), (8, 13), (7, 18), (11, 16), (5, 9), (3, 15), (14, 8), (3, 16), (15, 16), (4, 7), (14, 11), (3, 9)]"
   ]
  },
  {
   "cell_type": "code",
   "execution_count": 6,
   "id": "268789a1",
   "metadata": {},
   "outputs": [],
   "source": [
    "bert_age_mask = [(0, 2), (4, 20), (6, 15), (8, 19), (13, 19)]\n",
    "roberta_age_mask = [(14, 6), (6, 15), (12, 22)]"
   ]
  },
  {
   "cell_type": "code",
   "execution_count": 37,
   "id": "0b5e5474",
   "metadata": {},
   "outputs": [],
   "source": [
    "bert_40_age = [(9, 14), (13, 13), (14, 13), (0, 17), (8, 14), (7, 12), (1, 14), (15, 11), (3, 14), (14, 23), (1, 8), (5, 12), (0, 8), (15, 13), (10, 0), (4, 15), (2, 0), (3, 7), (15, 9), (12, 7)]\n",
    "roberta_40_age = [(3, 15), (12, 4), (15, 19), (12, 10), (14, 6), (11, 16), (13, 10), (3, 16), (8, 13), (2, 12), (10, 13), (5, 9), (6, 10), (14, 13), (2, 8), (3, 9), (5, 10), (4, 10), (4, 7), (7, 15)]\n",
    "\n",
    "bert_40_mask = [(13, 19), (6, 15), (4, 20), (7, 21), (0, 2)]\n",
    "roberta_40_mask = [(6, 15), (10, 0), (3, 1)]"
   ]
  },
  {
   "cell_type": "code",
   "execution_count": 10,
   "id": "0739a795",
   "metadata": {},
   "outputs": [],
   "source": [
    "bert_obj_obj = [(11, 11), (3, 11), (8, 14), (10, 10), (7, 12), (1, 4), (9, 10), (3, 3), (12, 6), (14, 13)]\n",
    "roberta_obj_obj = [(1, 10), (8, 4), (3, 18), (5, 9), (2, 12), (14, 8), (6, 13), (13, 23), (1, 3), (4, 9)]\n",
    "\n",
    "# bert_obj_mask has one key with frequency 2\n",
    "roberta_obj_mask = [(10, 0)]"
   ]
  },
  {
   "cell_type": "code",
   "execution_count": 20,
   "id": "6f035fcb",
   "metadata": {},
   "outputs": [],
   "source": [
    "def evaluate(args, model, tokenizer, eval_dataset, num_heads_disabled=None):\n",
    "    eval_sampler = SequentialSampler(eval_dataset)\n",
    "    eval_dataloader = DataLoader(eval_dataset, sampler=eval_sampler, batch_size=args.per_device_eval_batch_size)\n",
    "\n",
    "    logger.info(f\"***** Running evaluation  *****\")\n",
    "    logger.info(f\"  Num examples = {len(eval_dataset)}\")\n",
    "    logger.info(f\"  Batch size = {args.eval_batch_size}\")\n",
    "    eval_dataloader = tqdm(eval_dataloader, desc=\"Evaluating\")\n",
    "    \n",
    "    print(tokenizer.mask_token)\n",
    "    MASK_ID = tokenizer.encode(tokenizer.mask_token, add_special_tokens=False)\n",
    "    assert len(MASK_ID) == 1\n",
    "    MASK_ID = MASK_ID[0]\n",
    "    if \"t5\" in args.model_name_or_path.lower():\n",
    "        LABELS = tokenizer(\"<extra_id_0>\", add_special_tokens=False, return_tensors=\"pt\")\n",
    "        LABELS = LABELS.input_ids#.cuda()  # from testing, \"blank\" can be any word and results are the same \n",
    "    \n",
    "    all_answers = []\n",
    "    all_preds = []\n",
    "    all_attentions = torch.zeros((model.config.num_hidden_layers, model.config.num_attention_heads))  # (24, 16) for BERT-large\n",
    "    \n",
    "    head_mask = torch.ones(model.config.num_hidden_layers, model.config.num_attention_heads)\n",
    "    if \"roberta\" in args.model_name_or_path.lower():\n",
    "        if num_heads_disabled is not None:\n",
    "            random_pairs = []\n",
    "            while len(random_pairs) < num_heads_disabled:\n",
    "                random_pair = (random.randint(0, model.config.num_attention_heads-1), random.randint(0, model.config.num_hidden_layers-1))\n",
    "                if random_pair not in random_pairs:\n",
    "                    random_pairs.append(random_pair)\n",
    "                    \n",
    "            for pair in random_pairs:\n",
    "                head_mask[pair[1], pair[0]] = 0\n",
    "        else:\n",
    "            for pair in roberta_obj_obj:\n",
    "                head_mask[pair[1], pair[0]] = 0\n",
    "    elif \"bert\" in args.model_name_or_path.lower():\n",
    "        if num_heads_disabled is not None:\n",
    "            random_pairs = []\n",
    "            while len(random_pairs) < num_heads_disabled:\n",
    "                random_pair = (random.randint(0, model.config.num_attention_heads-1), random.randint(0, model.config.num_hidden_layers-1))\n",
    "                if random_pair not in random_pairs:\n",
    "                    random_pairs.append(random_pair)\n",
    "                    \n",
    "            for pair in random_pairs:\n",
    "                head_mask[pair[1], pair[0]] = 0\n",
    "        else:\n",
    "            for pair in bert_obj_obj:\n",
    "                head_mask[pair[1], pair[0]] = 0\n",
    "    else:\n",
    "        assert False\n",
    "    \n",
    "    for batch in eval_dataloader:\n",
    "        model.eval()\n",
    "        \n",
    "        # batch[\"choice_list\"] is [num_choices, batch_size]\n",
    "        for i in range(len(batch[\"choice_list\"][0])):\n",
    "            all_answers.append(batch[\"choice_list\"][batch[\"answer_id\"][i]][i])\n",
    "        \n",
    "        choice_lists = batch.pop(\"choice_list\")\n",
    "        batch_len = len(batch[\"answer_id\"])\n",
    "        del batch[\"answer_id\"] \n",
    "        for key in batch:\n",
    "            batch[key] = torch.stack(batch[key], dim=-1)#.cuda()\n",
    "        \n",
    "        with torch.no_grad():\n",
    "            #if \"gpt\" not in args.model_name_or_path.lower():\n",
    "            if \"t5\" not in args.model_name_or_path.lower():\n",
    "                outputs = model(**batch, output_attentions=True, head_mask=head_mask)\n",
    "            else:\n",
    "                outputs = model(input_ids=batch[\"input_ids\"], decoder_input_ids=batch[\"input_ids\"])\n",
    "#                 BATCH_LABELS = LABELS.repeat(batch_len, 1)\n",
    "#                 outputs = model(input_ids=batch[\"input_ids\"], labels=BATCH_LABELS)\n",
    "            \n",
    "#             attentions = torch.stack(outputs.attentions) #[:,:,:,:-1, :-1]\n",
    "            \n",
    "#             for b in range(attentions.size()[1]):\n",
    "#                 #sep_ind = (batch[\"input_ids\"][b] == tokenizer.encode(tokenizer.sep_token, add_special_tokens=False)[0]).nonzero(as_tuple=True)[0].item()\n",
    "#                 sep_ind = (batch[\"input_ids\"][b] == tokenizer.encode(tokenizer.sep_token, add_special_tokens=False)[0]).nonzero(as_tuple=True)[0].item()\n",
    "#                 for seq_ind1 in range(attentions.size()[-1]):\n",
    "#                     for seq_ind2 in range(attentions.size()[-1]):\n",
    "#                         if seq_ind1 == sep_ind or seq_ind2 == sep_ind or seq_ind1 == 0 or seq_ind2 == 0:\n",
    "#                             attentions[:, b, :, seq_ind1, seq_ind2] = 0\n",
    "            \n",
    "#             maxes = torch.amax(attentions, dim=(3, 4))\n",
    "#             sums = torch.sum(maxes, dim=1)\n",
    "#             torch.add(all_attentions, sums, out=all_attentions)\n",
    "                \n",
    "            logits = outputs.logits\n",
    "            choice_ids = []\n",
    "            \n",
    "            for i, logit in enumerate(logits):  # Assuming all are single tokens\n",
    "                choice_ids = torch.tensor([tokenizer.encode(\" \" + choice_lists[j][i], add_special_tokens=False)[0] for j in range(len(choice_lists))])\n",
    "                if \"t5\" in args.model_name_or_path.lower():\n",
    "\n",
    "                    probs = logit[0].index_select(0, choice_ids)#.cuda()\n",
    "                else:\n",
    "                    MASK_INDEX = batch[\"input_ids\"][i].tolist().index(MASK_ID) \n",
    "                    probs = logit[MASK_INDEX].index_select(0, choice_ids)#.cuda())\n",
    "                \n",
    "                max_ind = torch.argmax(probs)\n",
    "                all_preds.append(choice_lists[max_ind][i])\n",
    "            #else:\n",
    "                \n",
    "#         else:\n",
    "#             with torch.no_grad():\n",
    "#                 outputs = model.generate(input_ids=batch[\"input_ids\"], \n",
    "#                           num_beams=200, num_return_sequences=20,\n",
    "#                           max_length=5)\n",
    "            \n",
    "#                 match = False\n",
    "#                 for seq in outputs:\n",
    "#                     if match:\n",
    "#                         break\n",
    "#                     for i, choice in enumerate(choice_lists):\n",
    "#                         choice_id = tokenizer.encode(choice[0], add_special_tokens=False)[0]\n",
    "#                         if choice_id in seq:\n",
    "#                             all_preds.append(choice[0])\n",
    "#                             match = True\n",
    "#                             break\n",
    "\n",
    "#                 if not match:\n",
    "#                     all_preds.append(-1)\n",
    "\n",
    "    torch.div(all_attentions, len(eval_dataloader) * args.per_device_eval_batch_size, out=all_attentions)\n",
    "    return all_answers, all_preds, all_attentions"
   ]
  },
  {
   "cell_type": "code",
   "execution_count": null,
   "id": "d4dc1b65",
   "metadata": {
    "scrolled": false
   },
   "outputs": [],
   "source": [
    "args = get_args()\n",
    "'''\n",
    "\"bert-base-uncased\"\n",
    "\"distilbert-base-uncased\"\n",
    "\"bert-large-uncased\"\n",
    "\"bert-large-uncased-whole-word-masking\" \n",
    "\"roberta-large\"\n",
    "\"facebook/bart-large\"\n",
    "\"t5-large\"\n",
    "\"albert-large-v1\"\n",
    "'''\n",
    "\n",
    "# args.model_name_or_path = \"bert-large-uncased-whole-word-masking\"\n",
    "# args.model_name_or_path = \"roberta-large\"\n",
    "args.model_name_or_path = \"t5-large\"\n",
    "transformers.set_seed(args.seed)\n",
    "if \"t5\" in args.model_name_or_path.lower():\n",
    "    model = transformers.T5ForConditionalGeneration.from_pretrained(args.model_name_or_path)#.cuda()\n",
    "#     args.per_device_eval_batch_size = 1\n",
    "    tokenizer = transformers.AutoTokenizer.from_pretrained(args.model_name_or_path)\n",
    "    tokenizer.mask_token = \"<extra_id_0>\"\n",
    "elif \"gpt\" in args.model_name_or_path.lower():\n",
    "    model = transformers.AutoModelForMaskedLM.from_pretrained(args.model_name_or_path)#.cuda()\n",
    "    args.per_device_eval_batch_size = 1\n",
    "    tokenizer = transformers.AutoTokenizer.from_pretrained(args.model_name_or_path)\n",
    "    tokenizer.mask_token = \"[MASK]\"\n",
    "else:\n",
    "    model = transformers.AutoModelForMaskedLM.from_pretrained(args.model_name_or_path)#.cuda()\n",
    "    tokenizer = transformers.AutoTokenizer.from_pretrained(args.model_name_or_path)"
   ]
  },
  {
   "cell_type": "code",
   "execution_count": 27,
   "id": "ca81746e",
   "metadata": {},
   "outputs": [
    {
     "name": "stderr",
     "output_type": "stream",
     "text": [
      "08/23/2021 10:44:28: Reading QA instances from jsonl dataset at: data/number_comparison_age_compare_masked_train.jsonl\n",
      "08/23/2021 10:44:28: Sampling 200 examples\n"
     ]
    },
    {
     "data": {
      "application/vnd.jupyter.widget-view+json": {
       "model_id": "933208edaeaa4c2184de7092a078eaa4",
       "version_major": 2,
       "version_minor": 0
      },
      "text/plain": [
       "  0%|          | 0/200 [00:00<?, ?it/s]"
      ]
     },
     "metadata": {},
     "output_type": "display_data"
    },
    {
     "name": "stderr",
     "output_type": "stream",
     "text": [
      "08/23/2021 10:44:28: Reading QA instances from jsonl dataset at: data/number_comparison_age_compare_masked_train.jsonl\n"
     ]
    },
    {
     "data": {
      "application/vnd.jupyter.widget-view+json": {
       "model_id": "78ffed46862742fe99dc9cb29724e055",
       "version_major": 2,
       "version_minor": 0
      },
      "text/plain": [
       "  0%|          | 0/4032 [00:00<?, ?it/s]"
      ]
     },
     "metadata": {},
     "output_type": "display_data"
    }
   ],
   "source": [
    "'''\n",
    "\"data/number_comparison_age_compare_masked_dev.jsonl\"\n",
    "\"data/coffee_cats_quantifiers_dev.jsonl\"\n",
    "\"data/size_comparison_dev.jsonl\"\n",
    "\"data/antonym_synonym_negation_dev.jsonl\"\n",
    "\"data/hypernym_conjunction_dev.jsonl\"\n",
    "'''\n",
    "# train_path = \"data/number_comparison_age_compare_masked_dev.jsonl\"\n",
    "train_path = \"data/number_comparison_age_compare_masked_train.jsonl\"\n",
    "# train_path = \"data/size_comparison_dev.jsonl\"\n",
    "# train_path = \"data/coffee_cats_quantifiers_dev.jsonl\"\n",
    "args.num_choices = 2\n",
    "eval_path = train_path #\"data/coffee_cats_quantifiers_dev.jsonl\"\n",
    "train_questions, train_choices, train_answer_ids = get_data(train_path, args.sample_train, args.num_choices)\n",
    "eval_questions, eval_choices, eval_answer_ids = get_data(eval_path, args.sample_eval, args.num_choices)\n",
    "AgeDataset = RoBERTaDataset if any(prefix in args.model_name_or_path.lower() for prefix in (\"roberta\", \"bart\", \"distil\", \"electra\", \"t5\")) else BERTDataset\n",
    "train_dataset = AgeDataset(train_questions, train_choices, train_answer_ids, tokenizer)\n",
    "eval_dataset = AgeDataset(eval_questions, eval_choices, eval_answer_ids, tokenizer)\n",
    "eval_dataset = AgeDataset(eval_questions[:500], eval_choices[:500], eval_answer_ids[:500], tokenizer)"
   ]
  },
  {
   "cell_type": "code",
   "execution_count": 28,
   "id": "7b6e8937",
   "metadata": {
    "scrolled": true
   },
   "outputs": [
    {
     "name": "stderr",
     "output_type": "stream",
     "text": [
      "08/23/2021 10:44:29: ***** Running evaluation  *****\n",
      "08/23/2021 10:44:29:   Num examples = 500\n",
      "08/23/2021 10:44:29:   Batch size = 8\n"
     ]
    },
    {
     "data": {
      "application/vnd.jupyter.widget-view+json": {
       "model_id": "ca5bd3419e08446b94fb5bff1aba3092",
       "version_major": 2,
       "version_minor": 0
      },
      "text/plain": [
       "Evaluating:   0%|          | 0/63 [00:00<?, ?it/s]"
      ]
     },
     "metadata": {},
     "output_type": "display_data"
    },
    {
     "name": "stdout",
     "output_type": "stream",
     "text": [
      "<mask>\n"
     ]
    },
    {
     "name": "stderr",
     "output_type": "stream",
     "text": [
      "08/23/2021 10:46:54: ***** Running evaluation  *****\n",
      "08/23/2021 10:46:54:   Num examples = 500\n",
      "08/23/2021 10:46:54:   Batch size = 8\n"
     ]
    },
    {
     "name": "stdout",
     "output_type": "stream",
     "text": [
      "0.956\n"
     ]
    },
    {
     "data": {
      "application/vnd.jupyter.widget-view+json": {
       "model_id": "0f86de289a70417b9f3ab22c5f8a4cc8",
       "version_major": 2,
       "version_minor": 0
      },
      "text/plain": [
       "Evaluating:   0%|          | 0/63 [00:00<?, ?it/s]"
      ]
     },
     "metadata": {},
     "output_type": "display_data"
    },
    {
     "name": "stdout",
     "output_type": "stream",
     "text": [
      "<mask>\n"
     ]
    },
    {
     "name": "stderr",
     "output_type": "stream",
     "text": [
      "08/23/2021 10:49:39: ***** Running evaluation  *****\n",
      "08/23/2021 10:49:39:   Num examples = 500\n",
      "08/23/2021 10:49:39:   Batch size = 8\n"
     ]
    },
    {
     "name": "stdout",
     "output_type": "stream",
     "text": [
      "0.982\n"
     ]
    },
    {
     "data": {
      "application/vnd.jupyter.widget-view+json": {
       "model_id": "26f4f76a09134b8b827cab88d501b2eb",
       "version_major": 2,
       "version_minor": 0
      },
      "text/plain": [
       "Evaluating:   0%|          | 0/63 [00:00<?, ?it/s]"
      ]
     },
     "metadata": {},
     "output_type": "display_data"
    },
    {
     "name": "stdout",
     "output_type": "stream",
     "text": [
      "<mask>\n",
      "0.996\n"
     ]
    }
   ],
   "source": [
    "for i in range(3):\n",
    "    all_answers, all_preds, all_attentions = evaluate(args, model, tokenizer, eval_dataset, 3)\n",
    "    print((np.array(all_answers) == np.array(all_preds)).mean())  # t5 - 0.494 for both age and size comparison"
   ]
  },
  {
   "cell_type": "code",
   "execution_count": 29,
   "id": "d4c4bf5a",
   "metadata": {},
   "outputs": [
    {
     "name": "stdout",
     "output_type": "stream",
     "text": [
      "97.8\n",
      "1.6573070526208076\n"
     ]
    }
   ],
   "source": [
    "# asdf = [88.8, 89.6, 88.6]\n",
    "# asdf = [7.2, 28.2, 36.2]  # BERT random 20\n",
    "# asdf = [43.4, 37.6, 38.8]  # BERT random 5\n",
    "asdf = [95.6, 98.2, 99.6]  # RoBERTa random 20\n",
    "# asdf = [43.4, 37.6, 38.8]  # RoBERTa random 3\n",
    "# asdf = [54, 58.4, 53.8]\n",
    "print(np.mean(asdf))\n",
    "print(np.std(asdf))"
   ]
  },
  {
   "cell_type": "code",
   "execution_count": 22,
   "id": "53257469",
   "metadata": {},
   "outputs": [
    {
     "name": "stdout",
     "output_type": "stream",
     "text": [
      "76.25999999999999\n",
      "5.37776905417107\n"
     ]
    }
   ],
   "source": [
    "bert_random_20_scores = [79.8, 74,72.8,70.6,75.8,74.4,77.2,68,84,86]\n",
    "print(np.mean(bert_random_20_scores))\n",
    "print(np.std(bert_random_20_scores))"
   ]
  },
  {
   "cell_type": "code",
   "execution_count": 21,
   "id": "d5ab1c6d",
   "metadata": {},
   "outputs": [
    {
     "name": "stdout",
     "output_type": "stream",
     "text": [
      "76.72\n",
      "3.4839058540666663\n"
     ]
    }
   ],
   "source": [
    "bert_random_5_scores = [78.8,71.4,77.6,74.4,81.4]\n",
    "print(np.mean(bert_random_5_scores))\n",
    "print(np.std(bert_random_5_scores))"
   ]
  },
  {
   "cell_type": "code",
   "execution_count": 60,
   "id": "f9602796",
   "metadata": {},
   "outputs": [
    {
     "name": "stdout",
     "output_type": "stream",
     "text": [
      "23.866666666666664\n",
      "12.22929088522943\n"
     ]
    }
   ],
   "source": [
    "bert_40_20_scores = [7.2,28.2,36.2]\n",
    "print(np.mean(bert_40_20_scores))\n",
    "print(np.std(bert_40_20_scores))"
   ]
  },
  {
   "cell_type": "code",
   "execution_count": 27,
   "id": "f29217e2",
   "metadata": {},
   "outputs": [
    {
     "name": "stdout",
     "output_type": "stream",
     "text": [
      "97.92\n",
      "1.149608629055991\n"
     ]
    }
   ],
   "source": [
    "roberta_random_3_scores = [96.2,98.2,99.6,97.2,98.4]\n",
    "print(np.mean(roberta_random_3_scores))\n",
    "print(np.std(roberta_random_3_scores))"
   ]
  },
  {
   "cell_type": "code",
   "execution_count": 29,
   "id": "ed1a0b4d",
   "metadata": {},
   "outputs": [
    {
     "name": "stdout",
     "output_type": "stream",
     "text": [
      "92.0\n",
      "8.64684913711347\n"
     ]
    }
   ],
   "source": [
    "roberta_random_20_scores = [77.4,97.8,98,86.8,100]\n",
    "print(np.mean(roberta_random_20_scores))\n",
    "print(np.std(roberta_random_20_scores))"
   ]
  },
  {
   "cell_type": "code",
   "execution_count": 73,
   "id": "5c1cd11d",
   "metadata": {},
   "outputs": [],
   "source": [
    "import pickle\n",
    "\n",
    "with open('roberta_confidences.pkl', 'wb') as f:\n",
    "    pickle.dump(all_attentions.T.tolist(), f)"
   ]
  },
  {
   "cell_type": "code",
   "execution_count": 13,
   "id": "fef2f6d1",
   "metadata": {},
   "outputs": [],
   "source": [
    "with open('roberta_confidences.pkl', 'rb') as f:\n",
    "    pkl_list = pickle.load(f)"
   ]
  },
  {
   "cell_type": "code",
   "execution_count": 16,
   "id": "164eb561",
   "metadata": {},
   "outputs": [],
   "source": [
    "pkl_arr = np.array(pkl_list)"
   ]
  },
  {
   "cell_type": "code",
   "execution_count": 25,
   "id": "5848be25",
   "metadata": {},
   "outputs": [],
   "source": [
    "def k_largest_index_argpartition(a, k):  # https://stackoverflow.com/questions/43386432/how-to-get-indexes-of-k-maximum-values-from-a-numpy-multidimensional-array\n",
    "    idx = np.argpartition(-a.ravel(),k)[:k]\n",
    "    return np.column_stack(np.unravel_index(idx, a.shape))"
   ]
  },
  {
   "cell_type": "code",
   "execution_count": 9,
   "id": "7aedd9e2",
   "metadata": {},
   "outputs": [
    {
     "data": {
      "text/plain": [
       "<matplotlib.colorbar.Colorbar at 0x126cd4af0>"
      ]
     },
     "execution_count": 9,
     "metadata": {},
     "output_type": "execute_result"
    },
    {
     "data": {
      "image/png": "[encoded data removed]",
      "text/plain": [
       "<Figure size 432x288 with 2 Axes>"
      ]
     },
     "metadata": {
      "needs_background": "light"
     },
     "output_type": "display_data"
    }
   ],
   "source": [
    "plt.title(f\"{args.model_name_or_path} \\n Confidence\")\n",
    "plt.xlabel(\"Layer\")\n",
    "plt.ylabel(\"Head\")\n",
    "plt.imshow(np.array(all_attentions.T.tolist()))\n",
    "plt.colorbar()\n",
    "#plt.savefig(f\"{args.model_name_or_path}_confidence.png\", bbox_inches=\"tight\")"
   ]
  },
  {
   "cell_type": "code",
   "execution_count": 10,
   "id": "06ffc47c",
   "metadata": {},
   "outputs": [
    {
     "data": {
      "text/plain": [
       "0.28"
      ]
     },
     "execution_count": 10,
     "metadata": {},
     "output_type": "execute_result"
    }
   ],
   "source": [
    "(np.array(all_answers) == np.array(all_preds)).mean()"
   ]
  },
  {
   "cell_type": "code",
   "execution_count": 35,
   "id": "0bebec05",
   "metadata": {},
   "outputs": [
    {
     "data": {
      "text/plain": [
       "[23115, 254]"
      ]
     },
     "execution_count": 35,
     "metadata": {},
     "output_type": "execute_result"
    }
   ],
   "source": [
    "tokenizer.encode(\"smaller\", add_special_tokens=False)"
   ]
  },
  {
   "cell_type": "code",
   "execution_count": 37,
   "id": "752c9094",
   "metadata": {},
   "outputs": [
    {
     "data": {
      "text/plain": [
       "'er'"
      ]
     },
     "execution_count": 37,
     "metadata": {},
     "output_type": "execute_result"
    }
   ],
   "source": [
    "tokenizer.decode(254)"
   ]
  },
  {
   "cell_type": "code",
   "execution_count": 9,
   "id": "7c1778cf",
   "metadata": {},
   "outputs": [],
   "source": [
    "a = 0\n",
    "b = 0\n",
    "for i in range(len(all_answers)):\n",
    "    if all_preds[i] != -1:\n",
    "        b += 1\n",
    "        if all_preds[i] == all_answers[i]:\n",
    "            a += 1"
   ]
  },
  {
   "cell_type": "code",
   "execution_count": 10,
   "id": "d296355e",
   "metadata": {},
   "outputs": [
    {
     "data": {
      "text/plain": [
       "0.47345132743362833"
      ]
     },
     "execution_count": 10,
     "metadata": {},
     "output_type": "execute_result"
    }
   ],
   "source": [
    "a/b"
   ]
  },
  {
   "cell_type": "code",
   "execution_count": 11,
   "id": "900c223e",
   "metadata": {},
   "outputs": [
    {
     "data": {
      "text/plain": [
       "0.7545909849749582"
      ]
     },
     "execution_count": 11,
     "metadata": {},
     "output_type": "execute_result"
    }
   ],
   "source": [
    "b/len(all_answers)"
   ]
  },
  {
   "cell_type": "code",
   "execution_count": 52,
   "id": "1ef19339",
   "metadata": {},
   "outputs": [
    {
     "ename": "NameError",
     "evalue": "name 'first_age' is not defined",
     "output_type": "error",
     "traceback": [
      "\u001b[0;31m---------------------------------------------------------------------------\u001b[0m",
      "\u001b[0;31mNameError\u001b[0m                                 Traceback (most recent call last)",
      "\u001b[0;32m<ipython-input-52-0f8db056a4a2>\u001b[0m in \u001b[0;36m<module>\u001b[0;34m\u001b[0m\n\u001b[0;32m----> 1\u001b[0;31m \u001b[0mplt\u001b[0m\u001b[0;34m.\u001b[0m\u001b[0mscatter\u001b[0m\u001b[0;34m(\u001b[0m\u001b[0mfirst_age\u001b[0m\u001b[0;34m,\u001b[0m \u001b[0msecond_age\u001b[0m\u001b[0;34m,\u001b[0m \u001b[0mc\u001b[0m\u001b[0;34m=\u001b[0m\u001b[0mall_preds\u001b[0m\u001b[0;34m,\u001b[0m \u001b[0mmarker\u001b[0m\u001b[0;34m=\u001b[0m\u001b[0;34m\"s\"\u001b[0m\u001b[0;34m)\u001b[0m\u001b[0;34m\u001b[0m\u001b[0;34m\u001b[0m\u001b[0m\n\u001b[0m\u001b[1;32m      2\u001b[0m \u001b[0mplt\u001b[0m\u001b[0;34m.\u001b[0m\u001b[0mtitle\u001b[0m\u001b[0;34m(\u001b[0m\u001b[0;34mf\"Age Comparison {args.model_name_or_path}\"\u001b[0m\u001b[0;34m)\u001b[0m\u001b[0;34m\u001b[0m\u001b[0;34m\u001b[0m\u001b[0m\n\u001b[1;32m      3\u001b[0m \u001b[0mplt\u001b[0m\u001b[0;34m.\u001b[0m\u001b[0maxis\u001b[0m\u001b[0;34m(\u001b[0m\u001b[0;34m\"square\"\u001b[0m\u001b[0;34m)\u001b[0m\u001b[0;34m\u001b[0m\u001b[0;34m\u001b[0m\u001b[0m\n\u001b[1;32m      4\u001b[0m \u001b[0mplt\u001b[0m\u001b[0;34m.\u001b[0m\u001b[0mxlabel\u001b[0m\u001b[0;34m(\u001b[0m\u001b[0;34m\"Age 1\"\u001b[0m\u001b[0;34m)\u001b[0m\u001b[0;34m\u001b[0m\u001b[0;34m\u001b[0m\u001b[0m\n\u001b[1;32m      5\u001b[0m \u001b[0mplt\u001b[0m\u001b[0;34m.\u001b[0m\u001b[0mylabel\u001b[0m\u001b[0;34m(\u001b[0m\u001b[0;34m\"Age 2\"\u001b[0m\u001b[0;34m)\u001b[0m\u001b[0;34m\u001b[0m\u001b[0;34m\u001b[0m\u001b[0m\n",
      "\u001b[0;31mNameError\u001b[0m: name 'first_age' is not defined"
     ]
    }
   ],
   "source": [
    "plt.scatter(first_age, second_age, c=all_preds, marker=\"s\")\n",
    "plt.title(f\"Age Comparison {args.model_name_or_path}\")\n",
    "plt.axis(\"square\")\n",
    "plt.xlabel(\"Age 1\")\n",
    "plt.ylabel(\"Age 2\")\n",
    "#plt.savefig(f\"imgs/{args.model_name_or_path.rsplit('/', 1)[-1]}-ages-double.jpg\", bbox_inches=\"tight\")\n",
    "plt.show()"
   ]
  },
  {
   "cell_type": "code",
   "execution_count": 107,
   "id": "7d378ad4",
   "metadata": {},
   "outputs": [],
   "source": [
    "embeds = np.empty((80, 1024))\n",
    "for age in range(20, 80):\n",
    "    #input_id = tokenizer.encode(f\" {age}\", add_special_tokens=False)\n",
    "    input_id = tokenizer.encode(f\"{age}\", add_special_tokens=False)\n",
    "    assert len(input_id) == 1\n",
    "    #embeds[age - 20] = model.roberta.embeddings.word_embeddings(torch.tensor(input_id)).detach()\n",
    "    embeds[age - 20] = model.bert.embeddings.word_embeddings(torch.tensor(input_id)).detach()\n",
    "    \n",
    "random_words = [\"dismissal\", \"leader\", \"relaxation\", \"Bible\", \"survivor\", \"swim\", \"contradiction\", \"complain\", \"inquiry\", \"lion\", \"world\", \"cigarette\", \"doctor\", \"emphasis\", \"motorcycle\", \"democratic\", \"welfare\", \"conventional\", \"die\", \"gas\"]\n",
    "for i, word in enumerate(random_words):\n",
    "    #input_id = tokenizer.encode(f\" {word}\", add_special_tokens=False)\n",
    "    input_id = tokenizer.encode(f\"{word}\", add_special_tokens=False)\n",
    "    assert len(input_id) == 1\n",
    "    #embeds[60 + i] = model.roberta.embeddings.word_embeddings(torch.tensor(input_id)).detach()\n",
    "    embeds[60 + i] = model.bert.embeddings.word_embeddings(torch.tensor(input_id)).detach()"
   ]
  },
  {
   "cell_type": "code",
   "execution_count": 108,
   "id": "188c2b38",
   "metadata": {},
   "outputs": [
    {
     "data": {
      "text/plain": [
       "array([[-0.01035529,  0.03517554,  0.00320891, ..., -0.02663885,\n",
       "         0.00429494, -0.01093527],\n",
       "       [ 0.00719996,  0.05101202,  0.01818159, ..., -0.03738092,\n",
       "         0.02962709, -0.02694976],\n",
       "       [ 0.01124011,  0.02021734,  0.01298556, ..., -0.06276181,\n",
       "         0.01202204,  0.00210404],\n",
       "       ...,\n",
       "       [-0.03775964,  0.0051798 ,  0.03141473, ..., -0.04463494,\n",
       "        -0.02556634,  0.07584442],\n",
       "       [-0.05155059, -0.02718926,  0.01952895, ...,  0.01727759,\n",
       "         0.01854797,  0.03472063],\n",
       "       [-0.00671914, -0.01403439, -0.04678096, ..., -0.06022274,\n",
       "        -0.00647926, -0.02847613]])"
      ]
     },
     "execution_count": 108,
     "metadata": {},
     "output_type": "execute_result"
    }
   ],
   "source": [
    "embeds"
   ]
  },
  {
   "cell_type": "code",
   "execution_count": 25,
   "id": "fe796f58",
   "metadata": {},
   "outputs": [],
   "source": [
    "from sklearn.decomposition import PCA"
   ]
  },
  {
   "cell_type": "code",
   "execution_count": 109,
   "id": "db6349e5",
   "metadata": {},
   "outputs": [],
   "source": [
    "pca = PCA(n_components=2)"
   ]
  },
  {
   "cell_type": "code",
   "execution_count": 110,
   "id": "489267fe",
   "metadata": {},
   "outputs": [],
   "source": [
    "mapped_embeds = pca.fit_transform(embeds)"
   ]
  },
  {
   "cell_type": "code",
   "execution_count": 112,
   "id": "865d296f",
   "metadata": {},
   "outputs": [
    {
     "data": {
      "image/png": "[encoded data removed]",
      "text/plain": [
       "<Figure size 2304x1440 with 1 Axes>"
      ]
     },
     "metadata": {
      "needs_background": "light"
     },
     "output_type": "display_data"
    }
   ],
   "source": [
    "fig, ax = plt.subplots(figsize=(32,20))\n",
    "ax.scatter(mapped_embeds[:, 0], mapped_embeds[:, 1])\n",
    "\n",
    "for i in range(20, 80):\n",
    "    ax.annotate(i, tuple(mapped_embeds[i-20]))\n",
    "    \n",
    "for i in range(60, 80):\n",
    "    ax.annotate(random_words[i-60], tuple(mapped_embeds[i]))\n",
    "    \n",
    "plt.savefig(\"20-30_Vis/pca-bert.png\")"
   ]
  },
  {
   "cell_type": "code",
   "execution_count": 62,
   "id": "8a961e7a",
   "metadata": {},
   "outputs": [],
   "source": [
    "from sklearn.manifold import TSNE"
   ]
  },
  {
   "cell_type": "code",
   "execution_count": 126,
   "id": "9b2c169d",
   "metadata": {},
   "outputs": [],
   "source": [
    "tsne_embeds = TSNE(n_components=2, perplexity=15).fit_transform(embeds) # perplexity=15"
   ]
  },
  {
   "cell_type": "code",
   "execution_count": 127,
   "id": "63a4d778",
   "metadata": {},
   "outputs": [
    {
     "data": {
      "image/png": "[encoded data removed]",
      "text/plain": [
       "<Figure size 2304x1440 with 1 Axes>"
      ]
     },
     "metadata": {
      "needs_background": "light"
     },
     "output_type": "display_data"
    }
   ],
   "source": [
    "fig, ax = plt.subplots(figsize=(32,20))\n",
    "ax.scatter(tsne_embeds[:, 0], tsne_embeds[:, 1])\n",
    "\n",
    "for i in range(20, 80):\n",
    "    ax.annotate(i, tuple(tsne_embeds[i-20]))\n",
    "    \n",
    "for i in range(60, 80):\n",
    "    ax.annotate(random_words[i-60], tuple(tsne_embeds[i]))\n",
    "    \n",
    "#plt.plot([-20, 100], [40, -35], c=\"red\")\n",
    "#plt.savefig(\"20-30_Vis/tsne2.png\")"
   ]
  },
  {
   "cell_type": "code",
   "execution_count": null,
   "id": "290412b6",
   "metadata": {},
   "outputs": [],
   "source": []
  }
 ],
 "metadata": {
  "kernelspec": {
   "display_name": "Python 3",
   "language": "python",
   "name": "python3"
  },
  "language_info": {
   "codemirror_mode": {
    "name": "ipython",
    "version": 3
   },
   "file_extension": ".py",
   "mimetype": "text/x-python",
   "name": "python",
   "nbconvert_exporter": "python",
   "pygments_lexer": "ipython3",
   "version": "3.9.5"
  }
 },
 "nbformat": 4,
 "nbformat_minor": 5
}
