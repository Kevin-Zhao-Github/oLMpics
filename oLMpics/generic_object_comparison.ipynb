{
 "cells": [
  {
   "cell_type": "code",
   "execution_count": 2,
   "id": "e163e358",
   "metadata": {},
   "outputs": [],
   "source": [
    "import argparse\n",
    "from dataclasses import dataclass\n",
    "import json\n",
    "import logging\n",
    "import math\n",
    "import os\n",
    "import random\n",
    "import sys\n",
    "import time\n",
    "import warnings\n",
    "\n",
    "import matplotlib.pyplot as plt\n",
    "import numpy as np\n",
    "import torch\n",
    "import torch.nn as nn\n",
    "import torch.nn.functional as F\n",
    "from torch.utils.data import Dataset, DataLoader, RandomSampler, SequentialSampler\n",
    "\n",
    "import transformers\n",
    "import wandb\n",
    "from tqdm.auto import tqdm, trange\n",
    "\n",
    "\n",
    "logger = logging.getLogger(__name__)\n",
    "logging.basicConfig(\n",
    "    format=\"%(asctime)s: %(message)s\",\n",
    "    datefmt=\"%m/%d/%Y %H:%M:%S\",\n",
    "    level=logging.INFO,\n",
    ")"
   ]
  },
  {
   "cell_type": "code",
   "execution_count": 3,
   "id": "64aee282",
   "metadata": {},
   "outputs": [],
   "source": [
    "@dataclass\n",
    "class CustomArguments(transformers.TrainingArguments):\n",
    "    sample_train: int = 0\n",
    "    sample_eval: int = 0\n",
    "    num_choices: int = 0\n",
    "    model_name_or_path: str = \"asdf\"  # this is no longer a TrainingArgument attribute\n",
    "        \n",
    "    # python dataclasses cannot have positional attributes in subclass,\n",
    "    # so give all attributes defaults and then make sure they are changed\n",
    "    def __post_init__(self):\n",
    "        if not (self.sample_train * self.sample_eval * self.num_choices) or \\\n",
    "               self.model_name_or_path == \"asdf\":  # make sure none are still default value\n",
    "            raise TypeError(\"__init__ missing required argument(s)\")\n",
    "\n",
    "def get_args():\n",
    "    \"\"\" Set hyperparameters \"\"\"\n",
    "    args = CustomArguments(\n",
    "        output_dir=\"checkpoint\",\n",
    "        model_name_or_path=\"roberta-base\",\n",
    "        overwrite_output_dir=True,\n",
    "        do_train=False,  # Zero shot\n",
    "        do_eval=True,\n",
    "        per_device_eval_batch_size=8,\n",
    "        learning_rate=1e-5,  # Should not matter because not training\n",
    "        weight_decay=0.1,\n",
    "        save_total_limit=2,\n",
    "        seed=123,\n",
    "        sample_train=200,\n",
    "        sample_eval=-1,\n",
    "        num_choices=2,\n",
    "    )\n",
    "    \n",
    "    return args"
   ]
  },
  {
   "cell_type": "code",
   "execution_count": 12,
   "id": "d4dc1b65",
   "metadata": {
    "scrolled": true
   },
   "outputs": [],
   "source": [
    "args = get_args()\n",
    "'''\n",
    "\"bert-base-uncased\"\n",
    "\"distilbert-base-uncased\"\n",
    "\"bert-large-uncased\"\n",
    "\"bert-large-uncased-whole-word-masking\" \n",
    "\"roberta-large\"\n",
    "\"facebook/bart-large\"\n",
    "\"t5-large\"\n",
    "\"albert-large-v1\"\n",
    "'''\n",
    "\n",
    "args.model_name_or_path = \"albert-large-v1\"\n",
    "args.num_choices = 2\n",
    "transformers.set_seed(args.seed)\n",
    "if \"t5\" in args.model_name_or_path.lower():\n",
    "    model = transformers.T5ForConditionalGeneration.from_pretrained(args.model_name_or_path).cuda()\n",
    "    args.per_device_eval_batch_size = 1\n",
    "    tokenizer = transformers.AutoTokenizer.from_pretrained(args.model_name_or_path)\n",
    "    tokenizer.mask_token = \"<extra_id_0>\"\n",
    "else:\n",
    "    model = transformers.AutoModelForMaskedLM.from_pretrained(args.model_name_or_path).cuda()\n",
    "    tokenizer = transformers.AutoTokenizer.from_pretrained(args.model_name_or_path)"
   ]
  },
  {
   "cell_type": "code",
   "execution_count": 7,
   "id": "b24522d7",
   "metadata": {},
   "outputs": [
    {
     "data": {
      "text/plain": [
       "[2735]"
      ]
     },
     "execution_count": 7,
     "metadata": {},
     "output_type": "execute_result"
    }
   ],
   "source": [
    "tokenizer.encode(\" smaller\", add_special_tokens=False)"
   ]
  },
  {
   "cell_type": "code",
   "execution_count": 13,
   "id": "b6a1ac18",
   "metadata": {},
   "outputs": [
    {
     "name": "stdout",
     "output_type": "stream",
     "text": [
      "[MASK]\n"
     ]
    }
   ],
   "source": [
    "print(tokenizer.mask_token)\n",
    "MASK_ID = tokenizer.encode(tokenizer.mask_token, add_special_tokens=False)\n",
    "SMALL_ID = tokenizer.encode(\"smaller\", add_special_tokens=False)\n",
    "LARGE_ID = tokenizer.encode(\"larger\", add_special_tokens=False)\n",
    "#assert len(SMALL_ID) == 1 and len(LARGE_ID) == 1 and len(MASK_ID) == 1\n",
    "SMALL_ID = SMALL_ID[0]\n",
    "LARGE_ID = LARGE_ID[0]\n",
    "MASK_ID = MASK_ID[0]\n",
    "\n",
    "if \"t5\" in args.model_name_or_path.lower():\n",
    "    LABELS = tokenizer(\"<extra_id_0> blank <extra_id_1> </s>\", add_special_tokens=False, return_tensors=\"pt\")\n",
    "    LABELS = LABELS.input_ids.cuda()  # from testing, \"blank\" can be any word and results are the same \n",
    "\n",
    "objects = [\"nail\", \"pen\", \"laptop\", \"table\", \"house\", \"airplane\", \"city\", \"sun\"]\n",
    "preds = np.zeros([len(objects), len(objects)])\n",
    "model.eval()\n",
    "for i, object1 in enumerate(objects):\n",
    "    for j, object2 in enumerate(objects):\n",
    "        if i != j:\n",
    "            sentence = f\"The size of a {object1} is usually much {tokenizer.mask_token} than the size of a {object2} .\"\n",
    "            input_ids = tokenizer(sentence, return_tensors=\"pt\").input_ids.cuda()\n",
    "            if \"t5\" not in args.model_name_or_path.lower():\n",
    "                outputs = model(input_ids=input_ids)\n",
    "            else:\n",
    "                outputs = model(input_ids=input_ids, labels=LABELS)\n",
    "                \n",
    "            logits = outputs.logits\n",
    "            \n",
    "            if \"t5\" not in args.model_name_or_path.lower():\n",
    "                MASK_INDEX = input_ids[0].tolist().index(MASK_ID)\n",
    "            else:\n",
    "                MASK_INDEX = 1  # TODO: not hardcode\n",
    "            \n",
    "#             if logits[0, MASK_INDEX, SMALL_ID] < logits[0, MASK_INDEX, LARGE_ID]:\n",
    "#                 preds[j][i] = 0\n",
    "#             else:\n",
    "#                 preds[j][i] = 2\n",
    "            preds[j][i] = logits[0, MASK_INDEX, LARGE_ID] - logits[0, MASK_INDEX, SMALL_ID]"
   ]
  },
  {
   "cell_type": "code",
   "execution_count": 14,
   "id": "1ef19339",
   "metadata": {},
   "outputs": [
    {
     "data": {
      "image/png": "[encoded data removed]",
      "text/plain": [
       "<Figure size 432x288 with 2 Axes>"
      ]
     },
     "metadata": {
      "needs_background": "light"
     },
     "output_type": "display_data"
    }
   ],
   "source": [
    "fig, ax = plt.subplots(1, 1)\n",
    "if -preds.min() > preds.max():\n",
    "    im = plt.imshow(preds, cmap=\"bwr\", vmin=preds.min(), vmax=-preds.min())\n",
    "else:\n",
    "    im = plt.imshow(preds, cmap=\"bwr\", vmin=-preds.max(), vmax=preds.max())\n",
    "plt.title(f\"Object Comparison {args.model_name_or_path}\")\n",
    "plt.xticks(rotation=90)\n",
    "ax.set_xticks(np.arange(len(objects)))\n",
    "ax.set_yticks(np.arange(len(objects)))\n",
    "ax.set_xticklabels(objects)\n",
    "ax.set_yticklabels(objects)\n",
    "c = plt.colorbar(im)\n",
    "c.set_label(\"{large_prob} - {small_prob}\", labelpad=15, rotation=270)\n",
    "plt.xlabel(\"Object 1\")\n",
    "plt.ylabel(\"Object 2\")\n",
    "plt.savefig(f\"imgs/{args.model_name_or_path.rsplit('/', 1)[-1]}-object-comparison.jpg\", bbox_inches=\"tight\")\n",
    "plt.show()"
   ]
  },
  {
   "cell_type": "code",
   "execution_count": null,
   "id": "e781b7dc",
   "metadata": {},
   "outputs": [],
   "source": []
  }
 ],
 "metadata": {
  "kernelspec": {
   "display_name": "Python 3",
   "language": "python",
   "name": "python3"
  },
  "language_info": {
   "codemirror_mode": {
    "name": "ipython",
    "version": 3
   },
   "file_extension": ".py",
   "mimetype": "text/x-python",
   "name": "python",
   "nbconvert_exporter": "python",
   "pygments_lexer": "ipython3",
   "version": "3.9.5"
  }
 },
 "nbformat": 4,
 "nbformat_minor": 5
}
