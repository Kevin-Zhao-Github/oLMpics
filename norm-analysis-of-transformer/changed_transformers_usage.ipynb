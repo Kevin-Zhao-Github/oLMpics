{
 "cells": [
  {
   "cell_type": "markdown",
   "metadata": {},
   "source": [
    "# Basic usage of modified transformers library (modification have been done only for BERT)"
   ]
  },
  {
   "cell_type": "markdown",
   "metadata": {},
   "source": [
    "## Install the changed library (only first once)"
   ]
  },
  {
   "cell_type": "markdown",
   "metadata": {},
   "source": [
    "1. move into the modified library\n",
    "> $ cd transformers\n",
    "\n",
    "1. install using pip (I recommend editable mode (-e option).)\n",
    "> $ pip install -e .\n",
    "\n",
    "1. please install pytorch (https://pytorch.org/) \\\n",
    " e.g., \n",
    " > $ pip install torch torchvision"
   ]
  },
  {
   "cell_type": "markdown",
   "metadata": {},
   "source": [
    "## Usage"
   ]
  },
  {
   "cell_type": "code",
   "execution_count": 1,
   "metadata": {},
   "outputs": [],
   "source": [
    "import torch\n",
    "from transformers import BertModel, BertTokenizer, RobertaModel, RobertaTokenizer\n",
    "\n",
    "device = \"cuda\" if torch.cuda.is_available() else \"cpu\""
   ]
  },
  {
   "cell_type": "code",
   "execution_count": 2,
   "metadata": {},
   "outputs": [
    {
     "name": "stdout",
     "output_type": "stream",
     "text": [
      "['[CLS]', 'a', '41', 'year', 'old', 'person', 'age', 'is', '[MASK]', 'than', 'a', '42', 'year', 'old', 'person', '.', '[SEP]']\n"
     ]
    }
   ],
   "source": [
    "# Load pretrained model/tokenizer\n",
    "model_name = \"bert-large-uncased-whole-word-masking\"\n",
    "tokenizer = BertTokenizer.from_pretrained(model_name)\n",
    "model = BertModel.from_pretrained(model_name).to(device)\n",
    "# tokenizer = RobertaTokenizer.from_pretrained(model_name)\n",
    "# model = RobertaModel.from_pretrained(model_name).to(device)\n",
    "model.eval()\n",
    "\n",
    "# Tokenize text and convert to ids. \n",
    "input_ids = torch.tensor([tokenizer.encode(\"A 41 year old person age is [MASK] than a 42 year old person .\", add_special_tokens=True)]).to(device)\n",
    "#input_ids = torch.tensor([tokenizer.encode(\"A 41 year old person age is <mask> than a 42 year old person .\", add_special_tokens=True)]).to(device)\n",
    "#input_ids = torch.tensor([tokenizer.encode(\"The size of a feather is usually much <mask> than the size of a nail .\", add_special_tokens=True)]).to(device)\n",
    "tokenized_text = tokenizer.convert_ids_to_tokens(input_ids[0])\n",
    "print(tokenized_text)"
   ]
  },
  {
   "cell_type": "code",
   "execution_count": 3,
   "metadata": {},
   "outputs": [],
   "source": [
    "# If you want to extract vector norms (i.e., ||f(x)||, ||αf(x)||, ||Σαf(x)||), please set the argument \"output_norms\" to True.\n",
    "with torch.no_grad():\n",
    "    last_hidden_state, pooler_output, hidden_states, attentions, norms = model(input_ids=input_ids, output_hidden_states=True, output_attentions=True, output_norms=True)"
   ]
  },
  {
   "cell_type": "code",
   "execution_count": 4,
   "metadata": {},
   "outputs": [
    {
     "name": "stdout",
     "output_type": "stream",
     "text": [
      "<class 'tuple'>\n",
      "24\n"
     ]
    }
   ],
   "source": [
    "# Returned variable \"norms\" is a tuple which has 12 elements (equal to the number of layers).\n",
    "print(type(norms))\n",
    "print(len(norms))"
   ]
  },
  {
   "cell_type": "code",
   "execution_count": 5,
   "metadata": {},
   "outputs": [
    {
     "name": "stdout",
     "output_type": "stream",
     "text": [
      "<class 'tuple'>\n",
      "3\n"
     ]
    }
   ],
   "source": [
    "# Each element is a tuple which consists of 3 elements: ||f(x)||, ||αf(x)||, and ||Σαf(x)||.\n",
    "layer = 5\n",
    "print(type(norms[layer-1]))\n",
    "print(len(norms[layer-1]))\n",
    "\n",
    "fx_norm, afx_norm, summed_afx_norm = norms[layer-1]"
   ]
  },
  {
   "cell_type": "code",
   "execution_count": 6,
   "metadata": {},
   "outputs": [
    {
     "name": "stdout",
     "output_type": "stream",
     "text": [
      "shape of ||f(x)||: torch.Size([1, 16, 17])\n"
     ]
    }
   ],
   "source": [
    "# shape of fx_norm (||f(x)||) is (batch, num_heads, seq_length)\n",
    "print(\"shape of ||f(x)||:\", fx_norm.size())"
   ]
  },
  {
   "cell_type": "code",
   "execution_count": 7,
   "metadata": {},
   "outputs": [
    {
     "name": "stdout",
     "output_type": "stream",
     "text": [
      "shape of ||αf(x)||: torch.Size([1, 16, 17, 17])\n"
     ]
    }
   ],
   "source": [
    "# shape of afx_norm (||αf(x)||) is (batch, num_heads, seq_length, seq_length)\n",
    "print(\"shape of ||αf(x)||:\", afx_norm.size())"
   ]
  },
  {
   "cell_type": "code",
   "execution_count": 8,
   "metadata": {},
   "outputs": [
    {
     "name": "stdout",
     "output_type": "stream",
     "text": [
      "shape of ||Σαf(x)||: torch.Size([1, 17, 17])\n"
     ]
    }
   ],
   "source": [
    "# shape of summed_afx_norm (||Σαf(x)||) is (batch, seq_length, seq_length)\n",
    "print(\"shape of ||Σαf(x)||:\", summed_afx_norm.size())"
   ]
  },
  {
   "cell_type": "markdown",
   "metadata": {},
   "source": [
    "## Comparison with attention weight"
   ]
  },
  {
   "cell_type": "code",
   "execution_count": 13,
   "metadata": {},
   "outputs": [],
   "source": [
    "import seaborn as sns\n",
    "import pandas as pd\n",
    "import numpy as np\n",
    "import matplotlib.pyplot as plt\n",
    "\n",
    "# Set the layer and head you want to check. (layer: 1~12, head: 1~12)\n",
    "\n",
    "layer = 7\n",
    "head = 5"
   ]
  },
  {
   "cell_type": "markdown",
   "metadata": {},
   "source": [
    "### Attention weight visualization (Head-level visualization)"
   ]
  },
  {
   "cell_type": "code",
   "execution_count": 28,
   "metadata": {},
   "outputs": [
    {
     "data": {
      "image/png": "[encoded data removed]",
      "text/plain": [
       "<Figure size 432x288 with 2 Axes>"
      ]
     },
     "metadata": {
      "needs_background": "light"
     },
     "output_type": "display_data"
    }
   ],
   "source": [
    "plt.figure() \n",
    "attention = attentions[layer-1][0][head-1].cpu().numpy()\n",
    "df = pd.DataFrame(attention,columns=tokenized_text,index=tokenized_text)\n",
    "sns.heatmap(df,cmap=\"Reds\",square=True)\n",
    "plt.gcf().subplots_adjust(bottom=0.2)"
   ]
  },
  {
   "cell_type": "markdown",
   "metadata": {},
   "source": [
    "### Norm of the weighted vectors (||αf(x)||) visualization (Head-level visualization)"
   ]
  },
  {
   "cell_type": "code",
   "execution_count": 9,
   "metadata": {},
   "outputs": [],
   "source": [
    "from tqdm.auto import tqdm"
   ]
  },
  {
   "cell_type": "code",
   "execution_count": 10,
   "metadata": {},
   "outputs": [],
   "source": [
    "layer2head = {2: [2, 3], 3: [12], 5: [2], 6: [6], 12: [3], 13: [4], 15: [8], 16: [0, 8], 17: [2, 5, 10]}"
   ]
  },
  {
   "cell_type": "code",
   "execution_count": 22,
   "metadata": {},
   "outputs": [
    {
     "data": {
      "application/vnd.jupyter.widget-view+json": {
       "model_id": "2b39b600c2f54ac0b630f29d1d11db7f",
       "version_major": 2,
       "version_minor": 0
      },
      "text/plain": [
       "  0%|          | 0/24 [00:00<?, ?it/s]"
      ]
     },
     "metadata": {},
     "output_type": "display_data"
    }
   ],
   "source": [
    "num_heads = model.config.num_attention_heads\n",
    "num_layers = model.config.num_hidden_layers\n",
    "#fig, axes = plt.subplots(num_layers, num_heads)\n",
    "#fig = plt.figure()\n",
    "#fig.suptitle(f\"BERT-Large-WWM Attention Norms\")\n",
    "fig = plt.figure() #plt.figure(figsize=(16, 12)) \n",
    "fig.set_figheight(120)\n",
    "fig.set_figwidth(160)\n",
    "#plt.rcParams[\"figure.figsize\"] = (15 * num_layers, 15 * num_heads)\n",
    "for layer in tqdm(range(num_layers)):\n",
    "    for head in range(num_heads):\n",
    "        plt.subplot(num_heads, num_layers, num_layers * head + layer + 1)\n",
    "        if (layer == 0) or (layer == 23) or ((layer in layer2head) and (head in layer2head[layer])):\n",
    "            afx_norm = norms[layer][1]\n",
    "            norm = afx_norm[0][head].cpu().numpy()\n",
    "            df = pd.DataFrame(norm,columns=tokenized_text,index=tokenized_text)\n",
    "            sns.heatmap(df,cmap=\"Reds\",square=True)\n",
    "            plt.gcf().subplots_adjust(bottom=0.2)\n",
    "        \n",
    "plt.savefig(f\"{model_name}-attention-important_all.png\", bbox_inches=\"tight\")\n",
    "plt.close(fig)"
   ]
  },
  {
   "cell_type": "code",
   "execution_count": null,
   "metadata": {},
   "outputs": [],
   "source": [
    "len(axes[0])"
   ]
  },
  {
   "cell_type": "code",
   "execution_count": 11,
   "metadata": {},
   "outputs": [
    {
     "data": {
      "image/png": "[encoded data removed]",
      "text/plain": [
       "<Figure size 432x288 with 2 Axes>"
      ]
     },
     "metadata": {
      "needs_background": "light"
     },
     "output_type": "display_data"
    }
   ],
   "source": [
    "plt.figure() \n",
    "afx_norm = norms[layer-1][1]\n",
    "norm = afx_norm[0][head-1].cpu().numpy()\n",
    "df = pd.DataFrame(norm,columns=tokenized_text,index=tokenized_text)\n",
    "sns.heatmap(df,cmap=\"Reds\",square=True)\n",
    "plt.gcf().subplots_adjust(bottom=0.2)"
   ]
  },
  {
   "cell_type": "markdown",
   "metadata": {},
   "source": [
    "### Attention weight visualization (Layer-level visualization)"
   ]
  },
  {
   "cell_type": "code",
   "execution_count": 12,
   "metadata": {},
   "outputs": [
    {
     "data": {
      "image/png": "[encoded data removed]",
      "text/plain": [
       "<Figure size 432x288 with 2 Axes>"
      ]
     },
     "metadata": {
      "needs_background": "light"
     },
     "output_type": "display_data"
    }
   ],
   "source": [
    "plt.figure() \n",
    "attention = attentions[layer-1][0].mean(0).cpu().numpy()\n",
    "df = pd.DataFrame(attention,columns=tokenized_text,index=tokenized_text)\n",
    "sns.heatmap(df,cmap=\"Reds\",square=True)\n",
    "plt.gcf().subplots_adjust(bottom=0.2)"
   ]
  },
  {
   "cell_type": "markdown",
   "metadata": {},
   "source": [
    "### Norm of the summed weighted vectors (||Σ αf(x)||) visualization (Layer-level visualization)"
   ]
  },
  {
   "cell_type": "code",
   "execution_count": 13,
   "metadata": {},
   "outputs": [
    {
     "data": {
      "image/png": "[encoded data removed]",
      "text/plain": [
       "<Figure size 432x288 with 2 Axes>"
      ]
     },
     "metadata": {
      "needs_background": "light"
     },
     "output_type": "display_data"
    }
   ],
   "source": [
    "plt.figure() \n",
    "summed_afx_norm = norms[layer-1][2]\n",
    "norm = summed_afx_norm[0].cpu().numpy()\n",
    "df = pd.DataFrame(norm,columns=tokenized_text,index=tokenized_text)\n",
    "sns.heatmap(df,cmap=\"Reds\",square=True)\n",
    "plt.gcf().subplots_adjust(bottom=0.2)"
   ]
  },
  {
   "cell_type": "code",
   "execution_count": null,
   "metadata": {},
   "outputs": [],
   "source": []
  },
  {
   "cell_type": "code",
   "execution_count": null,
   "metadata": {},
   "outputs": [],
   "source": []
  }
 ],
 "metadata": {
  "kernelspec": {
   "display_name": "Python 3",
   "language": "python",
   "name": "python3"
  },
  "language_info": {
   "codemirror_mode": {
    "name": "ipython",
    "version": 3
   },
   "file_extension": ".py",
   "mimetype": "text/x-python",
   "name": "python",
   "nbconvert_exporter": "python",
   "pygments_lexer": "ipython3",
   "version": "3.7.10"
  }
 },
 "nbformat": 4,
 "nbformat_minor": 4
}
