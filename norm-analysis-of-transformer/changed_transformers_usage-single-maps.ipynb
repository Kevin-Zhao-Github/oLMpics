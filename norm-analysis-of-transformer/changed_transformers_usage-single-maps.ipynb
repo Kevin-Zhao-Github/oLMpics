{
 "cells": [
  {
   "cell_type": "markdown",
   "metadata": {},
   "source": [
    "# Basic usage of modified transformers library (modification have been done only for BERT)"
   ]
  },
  {
   "cell_type": "markdown",
   "metadata": {},
   "source": [
    "## Install the changed library (only first once)"
   ]
  },
  {
   "cell_type": "markdown",
   "metadata": {},
   "source": [
    "1. move into the modified library\n",
    "> $ cd transformers\n",
    "\n",
    "1. install using pip (I recommend editable mode (-e option).)\n",
    "> $ pip install -e .\n",
    "\n",
    "1. please install pytorch (https://pytorch.org/) \\\n",
    " e.g., \n",
    " > $ pip install torch torchvision"
   ]
  },
  {
   "cell_type": "markdown",
   "metadata": {},
   "source": [
    "## Usage"
   ]
  },
  {
   "cell_type": "code",
   "execution_count": 1,
   "metadata": {},
   "outputs": [],
   "source": [
    "import torch\n",
    "from transformers import BertModel, BertTokenizer, RobertaModel, RobertaTokenizer, BartModel, BartTokenizer, BartConfig, T5Model, T5Tokenizer\n",
    "import seaborn as sns\n",
    "import pandas as pd\n",
    "import numpy as np\n",
    "import matplotlib.pyplot as plt\n",
    "from tqdm.auto import tqdm\n",
    "\n",
    "device = \"cuda\" if torch.cuda.is_available() else \"cpu\""
   ]
  },
  {
   "cell_type": "code",
   "execution_count": 2,
   "metadata": {},
   "outputs": [
    {
     "name": "stderr",
     "output_type": "stream",
     "text": [
      "Some weights of T5Model were not initialized from the model checkpoint at t5-large and are newly initialized: ['encoder.embed_tokens.weight', 'encoder.block.0.layer.0.output.dense.weight', 'encoder.block.0.layer.0.output.dense.bias', 'encoder.block.0.layer.0.output.LayerNorm.weight', 'encoder.block.1.layer.0.output.dense.weight', 'encoder.block.1.layer.0.output.dense.bias', 'encoder.block.1.layer.0.output.LayerNorm.weight', 'encoder.block.2.layer.0.output.dense.weight', 'encoder.block.2.layer.0.output.dense.bias', 'encoder.block.2.layer.0.output.LayerNorm.weight', 'encoder.block.3.layer.0.output.dense.weight', 'encoder.block.3.layer.0.output.dense.bias', 'encoder.block.3.layer.0.output.LayerNorm.weight', 'encoder.block.4.layer.0.output.dense.weight', 'encoder.block.4.layer.0.output.dense.bias', 'encoder.block.4.layer.0.output.LayerNorm.weight', 'encoder.block.5.layer.0.output.dense.weight', 'encoder.block.5.layer.0.output.dense.bias', 'encoder.block.5.layer.0.output.LayerNorm.weight', 'encoder.block.6.layer.0.output.dense.weight', 'encoder.block.6.layer.0.output.dense.bias', 'encoder.block.6.layer.0.output.LayerNorm.weight', 'encoder.block.7.layer.0.output.dense.weight', 'encoder.block.7.layer.0.output.dense.bias', 'encoder.block.7.layer.0.output.LayerNorm.weight', 'encoder.block.8.layer.0.output.dense.weight', 'encoder.block.8.layer.0.output.dense.bias', 'encoder.block.8.layer.0.output.LayerNorm.weight', 'encoder.block.9.layer.0.output.dense.weight', 'encoder.block.9.layer.0.output.dense.bias', 'encoder.block.9.layer.0.output.LayerNorm.weight', 'encoder.block.10.layer.0.output.dense.weight', 'encoder.block.10.layer.0.output.dense.bias', 'encoder.block.10.layer.0.output.LayerNorm.weight', 'encoder.block.11.layer.0.output.dense.weight', 'encoder.block.11.layer.0.output.dense.bias', 'encoder.block.11.layer.0.output.LayerNorm.weight', 'encoder.block.12.layer.0.output.dense.weight', 'encoder.block.12.layer.0.output.dense.bias', 'encoder.block.12.layer.0.output.LayerNorm.weight', 'encoder.block.13.layer.0.output.dense.weight', 'encoder.block.13.layer.0.output.dense.bias', 'encoder.block.13.layer.0.output.LayerNorm.weight', 'encoder.block.14.layer.0.output.dense.weight', 'encoder.block.14.layer.0.output.dense.bias', 'encoder.block.14.layer.0.output.LayerNorm.weight', 'encoder.block.15.layer.0.output.dense.weight', 'encoder.block.15.layer.0.output.dense.bias', 'encoder.block.15.layer.0.output.LayerNorm.weight', 'encoder.block.16.layer.0.output.dense.weight', 'encoder.block.16.layer.0.output.dense.bias', 'encoder.block.16.layer.0.output.LayerNorm.weight', 'encoder.block.17.layer.0.output.dense.weight', 'encoder.block.17.layer.0.output.dense.bias', 'encoder.block.17.layer.0.output.LayerNorm.weight', 'encoder.block.18.layer.0.output.dense.weight', 'encoder.block.18.layer.0.output.dense.bias', 'encoder.block.18.layer.0.output.LayerNorm.weight', 'encoder.block.19.layer.0.output.dense.weight', 'encoder.block.19.layer.0.output.dense.bias', 'encoder.block.19.layer.0.output.LayerNorm.weight', 'encoder.block.20.layer.0.output.dense.weight', 'encoder.block.20.layer.0.output.dense.bias', 'encoder.block.20.layer.0.output.LayerNorm.weight', 'encoder.block.21.layer.0.output.dense.weight', 'encoder.block.21.layer.0.output.dense.bias', 'encoder.block.21.layer.0.output.LayerNorm.weight', 'encoder.block.22.layer.0.output.dense.weight', 'encoder.block.22.layer.0.output.dense.bias', 'encoder.block.22.layer.0.output.LayerNorm.weight', 'encoder.block.23.layer.0.output.dense.weight', 'encoder.block.23.layer.0.output.dense.bias', 'encoder.block.23.layer.0.output.LayerNorm.weight', 'decoder.embed_tokens.weight', 'decoder.block.0.layer.0.output.dense.weight', 'decoder.block.0.layer.0.output.dense.bias', 'decoder.block.0.layer.0.output.LayerNorm.weight', 'decoder.block.0.layer.1.output.dense.weight', 'decoder.block.0.layer.1.output.dense.bias', 'decoder.block.0.layer.1.output.LayerNorm.weight', 'decoder.block.1.layer.0.output.dense.weight', 'decoder.block.1.layer.0.output.dense.bias', 'decoder.block.1.layer.0.output.LayerNorm.weight', 'decoder.block.1.layer.1.output.dense.weight', 'decoder.block.1.layer.1.output.dense.bias', 'decoder.block.1.layer.1.output.LayerNorm.weight', 'decoder.block.2.layer.0.output.dense.weight', 'decoder.block.2.layer.0.output.dense.bias', 'decoder.block.2.layer.0.output.LayerNorm.weight', 'decoder.block.2.layer.1.output.dense.weight', 'decoder.block.2.layer.1.output.dense.bias', 'decoder.block.2.layer.1.output.LayerNorm.weight', 'decoder.block.3.layer.0.output.dense.weight', 'decoder.block.3.layer.0.output.dense.bias', 'decoder.block.3.layer.0.output.LayerNorm.weight', 'decoder.block.3.layer.1.output.dense.weight', 'decoder.block.3.layer.1.output.dense.bias', 'decoder.block.3.layer.1.output.LayerNorm.weight', 'decoder.block.4.layer.0.output.dense.weight', 'decoder.block.4.layer.0.output.dense.bias', 'decoder.block.4.layer.0.output.LayerNorm.weight', 'decoder.block.4.layer.1.output.dense.weight', 'decoder.block.4.layer.1.output.dense.bias', 'decoder.block.4.layer.1.output.LayerNorm.weight', 'decoder.block.5.layer.0.output.dense.weight', 'decoder.block.5.layer.0.output.dense.bias', 'decoder.block.5.layer.0.output.LayerNorm.weight', 'decoder.block.5.layer.1.output.dense.weight', 'decoder.block.5.layer.1.output.dense.bias', 'decoder.block.5.layer.1.output.LayerNorm.weight', 'decoder.block.6.layer.0.output.dense.weight', 'decoder.block.6.layer.0.output.dense.bias', 'decoder.block.6.layer.0.output.LayerNorm.weight', 'decoder.block.6.layer.1.output.dense.weight', 'decoder.block.6.layer.1.output.dense.bias', 'decoder.block.6.layer.1.output.LayerNorm.weight', 'decoder.block.7.layer.0.output.dense.weight', 'decoder.block.7.layer.0.output.dense.bias', 'decoder.block.7.layer.0.output.LayerNorm.weight', 'decoder.block.7.layer.1.output.dense.weight', 'decoder.block.7.layer.1.output.dense.bias', 'decoder.block.7.layer.1.output.LayerNorm.weight', 'decoder.block.8.layer.0.output.dense.weight', 'decoder.block.8.layer.0.output.dense.bias', 'decoder.block.8.layer.0.output.LayerNorm.weight', 'decoder.block.8.layer.1.output.dense.weight', 'decoder.block.8.layer.1.output.dense.bias', 'decoder.block.8.layer.1.output.LayerNorm.weight', 'decoder.block.9.layer.0.output.dense.weight', 'decoder.block.9.layer.0.output.dense.bias', 'decoder.block.9.layer.0.output.LayerNorm.weight', 'decoder.block.9.layer.1.output.dense.weight', 'decoder.block.9.layer.1.output.dense.bias', 'decoder.block.9.layer.1.output.LayerNorm.weight', 'decoder.block.10.layer.0.output.dense.weight', 'decoder.block.10.layer.0.output.dense.bias', 'decoder.block.10.layer.0.output.LayerNorm.weight', 'decoder.block.10.layer.1.output.dense.weight', 'decoder.block.10.layer.1.output.dense.bias', 'decoder.block.10.layer.1.output.LayerNorm.weight', 'decoder.block.11.layer.0.output.dense.weight', 'decoder.block.11.layer.0.output.dense.bias', 'decoder.block.11.layer.0.output.LayerNorm.weight', 'decoder.block.11.layer.1.output.dense.weight', 'decoder.block.11.layer.1.output.dense.bias', 'decoder.block.11.layer.1.output.LayerNorm.weight', 'decoder.block.12.layer.0.output.dense.weight', 'decoder.block.12.layer.0.output.dense.bias', 'decoder.block.12.layer.0.output.LayerNorm.weight', 'decoder.block.12.layer.1.output.dense.weight', 'decoder.block.12.layer.1.output.dense.bias', 'decoder.block.12.layer.1.output.LayerNorm.weight', 'decoder.block.13.layer.0.output.dense.weight', 'decoder.block.13.layer.0.output.dense.bias', 'decoder.block.13.layer.0.output.LayerNorm.weight', 'decoder.block.13.layer.1.output.dense.weight', 'decoder.block.13.layer.1.output.dense.bias', 'decoder.block.13.layer.1.output.LayerNorm.weight', 'decoder.block.14.layer.0.output.dense.weight', 'decoder.block.14.layer.0.output.dense.bias', 'decoder.block.14.layer.0.output.LayerNorm.weight', 'decoder.block.14.layer.1.output.dense.weight', 'decoder.block.14.layer.1.output.dense.bias', 'decoder.block.14.layer.1.output.LayerNorm.weight', 'decoder.block.15.layer.0.output.dense.weight', 'decoder.block.15.layer.0.output.dense.bias', 'decoder.block.15.layer.0.output.LayerNorm.weight', 'decoder.block.15.layer.1.output.dense.weight', 'decoder.block.15.layer.1.output.dense.bias', 'decoder.block.15.layer.1.output.LayerNorm.weight', 'decoder.block.16.layer.0.output.dense.weight', 'decoder.block.16.layer.0.output.dense.bias', 'decoder.block.16.layer.0.output.LayerNorm.weight', 'decoder.block.16.layer.1.output.dense.weight', 'decoder.block.16.layer.1.output.dense.bias', 'decoder.block.16.layer.1.output.LayerNorm.weight', 'decoder.block.17.layer.0.output.dense.weight', 'decoder.block.17.layer.0.output.dense.bias', 'decoder.block.17.layer.0.output.LayerNorm.weight', 'decoder.block.17.layer.1.output.dense.weight', 'decoder.block.17.layer.1.output.dense.bias', 'decoder.block.17.layer.1.output.LayerNorm.weight', 'decoder.block.18.layer.0.output.dense.weight', 'decoder.block.18.layer.0.output.dense.bias', 'decoder.block.18.layer.0.output.LayerNorm.weight', 'decoder.block.18.layer.1.output.dense.weight', 'decoder.block.18.layer.1.output.dense.bias', 'decoder.block.18.layer.1.output.LayerNorm.weight', 'decoder.block.19.layer.0.output.dense.weight', 'decoder.block.19.layer.0.output.dense.bias', 'decoder.block.19.layer.0.output.LayerNorm.weight', 'decoder.block.19.layer.1.output.dense.weight', 'decoder.block.19.layer.1.output.dense.bias', 'decoder.block.19.layer.1.output.LayerNorm.weight', 'decoder.block.20.layer.0.output.dense.weight', 'decoder.block.20.layer.0.output.dense.bias', 'decoder.block.20.layer.0.output.LayerNorm.weight', 'decoder.block.20.layer.1.output.dense.weight', 'decoder.block.20.layer.1.output.dense.bias', 'decoder.block.20.layer.1.output.LayerNorm.weight', 'decoder.block.21.layer.0.output.dense.weight', 'decoder.block.21.layer.0.output.dense.bias', 'decoder.block.21.layer.0.output.LayerNorm.weight', 'decoder.block.21.layer.1.output.dense.weight', 'decoder.block.21.layer.1.output.dense.bias', 'decoder.block.21.layer.1.output.LayerNorm.weight', 'decoder.block.22.layer.0.output.dense.weight', 'decoder.block.22.layer.0.output.dense.bias', 'decoder.block.22.layer.0.output.LayerNorm.weight', 'decoder.block.22.layer.1.output.dense.weight', 'decoder.block.22.layer.1.output.dense.bias', 'decoder.block.22.layer.1.output.LayerNorm.weight', 'decoder.block.23.layer.0.output.dense.weight', 'decoder.block.23.layer.0.output.dense.bias', 'decoder.block.23.layer.0.output.LayerNorm.weight', 'decoder.block.23.layer.1.output.dense.weight', 'decoder.block.23.layer.1.output.dense.bias', 'decoder.block.23.layer.1.output.LayerNorm.weight']\n",
      "You should probably TRAIN this model on a down-stream task to be able to use it for predictions and inference.\n"
     ]
    },
    {
     "name": "stdout",
     "output_type": "stream",
     "text": [
      "['▁A', '▁41', '▁year', '▁old', '▁person', '▁age', '▁is', '<extra_id_0>', '▁than', '▁', 'a', '▁42', '▁year', '▁old', '▁person', '▁', '.']\n"
     ]
    }
   ],
   "source": [
    "# Load pretrained model/tokenizer\n",
    "model_name = \"t5-large\"#\"facebook/bart-large\"#\"bert-large-uncased-whole-word-masking\"\n",
    "#tokenizer = BertTokenizer.from_pretrained(model_name)\n",
    "#model = BertModel.from_pretrained(model_name).to(device)\n",
    "# tokenizer = RobertaTokenizer.from_pretrained(model_name)\n",
    "# model = RobertaModel.from_pretrained(model_name).to(device)\n",
    "# tokenizer = BartTokenizer.from_pretrained(model_name)\n",
    "# model = BartModel.from_pretrained(model_name).to(device)\n",
    "tokenizer = T5Tokenizer.from_pretrained(model_name)\n",
    "tokenizer.mask_token = \"<extra_id_0>\"\n",
    "model = T5Model.from_pretrained(model_name).to(device)\n",
    "model.eval()\n",
    "\n",
    "# Tokenize text and convert to ids. \n",
    "# input_ids = torch.tensor([tokenizer.encode(\"A 41 year old person age is [MASK] than a 42 year old person .\", add_special_tokens=True)]).to(device)\n",
    "input_ids = torch.tensor([tokenizer.encode(f\"A 41 year old person age is {tokenizer.mask_token} than a 42 year old person .\", add_special_tokens=True)]).to(device)\n",
    "#input_ids = torch.tensor([tokenizer.encode(\"The size of a feather is usually much <mask> than the size of a nail .\", add_special_tokens=True)]).to(device)\n",
    "tokenized_text = tokenizer.convert_ids_to_tokens(input_ids[0])\n",
    "print(tokenized_text)"
   ]
  },
  {
   "cell_type": "code",
   "execution_count": 3,
   "metadata": {},
   "outputs": [
    {
     "data": {
      "text/plain": [
       "torch.Size([2, 17])"
      ]
     },
     "execution_count": 3,
     "metadata": {},
     "output_type": "execute_result"
    }
   ],
   "source": [
    "input_ids.repeat(2, 1).size()"
   ]
  },
  {
   "cell_type": "code",
   "execution_count": 4,
   "metadata": {},
   "outputs": [],
   "source": [
    "from transformers import T5Config"
   ]
  },
  {
   "cell_type": "code",
   "execution_count": 5,
   "metadata": {},
   "outputs": [
    {
     "data": {
      "text/plain": [
       "T5Config {\n",
       "  \"architectures\": [\n",
       "    \"T5WithLMHeadModel\"\n",
       "  ],\n",
       "  \"d_ff\": 4096,\n",
       "  \"d_kv\": 64,\n",
       "  \"d_model\": 1024,\n",
       "  \"decoder_start_token_id\": 0,\n",
       "  \"dropout_rate\": 0.1,\n",
       "  \"eos_token_id\": 1,\n",
       "  \"initializer_factor\": 1.0,\n",
       "  \"is_encoder_decoder\": true,\n",
       "  \"layer_norm_epsilon\": 1e-06,\n",
       "  \"model_type\": \"t5\",\n",
       "  \"n_positions\": 512,\n",
       "  \"num_heads\": 16,\n",
       "  \"num_layers\": 24,\n",
       "  \"output_past\": true,\n",
       "  \"pad_token_id\": 0,\n",
       "  \"relative_attention_num_buckets\": 32,\n",
       "  \"task_specific_params\": {\n",
       "    \"summarization\": {\n",
       "      \"early_stopping\": true,\n",
       "      \"length_penalty\": 2.0,\n",
       "      \"max_length\": 200,\n",
       "      \"min_length\": 30,\n",
       "      \"no_repeat_ngram_size\": 3,\n",
       "      \"num_beams\": 4,\n",
       "      \"prefix\": \"summarize: \"\n",
       "    },\n",
       "    \"translation_en_to_de\": {\n",
       "      \"early_stopping\": true,\n",
       "      \"max_length\": 300,\n",
       "      \"num_beams\": 4,\n",
       "      \"prefix\": \"translate English to German: \"\n",
       "    },\n",
       "    \"translation_en_to_fr\": {\n",
       "      \"early_stopping\": true,\n",
       "      \"max_length\": 300,\n",
       "      \"num_beams\": 4,\n",
       "      \"prefix\": \"translate English to French: \"\n",
       "    },\n",
       "    \"translation_en_to_ro\": {\n",
       "      \"early_stopping\": true,\n",
       "      \"max_length\": 300,\n",
       "      \"num_beams\": 4,\n",
       "      \"prefix\": \"translate English to Romanian: \"\n",
       "    }\n",
       "  },\n",
       "  \"vocab_size\": 32128\n",
       "}"
      ]
     },
     "execution_count": 5,
     "metadata": {},
     "output_type": "execute_result"
    }
   ],
   "source": [
    "T5Config.from_pretrained(\"t5-large\")"
   ]
  },
  {
   "cell_type": "code",
   "execution_count": 3,
   "metadata": {},
   "outputs": [
    {
     "name": "stdout",
     "output_type": "stream",
     "text": [
      "True\n",
      "8\n",
      "7\n",
      "True\n",
      "6\n",
      "5\n",
      "True\n",
      "6\n",
      "5\n",
      "True\n",
      "6\n",
      "5\n",
      "True\n",
      "6\n",
      "5\n",
      "True\n",
      "6\n",
      "5\n",
      "True\n",
      "6\n",
      "5\n",
      "True\n",
      "6\n",
      "5\n",
      "True\n",
      "6\n",
      "5\n",
      "True\n",
      "6\n",
      "5\n",
      "True\n",
      "6\n",
      "5\n",
      "True\n",
      "6\n",
      "5\n",
      "True\n",
      "6\n",
      "5\n",
      "True\n",
      "6\n",
      "5\n",
      "True\n",
      "6\n",
      "5\n",
      "True\n",
      "6\n",
      "5\n",
      "True\n",
      "6\n",
      "5\n",
      "True\n",
      "6\n",
      "5\n",
      "True\n",
      "6\n",
      "5\n",
      "True\n",
      "6\n",
      "5\n",
      "True\n",
      "6\n",
      "5\n",
      "True\n",
      "6\n",
      "5\n",
      "True\n",
      "6\n",
      "5\n",
      "True\n",
      "6\n",
      "5\n"
     ]
    }
   ],
   "source": [
    "# If you want to extract vector norms (i.e., ||f(x)||, ||αf(x)||, ||Σαf(x)||), please set the argument \"output_norms\" to True.\n",
    "with torch.no_grad():\n",
    "    #last_hidden_state, pooler_output, hidden_states, attentions, norms\n",
    "#     decoder_features, decoder_states, decoder_attns, encoder_last_state, encoder_states, encoder_attns, norms = model(input_ids=input_ids.repeat(2, 1), output_hidden_states=True, output_attentions=True, output_norms=True)    \n",
    "#     decoder_features, decoder_states, decoder_attns, decoder_self_norms, decoder_cross_norms, encoder_last_state, encoder_states, encoder_attns, encoder_norms = model(input_ids=input_ids, output_hidden_states=True, output_attentions=True, output_norms=True)\n",
    "    decoder_features, decoder_cache, decoder_states, decoder_attns, decoder_self_norms, decoder_cross_norms, encoder_last_state, encoder_states, encoder_attns, encoder_norms = model(input_ids=input_ids, decoder_input_ids=input_ids, output_hidden_states=True, output_attentions=True, output_norms=True)  # T5"
   ]
  },
  {
   "cell_type": "code",
   "execution_count": 10,
   "metadata": {},
   "outputs": [],
   "source": [
    "norms = decoder_cross_norms"
   ]
  },
  {
   "cell_type": "code",
   "execution_count": 11,
   "metadata": {},
   "outputs": [
    {
     "data": {
      "application/vnd.jupyter.widget-view+json": {
       "model_id": "06e5823a370f40d789bd239699ee8326",
       "version_major": 2,
       "version_minor": 0
      },
      "text/plain": [
       "  0%|          | 0/24 [00:00<?, ?it/s]"
      ]
     },
     "metadata": {},
     "output_type": "display_data"
    }
   ],
   "source": [
    "num_heads = model.config.num_attention_heads\n",
    "num_layers = model.config.num_hidden_layers\n",
    "#fig, axes = plt.subplots(num_layers, num_heads)\n",
    "#fig = plt.figure()\n",
    "#fig.suptitle(f\"BERT-Large-WWM Attention Norms\")\n",
    "fig = plt.figure() #plt.figure(figsize=(16, 12)) \n",
    "fig.set_figheight(120)\n",
    "fig.set_figwidth(160)\n",
    "#plt.rcParams[\"figure.figsize\"] = (15 * num_layers, 15 * num_heads)\n",
    "# num_layers = 6\n",
    "for layer in tqdm(range(num_layers)):\n",
    "    for head in range(num_heads):\n",
    "        plt.subplot(num_heads, num_layers, num_layers * head + layer + 1)\n",
    "        real_layer = layer\n",
    "#         real_layer = layer if layer < 3 else layer + 18\n",
    "#         if (layer == 0) or (layer == 23): #or ((layer in layer2head) and (head in layer2head[layer])):\n",
    "#         afx_norm = norms[real_layer][0][1]  # bart encoder-self\n",
    "        afx_norm = norms[real_layer][1]  # bart decoder-self, bart cross\n",
    "        norm = afx_norm[0][head].cpu().numpy()\n",
    "        df = pd.DataFrame(norm,columns=tokenized_text,index=tokenized_text)\n",
    "        sns.heatmap(df,cmap=\"Reds\",square=True)\n",
    "        plt.gcf().subplots_adjust(bottom=0.2)\n",
    "        \n",
    "plt.savefig(f\"t5-attention-cross-attention.png\", bbox_inches=\"tight\")\n",
    "plt.close(fig)"
   ]
  },
  {
   "cell_type": "code",
   "execution_count": 12,
   "metadata": {},
   "outputs": [],
   "source": [
    "import time\n",
    "time.sleep(30)"
   ]
  },
  {
   "cell_type": "code",
   "execution_count": 13,
   "metadata": {},
   "outputs": [
    {
     "data": {
      "application/vnd.jupyter.widget-view+json": {
       "model_id": "3a80210f82d14c269412ff4c4c645079",
       "version_major": 2,
       "version_minor": 0
      },
      "text/plain": [
       "  0%|          | 0/24 [00:00<?, ?it/s]"
      ]
     },
     "metadata": {},
     "output_type": "display_data"
    }
   ],
   "source": [
    "norms = encoder_norms\n",
    "num_heads = model.config.num_attention_heads\n",
    "num_layers = model.config.num_hidden_layers\n",
    "#fig, axes = plt.subplots(num_layers, num_heads)\n",
    "#fig = plt.figure()\n",
    "#fig.suptitle(f\"BERT-Large-WWM Attention Norms\")\n",
    "fig = plt.figure() #plt.figure(figsize=(16, 12)) \n",
    "fig.set_figheight(120)\n",
    "fig.set_figwidth(160)\n",
    "#plt.rcParams[\"figure.figsize\"] = (15 * num_layers, 15 * num_heads)\n",
    "# num_layers = 6\n",
    "for layer in tqdm(range(num_layers)):\n",
    "    for head in range(num_heads):\n",
    "        plt.subplot(num_heads, num_layers, num_layers * head + layer + 1)\n",
    "        real_layer = layer\n",
    "#         real_layer = layer if layer < 3 else layer + 18\n",
    "#         if (layer == 0) or (layer == 23): #or ((layer in layer2head) and (head in layer2head[layer])):\n",
    "#         afx_norm = norms[real_layer][0][1]  # bart encoder-self\n",
    "        afx_norm = norms[real_layer][1]  # bart decoder-self, bart cross\n",
    "        norm = afx_norm[0][head].cpu().numpy()\n",
    "        df = pd.DataFrame(norm,columns=tokenized_text,index=tokenized_text)\n",
    "        sns.heatmap(df,cmap=\"Reds\",square=True)\n",
    "        plt.gcf().subplots_adjust(bottom=0.2)\n",
    "        \n",
    "    time.sleep(30)\n",
    "        \n",
    "plt.savefig(f\"t5-encoder-self-attention.png\", bbox_inches=\"tight\")\n",
    "plt.close(fig)"
   ]
  },
  {
   "cell_type": "code",
   "execution_count": 14,
   "metadata": {},
   "outputs": [],
   "source": [
    "time.sleep(30)"
   ]
  },
  {
   "cell_type": "code",
   "execution_count": null,
   "metadata": {},
   "outputs": [
    {
     "data": {
      "application/vnd.jupyter.widget-view+json": {
       "model_id": "7083f7ead43a4e958d26e5bad2a90dab",
       "version_major": 2,
       "version_minor": 0
      },
      "text/plain": [
       "  0%|          | 0/24 [00:00<?, ?it/s]"
      ]
     },
     "metadata": {},
     "output_type": "display_data"
    }
   ],
   "source": [
    "norms = decoder_self_norms\n",
    "num_heads = model.config.num_attention_heads\n",
    "num_layers = model.config.num_hidden_layers\n",
    "#fig, axes = plt.subplots(num_layers, num_heads)\n",
    "#fig = plt.figure()\n",
    "#fig.suptitle(f\"BERT-Large-WWM Attention Norms\")\n",
    "fig = plt.figure() #plt.figure(figsize=(16, 12)) \n",
    "fig.set_figheight(120)\n",
    "fig.set_figwidth(160)\n",
    "#plt.rcParams[\"figure.figsize\"] = (15 * num_layers, 15 * num_heads)\n",
    "# num_layers = 6\n",
    "for layer in tqdm(range(num_layers)):\n",
    "    for head in range(num_heads):\n",
    "        plt.subplot(num_heads, num_layers, num_layers * head + layer + 1)\n",
    "        real_layer = layer\n",
    "#         real_layer = layer if layer < 3 else layer + 18\n",
    "#         if (layer == 0) or (layer == 23): #or ((layer in layer2head) and (head in layer2head[layer])):\n",
    "#         afx_norm = norms[real_layer][0][1]  # bart encoder-self\n",
    "        afx_norm = norms[real_layer][1]  # bart decoder-self, bart cross\n",
    "        norm = afx_norm[0][head].cpu().numpy()\n",
    "        df = pd.DataFrame(norm,columns=tokenized_text,index=tokenized_text)\n",
    "        sns.heatmap(df,cmap=\"Reds\",square=True)\n",
    "        plt.gcf().subplots_adjust(bottom=0.2)\n",
    "        \n",
    "    time.sleep(30)\n",
    "        \n",
    "plt.savefig(f\"t5-deccoder-self-attention.png\", bbox_inches=\"tight\")\n",
    "plt.close(fig)"
   ]
  },
  {
   "cell_type": "code",
   "execution_count": 7,
   "metadata": {},
   "outputs": [
    {
     "name": "stdout",
     "output_type": "stream",
     "text": [
      "<class 'tuple'>\n",
      "12\n"
     ]
    }
   ],
   "source": [
    "# Returned variable \"norms\" is a tuple which has 12 elements (equal to the number of layers).\n",
    "print(type(norms))\n",
    "print(len(norms))"
   ]
  },
  {
   "cell_type": "code",
   "execution_count": 20,
   "metadata": {},
   "outputs": [
    {
     "name": "stdout",
     "output_type": "stream",
     "text": [
      "<class 'tuple'>\n",
      "1\n"
     ]
    }
   ],
   "source": [
    "# Each element is a tuple which consists of 3 elements: ||f(x)||, ||αf(x)||, and ||Σαf(x)||.\n",
    "layer = 5\n",
    "print(type(norms[layer-1]))\n",
    "print(len(norms[layer-1]))\n",
    "\n",
    "# fx_norm, afx_norm, summed_afx_norm = norms[layer-1]\n",
    "fx_norm, afx_norm, summed_afx_norm = norms[layer-1][0] # for BART"
   ]
  },
  {
   "cell_type": "code",
   "execution_count": 11,
   "metadata": {},
   "outputs": [
    {
     "name": "stdout",
     "output_type": "stream",
     "text": [
      "shape of ||f(x)||: torch.Size([1, 16, 17])\n"
     ]
    }
   ],
   "source": [
    "# shape of fx_norm (||f(x)||) is (batch, num_heads, seq_length)\n",
    "print(\"shape of ||f(x)||:\", fx_norm.size())"
   ]
  },
  {
   "cell_type": "code",
   "execution_count": 12,
   "metadata": {},
   "outputs": [
    {
     "name": "stdout",
     "output_type": "stream",
     "text": [
      "shape of ||αf(x)||: torch.Size([1, 16, 17, 17])\n"
     ]
    }
   ],
   "source": [
    "# shape of afx_norm (||αf(x)||) is (batch, num_heads, seq_length, seq_length)\n",
    "print(\"shape of ||αf(x)||:\", afx_norm.size())"
   ]
  },
  {
   "cell_type": "code",
   "execution_count": 13,
   "metadata": {},
   "outputs": [
    {
     "name": "stdout",
     "output_type": "stream",
     "text": [
      "shape of ||Σαf(x)||: torch.Size([1, 17, 17])\n"
     ]
    }
   ],
   "source": [
    "# shape of summed_afx_norm (||Σαf(x)||) is (batch, seq_length, seq_length)\n",
    "print(\"shape of ||Σαf(x)||:\", summed_afx_norm.size())"
   ]
  },
  {
   "cell_type": "markdown",
   "metadata": {},
   "source": [
    "## Comparison with attention weight"
   ]
  },
  {
   "cell_type": "code",
   "execution_count": 13,
   "metadata": {},
   "outputs": [],
   "source": [
    "\n",
    "\n",
    "# Set the layer and head you want to check. (layer: 1~12, head: 1~12)\n",
    "\n"
   ]
  },
  {
   "cell_type": "markdown",
   "metadata": {},
   "source": [
    "### Attention weight visualization (Head-level visualization)"
   ]
  },
  {
   "cell_type": "code",
   "execution_count": 28,
   "metadata": {},
   "outputs": [
    {
     "data": {
      "image/png": "[encoded data removed]",
      "text/plain": [
       "<Figure size 432x288 with 2 Axes>"
      ]
     },
     "metadata": {
      "needs_background": "light"
     },
     "output_type": "display_data"
    }
   ],
   "source": [
    "plt.figure() \n",
    "attention = attentions[layer-1][0][head-1].cpu().numpy()\n",
    "df = pd.DataFrame(attention,columns=tokenized_text,index=tokenized_text)\n",
    "sns.heatmap(df,cmap=\"Reds\",square=True)\n",
    "plt.gcf().subplots_adjust(bottom=0.2)"
   ]
  },
  {
   "cell_type": "markdown",
   "metadata": {},
   "source": [
    "### Norm of the weighted vectors (||αf(x)||) visualization (Head-level visualization)"
   ]
  },
  {
   "cell_type": "code",
   "execution_count": 22,
   "metadata": {},
   "outputs": [],
   "source": [
    "from tqdm.auto import tqdm"
   ]
  },
  {
   "cell_type": "code",
   "execution_count": 10,
   "metadata": {},
   "outputs": [],
   "source": [
    "layer2head = {2: [2, 3], 3: [12], 5: [2], 6: [6], 12: [3], 13: [4], 15: [8], 16: [0, 8], 17: [2, 5, 10]}"
   ]
  },
  {
   "cell_type": "code",
   "execution_count": 25,
   "metadata": {},
   "outputs": [
    {
     "data": {
      "application/vnd.jupyter.widget-view+json": {
       "model_id": "74df7aa6cd074f3faf01295fde386c36",
       "version_major": 2,
       "version_minor": 0
      },
      "text/plain": [
       "  0%|          | 0/12 [00:00<?, ?it/s]"
      ]
     },
     "metadata": {},
     "output_type": "display_data"
    },
    {
     "ename": "IndexError",
     "evalue": "tuple index out of range",
     "output_type": "error",
     "traceback": [
      "\u001b[0;31m---------------------------------------------------------------------------\u001b[0m",
      "\u001b[0;31mIndexError\u001b[0m                                Traceback (most recent call last)",
      "\u001b[0;32m<ipython-input-25-8d239113d1fb>\u001b[0m in \u001b[0;36m<module>\u001b[0;34m\u001b[0m\n\u001b[1;32m     12\u001b[0m         \u001b[0mplt\u001b[0m\u001b[0;34m.\u001b[0m\u001b[0msubplot\u001b[0m\u001b[0;34m(\u001b[0m\u001b[0mnum_heads\u001b[0m\u001b[0;34m,\u001b[0m \u001b[0mnum_layers\u001b[0m\u001b[0;34m,\u001b[0m \u001b[0mnum_layers\u001b[0m \u001b[0;34m*\u001b[0m \u001b[0mhead\u001b[0m \u001b[0;34m+\u001b[0m \u001b[0mlayer\u001b[0m \u001b[0;34m+\u001b[0m \u001b[0;36m1\u001b[0m\u001b[0;34m)\u001b[0m\u001b[0;34m\u001b[0m\u001b[0;34m\u001b[0m\u001b[0m\n\u001b[1;32m     13\u001b[0m         \u001b[0;32mif\u001b[0m \u001b[0;34m(\u001b[0m\u001b[0mlayer\u001b[0m \u001b[0;34m==\u001b[0m \u001b[0;36m0\u001b[0m\u001b[0;34m)\u001b[0m \u001b[0;32mor\u001b[0m \u001b[0;34m(\u001b[0m\u001b[0mlayer\u001b[0m \u001b[0;34m==\u001b[0m \u001b[0;36m23\u001b[0m\u001b[0;34m)\u001b[0m\u001b[0;34m:\u001b[0m \u001b[0;31m#or ((layer in layer2head) and (head in layer2head[layer])):\u001b[0m\u001b[0;34m\u001b[0m\u001b[0;34m\u001b[0m\u001b[0m\n\u001b[0;32m---> 14\u001b[0;31m             \u001b[0mafx_norm\u001b[0m \u001b[0;34m=\u001b[0m \u001b[0mnorms\u001b[0m\u001b[0;34m[\u001b[0m\u001b[0mlayer\u001b[0m\u001b[0;34m]\u001b[0m\u001b[0;34m[\u001b[0m\u001b[0;36m1\u001b[0m\u001b[0;34m]\u001b[0m\u001b[0;34m\u001b[0m\u001b[0;34m\u001b[0m\u001b[0m\n\u001b[0m\u001b[1;32m     15\u001b[0m             \u001b[0mnorm\u001b[0m \u001b[0;34m=\u001b[0m \u001b[0mafx_norm\u001b[0m\u001b[0;34m[\u001b[0m\u001b[0;36m0\u001b[0m\u001b[0;34m]\u001b[0m\u001b[0;34m[\u001b[0m\u001b[0mhead\u001b[0m\u001b[0;34m]\u001b[0m\u001b[0;34m.\u001b[0m\u001b[0mcpu\u001b[0m\u001b[0;34m(\u001b[0m\u001b[0;34m)\u001b[0m\u001b[0;34m.\u001b[0m\u001b[0mnumpy\u001b[0m\u001b[0;34m(\u001b[0m\u001b[0;34m)\u001b[0m\u001b[0;34m\u001b[0m\u001b[0;34m\u001b[0m\u001b[0m\n\u001b[1;32m     16\u001b[0m             \u001b[0mdf\u001b[0m \u001b[0;34m=\u001b[0m \u001b[0mpd\u001b[0m\u001b[0;34m.\u001b[0m\u001b[0mDataFrame\u001b[0m\u001b[0;34m(\u001b[0m\u001b[0mnorm\u001b[0m\u001b[0;34m,\u001b[0m\u001b[0mcolumns\u001b[0m\u001b[0;34m=\u001b[0m\u001b[0mtokenized_text\u001b[0m\u001b[0;34m,\u001b[0m\u001b[0mindex\u001b[0m\u001b[0;34m=\u001b[0m\u001b[0mtokenized_text\u001b[0m\u001b[0;34m)\u001b[0m\u001b[0;34m\u001b[0m\u001b[0;34m\u001b[0m\u001b[0m\n",
      "\u001b[0;31mIndexError\u001b[0m: tuple index out of range"
     ]
    },
    {
     "name": "stdout",
     "output_type": "stream",
     "text": [
      "Error in callback <function flush_figures at 0x13b84dd40> (for post_execute):\n"
     ]
    },
    {
     "ename": "KeyboardInterrupt",
     "evalue": "",
     "output_type": "error",
     "traceback": [
      "\u001b[0;31m---------------------------------------------------------------------------\u001b[0m",
      "\u001b[0;31mKeyboardInterrupt\u001b[0m                         Traceback (most recent call last)",
      "\u001b[0;32m~/Documents/.attention_venv/lib/python3.7/site-packages/ipykernel/pylab/backend_inline.py\u001b[0m in \u001b[0;36mflush_figures\u001b[0;34m()\u001b[0m\n\u001b[1;32m    118\u001b[0m         \u001b[0;31m# ignore the tracking, just draw and close all figures\u001b[0m\u001b[0;34m\u001b[0m\u001b[0;34m\u001b[0m\u001b[0;34m\u001b[0m\u001b[0m\n\u001b[1;32m    119\u001b[0m         \u001b[0;32mtry\u001b[0m\u001b[0;34m:\u001b[0m\u001b[0;34m\u001b[0m\u001b[0;34m\u001b[0m\u001b[0m\n\u001b[0;32m--> 120\u001b[0;31m             \u001b[0;32mreturn\u001b[0m \u001b[0mshow\u001b[0m\u001b[0;34m(\u001b[0m\u001b[0;32mTrue\u001b[0m\u001b[0;34m)\u001b[0m\u001b[0;34m\u001b[0m\u001b[0;34m\u001b[0m\u001b[0m\n\u001b[0m\u001b[1;32m    121\u001b[0m         \u001b[0;32mexcept\u001b[0m \u001b[0mException\u001b[0m \u001b[0;32mas\u001b[0m \u001b[0me\u001b[0m\u001b[0;34m:\u001b[0m\u001b[0;34m\u001b[0m\u001b[0;34m\u001b[0m\u001b[0m\n\u001b[1;32m    122\u001b[0m             \u001b[0;31m# safely show traceback if in IPython, else raise\u001b[0m\u001b[0;34m\u001b[0m\u001b[0;34m\u001b[0m\u001b[0;34m\u001b[0m\u001b[0m\n",
      "\u001b[0;32m~/Documents/.attention_venv/lib/python3.7/site-packages/ipykernel/pylab/backend_inline.py\u001b[0m in \u001b[0;36mshow\u001b[0;34m(close, block)\u001b[0m\n\u001b[1;32m     40\u001b[0m             display(\n\u001b[1;32m     41\u001b[0m                 \u001b[0mfigure_manager\u001b[0m\u001b[0;34m.\u001b[0m\u001b[0mcanvas\u001b[0m\u001b[0;34m.\u001b[0m\u001b[0mfigure\u001b[0m\u001b[0;34m,\u001b[0m\u001b[0;34m\u001b[0m\u001b[0;34m\u001b[0m\u001b[0m\n\u001b[0;32m---> 42\u001b[0;31m                 \u001b[0mmetadata\u001b[0m\u001b[0;34m=\u001b[0m\u001b[0m_fetch_figure_metadata\u001b[0m\u001b[0;34m(\u001b[0m\u001b[0mfigure_manager\u001b[0m\u001b[0;34m.\u001b[0m\u001b[0mcanvas\u001b[0m\u001b[0;34m.\u001b[0m\u001b[0mfigure\u001b[0m\u001b[0;34m)\u001b[0m\u001b[0;34m\u001b[0m\u001b[0;34m\u001b[0m\u001b[0m\n\u001b[0m\u001b[1;32m     43\u001b[0m             )\n\u001b[1;32m     44\u001b[0m     \u001b[0;32mfinally\u001b[0m\u001b[0;34m:\u001b[0m\u001b[0;34m\u001b[0m\u001b[0;34m\u001b[0m\u001b[0m\n",
      "\u001b[0;32m~/Documents/.attention_venv/lib/python3.7/site-packages/IPython/core/display.py\u001b[0m in \u001b[0;36mdisplay\u001b[0;34m(include, exclude, metadata, transient, display_id, *objs, **kwargs)\u001b[0m\n\u001b[1;32m    318\u001b[0m             \u001b[0mpublish_display_data\u001b[0m\u001b[0;34m(\u001b[0m\u001b[0mdata\u001b[0m\u001b[0;34m=\u001b[0m\u001b[0mobj\u001b[0m\u001b[0;34m,\u001b[0m \u001b[0mmetadata\u001b[0m\u001b[0;34m=\u001b[0m\u001b[0mmetadata\u001b[0m\u001b[0;34m,\u001b[0m \u001b[0;34m**\u001b[0m\u001b[0mkwargs\u001b[0m\u001b[0;34m)\u001b[0m\u001b[0;34m\u001b[0m\u001b[0;34m\u001b[0m\u001b[0m\n\u001b[1;32m    319\u001b[0m         \u001b[0;32melse\u001b[0m\u001b[0;34m:\u001b[0m\u001b[0;34m\u001b[0m\u001b[0;34m\u001b[0m\u001b[0m\n\u001b[0;32m--> 320\u001b[0;31m             \u001b[0mformat_dict\u001b[0m\u001b[0;34m,\u001b[0m \u001b[0mmd_dict\u001b[0m \u001b[0;34m=\u001b[0m \u001b[0mformat\u001b[0m\u001b[0;34m(\u001b[0m\u001b[0mobj\u001b[0m\u001b[0;34m,\u001b[0m \u001b[0minclude\u001b[0m\u001b[0;34m=\u001b[0m\u001b[0minclude\u001b[0m\u001b[0;34m,\u001b[0m \u001b[0mexclude\u001b[0m\u001b[0;34m=\u001b[0m\u001b[0mexclude\u001b[0m\u001b[0;34m)\u001b[0m\u001b[0;34m\u001b[0m\u001b[0;34m\u001b[0m\u001b[0m\n\u001b[0m\u001b[1;32m    321\u001b[0m             \u001b[0;32mif\u001b[0m \u001b[0;32mnot\u001b[0m \u001b[0mformat_dict\u001b[0m\u001b[0;34m:\u001b[0m\u001b[0;34m\u001b[0m\u001b[0;34m\u001b[0m\u001b[0m\n\u001b[1;32m    322\u001b[0m                 \u001b[0;31m# nothing to display (e.g. _ipython_display_ took over)\u001b[0m\u001b[0;34m\u001b[0m\u001b[0;34m\u001b[0m\u001b[0;34m\u001b[0m\u001b[0m\n",
      "\u001b[0;32m~/Documents/.attention_venv/lib/python3.7/site-packages/IPython/core/formatters.py\u001b[0m in \u001b[0;36mformat\u001b[0;34m(self, obj, include, exclude)\u001b[0m\n\u001b[1;32m    178\u001b[0m             \u001b[0mmd\u001b[0m \u001b[0;34m=\u001b[0m \u001b[0;32mNone\u001b[0m\u001b[0;34m\u001b[0m\u001b[0;34m\u001b[0m\u001b[0m\n\u001b[1;32m    179\u001b[0m             \u001b[0;32mtry\u001b[0m\u001b[0;34m:\u001b[0m\u001b[0;34m\u001b[0m\u001b[0;34m\u001b[0m\u001b[0m\n\u001b[0;32m--> 180\u001b[0;31m                 \u001b[0mdata\u001b[0m \u001b[0;34m=\u001b[0m \u001b[0mformatter\u001b[0m\u001b[0;34m(\u001b[0m\u001b[0mobj\u001b[0m\u001b[0;34m)\u001b[0m\u001b[0;34m\u001b[0m\u001b[0;34m\u001b[0m\u001b[0m\n\u001b[0m\u001b[1;32m    181\u001b[0m             \u001b[0;32mexcept\u001b[0m\u001b[0;34m:\u001b[0m\u001b[0;34m\u001b[0m\u001b[0;34m\u001b[0m\u001b[0m\n\u001b[1;32m    182\u001b[0m                 \u001b[0;31m# FIXME: log the exception\u001b[0m\u001b[0;34m\u001b[0m\u001b[0;34m\u001b[0m\u001b[0;34m\u001b[0m\u001b[0m\n",
      "\u001b[0;32m~/Documents/.attention_venv/lib/python3.7/site-packages/decorator.py\u001b[0m in \u001b[0;36mfun\u001b[0;34m(*args, **kw)\u001b[0m\n\u001b[1;32m    230\u001b[0m             \u001b[0;32mif\u001b[0m \u001b[0;32mnot\u001b[0m \u001b[0mkwsyntax\u001b[0m\u001b[0;34m:\u001b[0m\u001b[0;34m\u001b[0m\u001b[0;34m\u001b[0m\u001b[0m\n\u001b[1;32m    231\u001b[0m                 \u001b[0margs\u001b[0m\u001b[0;34m,\u001b[0m \u001b[0mkw\u001b[0m \u001b[0;34m=\u001b[0m \u001b[0mfix\u001b[0m\u001b[0;34m(\u001b[0m\u001b[0margs\u001b[0m\u001b[0;34m,\u001b[0m \u001b[0mkw\u001b[0m\u001b[0;34m,\u001b[0m \u001b[0msig\u001b[0m\u001b[0;34m)\u001b[0m\u001b[0;34m\u001b[0m\u001b[0;34m\u001b[0m\u001b[0m\n\u001b[0;32m--> 232\u001b[0;31m             \u001b[0;32mreturn\u001b[0m \u001b[0mcaller\u001b[0m\u001b[0;34m(\u001b[0m\u001b[0mfunc\u001b[0m\u001b[0;34m,\u001b[0m \u001b[0;34m*\u001b[0m\u001b[0;34m(\u001b[0m\u001b[0mextras\u001b[0m \u001b[0;34m+\u001b[0m \u001b[0margs\u001b[0m\u001b[0;34m)\u001b[0m\u001b[0;34m,\u001b[0m \u001b[0;34m**\u001b[0m\u001b[0mkw\u001b[0m\u001b[0;34m)\u001b[0m\u001b[0;34m\u001b[0m\u001b[0;34m\u001b[0m\u001b[0m\n\u001b[0m\u001b[1;32m    233\u001b[0m     \u001b[0mfun\u001b[0m\u001b[0;34m.\u001b[0m\u001b[0m__name__\u001b[0m \u001b[0;34m=\u001b[0m \u001b[0mfunc\u001b[0m\u001b[0;34m.\u001b[0m\u001b[0m__name__\u001b[0m\u001b[0;34m\u001b[0m\u001b[0;34m\u001b[0m\u001b[0m\n\u001b[1;32m    234\u001b[0m     \u001b[0mfun\u001b[0m\u001b[0;34m.\u001b[0m\u001b[0m__doc__\u001b[0m \u001b[0;34m=\u001b[0m \u001b[0mfunc\u001b[0m\u001b[0;34m.\u001b[0m\u001b[0m__doc__\u001b[0m\u001b[0;34m\u001b[0m\u001b[0;34m\u001b[0m\u001b[0m\n",
      "\u001b[0;32m~/Documents/.attention_venv/lib/python3.7/site-packages/IPython/core/formatters.py\u001b[0m in \u001b[0;36mcatch_format_error\u001b[0;34m(method, self, *args, **kwargs)\u001b[0m\n\u001b[1;32m    222\u001b[0m     \u001b[0;34m\"\"\"show traceback on failed format call\"\"\"\u001b[0m\u001b[0;34m\u001b[0m\u001b[0;34m\u001b[0m\u001b[0m\n\u001b[1;32m    223\u001b[0m     \u001b[0;32mtry\u001b[0m\u001b[0;34m:\u001b[0m\u001b[0;34m\u001b[0m\u001b[0;34m\u001b[0m\u001b[0m\n\u001b[0;32m--> 224\u001b[0;31m         \u001b[0mr\u001b[0m \u001b[0;34m=\u001b[0m \u001b[0mmethod\u001b[0m\u001b[0;34m(\u001b[0m\u001b[0mself\u001b[0m\u001b[0;34m,\u001b[0m \u001b[0;34m*\u001b[0m\u001b[0margs\u001b[0m\u001b[0;34m,\u001b[0m \u001b[0;34m**\u001b[0m\u001b[0mkwargs\u001b[0m\u001b[0;34m)\u001b[0m\u001b[0;34m\u001b[0m\u001b[0;34m\u001b[0m\u001b[0m\n\u001b[0m\u001b[1;32m    225\u001b[0m     \u001b[0;32mexcept\u001b[0m \u001b[0mNotImplementedError\u001b[0m\u001b[0;34m:\u001b[0m\u001b[0;34m\u001b[0m\u001b[0;34m\u001b[0m\u001b[0m\n\u001b[1;32m    226\u001b[0m         \u001b[0;31m# don't warn on NotImplementedErrors\u001b[0m\u001b[0;34m\u001b[0m\u001b[0;34m\u001b[0m\u001b[0;34m\u001b[0m\u001b[0m\n",
      "\u001b[0;32m~/Documents/.attention_venv/lib/python3.7/site-packages/IPython/core/formatters.py\u001b[0m in \u001b[0;36m__call__\u001b[0;34m(self, obj)\u001b[0m\n\u001b[1;32m    339\u001b[0m                 \u001b[0;32mpass\u001b[0m\u001b[0;34m\u001b[0m\u001b[0;34m\u001b[0m\u001b[0m\n\u001b[1;32m    340\u001b[0m             \u001b[0;32melse\u001b[0m\u001b[0;34m:\u001b[0m\u001b[0;34m\u001b[0m\u001b[0;34m\u001b[0m\u001b[0m\n\u001b[0;32m--> 341\u001b[0;31m                 \u001b[0;32mreturn\u001b[0m \u001b[0mprinter\u001b[0m\u001b[0;34m(\u001b[0m\u001b[0mobj\u001b[0m\u001b[0;34m)\u001b[0m\u001b[0;34m\u001b[0m\u001b[0;34m\u001b[0m\u001b[0m\n\u001b[0m\u001b[1;32m    342\u001b[0m             \u001b[0;31m# Finally look for special method names\u001b[0m\u001b[0;34m\u001b[0m\u001b[0;34m\u001b[0m\u001b[0;34m\u001b[0m\u001b[0m\n\u001b[1;32m    343\u001b[0m             \u001b[0mmethod\u001b[0m \u001b[0;34m=\u001b[0m \u001b[0mget_real_method\u001b[0m\u001b[0;34m(\u001b[0m\u001b[0mobj\u001b[0m\u001b[0;34m,\u001b[0m \u001b[0mself\u001b[0m\u001b[0;34m.\u001b[0m\u001b[0mprint_method\u001b[0m\u001b[0;34m)\u001b[0m\u001b[0;34m\u001b[0m\u001b[0;34m\u001b[0m\u001b[0m\n",
      "\u001b[0;32m~/Documents/.attention_venv/lib/python3.7/site-packages/IPython/core/pylabtools.py\u001b[0m in \u001b[0;36m<lambda>\u001b[0;34m(fig)\u001b[0m\n\u001b[1;32m    248\u001b[0m \u001b[0;34m\u001b[0m\u001b[0m\n\u001b[1;32m    249\u001b[0m     \u001b[0;32mif\u001b[0m \u001b[0;34m'png'\u001b[0m \u001b[0;32min\u001b[0m \u001b[0mformats\u001b[0m\u001b[0;34m:\u001b[0m\u001b[0;34m\u001b[0m\u001b[0;34m\u001b[0m\u001b[0m\n\u001b[0;32m--> 250\u001b[0;31m         \u001b[0mpng_formatter\u001b[0m\u001b[0;34m.\u001b[0m\u001b[0mfor_type\u001b[0m\u001b[0;34m(\u001b[0m\u001b[0mFigure\u001b[0m\u001b[0;34m,\u001b[0m \u001b[0;32mlambda\u001b[0m \u001b[0mfig\u001b[0m\u001b[0;34m:\u001b[0m \u001b[0mprint_figure\u001b[0m\u001b[0;34m(\u001b[0m\u001b[0mfig\u001b[0m\u001b[0;34m,\u001b[0m \u001b[0;34m'png'\u001b[0m\u001b[0;34m,\u001b[0m \u001b[0;34m**\u001b[0m\u001b[0mkwargs\u001b[0m\u001b[0;34m)\u001b[0m\u001b[0;34m)\u001b[0m\u001b[0;34m\u001b[0m\u001b[0;34m\u001b[0m\u001b[0m\n\u001b[0m\u001b[1;32m    251\u001b[0m     \u001b[0;32mif\u001b[0m \u001b[0;34m'retina'\u001b[0m \u001b[0;32min\u001b[0m \u001b[0mformats\u001b[0m \u001b[0;32mor\u001b[0m \u001b[0;34m'png2x'\u001b[0m \u001b[0;32min\u001b[0m \u001b[0mformats\u001b[0m\u001b[0;34m:\u001b[0m\u001b[0;34m\u001b[0m\u001b[0;34m\u001b[0m\u001b[0m\n\u001b[1;32m    252\u001b[0m         \u001b[0mpng_formatter\u001b[0m\u001b[0;34m.\u001b[0m\u001b[0mfor_type\u001b[0m\u001b[0;34m(\u001b[0m\u001b[0mFigure\u001b[0m\u001b[0;34m,\u001b[0m \u001b[0;32mlambda\u001b[0m \u001b[0mfig\u001b[0m\u001b[0;34m:\u001b[0m \u001b[0mretina_figure\u001b[0m\u001b[0;34m(\u001b[0m\u001b[0mfig\u001b[0m\u001b[0;34m,\u001b[0m \u001b[0;34m**\u001b[0m\u001b[0mkwargs\u001b[0m\u001b[0;34m)\u001b[0m\u001b[0;34m)\u001b[0m\u001b[0;34m\u001b[0m\u001b[0;34m\u001b[0m\u001b[0m\n",
      "\u001b[0;32m~/Documents/.attention_venv/lib/python3.7/site-packages/IPython/core/pylabtools.py\u001b[0m in \u001b[0;36mprint_figure\u001b[0;34m(fig, fmt, bbox_inches, **kwargs)\u001b[0m\n\u001b[1;32m    132\u001b[0m         \u001b[0mFigureCanvasBase\u001b[0m\u001b[0;34m(\u001b[0m\u001b[0mfig\u001b[0m\u001b[0;34m)\u001b[0m\u001b[0;34m\u001b[0m\u001b[0;34m\u001b[0m\u001b[0m\n\u001b[1;32m    133\u001b[0m \u001b[0;34m\u001b[0m\u001b[0m\n\u001b[0;32m--> 134\u001b[0;31m     \u001b[0mfig\u001b[0m\u001b[0;34m.\u001b[0m\u001b[0mcanvas\u001b[0m\u001b[0;34m.\u001b[0m\u001b[0mprint_figure\u001b[0m\u001b[0;34m(\u001b[0m\u001b[0mbytes_io\u001b[0m\u001b[0;34m,\u001b[0m \u001b[0;34m**\u001b[0m\u001b[0mkw\u001b[0m\u001b[0;34m)\u001b[0m\u001b[0;34m\u001b[0m\u001b[0;34m\u001b[0m\u001b[0m\n\u001b[0m\u001b[1;32m    135\u001b[0m     \u001b[0mdata\u001b[0m \u001b[0;34m=\u001b[0m \u001b[0mbytes_io\u001b[0m\u001b[0;34m.\u001b[0m\u001b[0mgetvalue\u001b[0m\u001b[0;34m(\u001b[0m\u001b[0;34m)\u001b[0m\u001b[0;34m\u001b[0m\u001b[0;34m\u001b[0m\u001b[0m\n\u001b[1;32m    136\u001b[0m     \u001b[0;32mif\u001b[0m \u001b[0mfmt\u001b[0m \u001b[0;34m==\u001b[0m \u001b[0;34m'svg'\u001b[0m\u001b[0;34m:\u001b[0m\u001b[0;34m\u001b[0m\u001b[0;34m\u001b[0m\u001b[0m\n",
      "\u001b[0;32m~/Documents/.attention_venv/lib/python3.7/site-packages/matplotlib/backend_bases.py\u001b[0m in \u001b[0;36mprint_figure\u001b[0;34m(self, filename, dpi, facecolor, edgecolor, orientation, format, bbox_inches, **kwargs)\u001b[0m\n\u001b[1;32m   2054\u001b[0m                         \u001b[0morientation\u001b[0m\u001b[0;34m=\u001b[0m\u001b[0morientation\u001b[0m\u001b[0;34m,\u001b[0m\u001b[0;34m\u001b[0m\u001b[0;34m\u001b[0m\u001b[0m\n\u001b[1;32m   2055\u001b[0m                         \u001b[0mdryrun\u001b[0m\u001b[0;34m=\u001b[0m\u001b[0;32mTrue\u001b[0m\u001b[0;34m,\u001b[0m\u001b[0;34m\u001b[0m\u001b[0;34m\u001b[0m\u001b[0m\n\u001b[0;32m-> 2056\u001b[0;31m                         **kwargs)\n\u001b[0m\u001b[1;32m   2057\u001b[0m                     \u001b[0mrenderer\u001b[0m \u001b[0;34m=\u001b[0m \u001b[0mself\u001b[0m\u001b[0;34m.\u001b[0m\u001b[0mfigure\u001b[0m\u001b[0;34m.\u001b[0m\u001b[0m_cachedRenderer\u001b[0m\u001b[0;34m\u001b[0m\u001b[0;34m\u001b[0m\u001b[0m\n\u001b[1;32m   2058\u001b[0m                     \u001b[0mbbox_artists\u001b[0m \u001b[0;34m=\u001b[0m \u001b[0mkwargs\u001b[0m\u001b[0;34m.\u001b[0m\u001b[0mpop\u001b[0m\u001b[0;34m(\u001b[0m\u001b[0;34m\"bbox_extra_artists\"\u001b[0m\u001b[0;34m,\u001b[0m \u001b[0;32mNone\u001b[0m\u001b[0;34m)\u001b[0m\u001b[0;34m\u001b[0m\u001b[0;34m\u001b[0m\u001b[0m\n",
      "\u001b[0;32m~/Documents/.attention_venv/lib/python3.7/site-packages/matplotlib/backends/backend_agg.py\u001b[0m in \u001b[0;36mprint_png\u001b[0;34m(self, filename_or_obj, metadata, pil_kwargs, *args, **kwargs)\u001b[0m\n\u001b[1;32m    530\u001b[0m                     \u001b[0mcbook\u001b[0m\u001b[0;34m.\u001b[0m\u001b[0mopen_file_cm\u001b[0m\u001b[0;34m(\u001b[0m\u001b[0mfilename_or_obj\u001b[0m\u001b[0;34m,\u001b[0m \u001b[0;34m\"wb\"\u001b[0m\u001b[0;34m)\u001b[0m \u001b[0;32mas\u001b[0m \u001b[0mfh\u001b[0m\u001b[0;34m:\u001b[0m\u001b[0;34m\u001b[0m\u001b[0;34m\u001b[0m\u001b[0m\n\u001b[1;32m    531\u001b[0m                 _png.write_png(renderer._renderer, fh,\n\u001b[0;32m--> 532\u001b[0;31m                                self.figure.dpi, metadata=metadata)\n\u001b[0m\u001b[1;32m    533\u001b[0m \u001b[0;34m\u001b[0m\u001b[0m\n\u001b[1;32m    534\u001b[0m     \u001b[0;32mdef\u001b[0m \u001b[0mprint_to_buffer\u001b[0m\u001b[0;34m(\u001b[0m\u001b[0mself\u001b[0m\u001b[0;34m)\u001b[0m\u001b[0;34m:\u001b[0m\u001b[0;34m\u001b[0m\u001b[0;34m\u001b[0m\u001b[0m\n",
      "\u001b[0;31mKeyboardInterrupt\u001b[0m: "
     ]
    }
   ],
   "source": [
    "num_heads = model.config.num_attention_heads\n",
    "num_layers = model.config.num_hidden_layers\n",
    "#fig, axes = plt.subplots(num_layers, num_heads)\n",
    "#fig = plt.figure()\n",
    "#fig.suptitle(f\"BERT-Large-WWM Attention Norms\")\n",
    "fig = plt.figure() #plt.figure(figsize=(16, 12)) \n",
    "fig.set_figheight(120)\n",
    "fig.set_figwidth(160)\n",
    "#plt.rcParams[\"figure.figsize\"] = (15 * num_layers, 15 * num_heads)\n",
    "for layer in tqdm(range(num_layers)):\n",
    "    for head in range(num_heads):\n",
    "        plt.subplot(num_heads, num_layers, num_layers * head + layer + 1)\n",
    "        if (layer == 0) or (layer == 23): #or ((layer in layer2head) and (head in layer2head[layer])):\n",
    "            afx_norm = norms[layer][1]\n",
    "            norm = afx_norm[0][head].cpu().numpy()\n",
    "            df = pd.DataFrame(norm,columns=tokenized_text,index=tokenized_text)\n",
    "            sns.heatmap(df,cmap=\"Reds\",square=True)\n",
    "            plt.gcf().subplots_adjust(bottom=0.2)\n",
    "        \n",
    "plt.savefig(f\"{model_name}-attention-important_all.png\", bbox_inches=\"tight\")\n",
    "plt.close(fig)"
   ]
  },
  {
   "cell_type": "code",
   "execution_count": 21,
   "metadata": {},
   "outputs": [
    {
     "data": {
      "image/png": "[encoded data removed]",
      "text/plain": [
       "<Figure size 432x288 with 2 Axes>"
      ]
     },
     "metadata": {
      "needs_background": "light"
     },
     "output_type": "display_data"
    }
   ],
   "source": [
    "layer = 1\n",
    "head = 1\n",
    "plt.figure() \n",
    "afx_norm = norms[layer-1][0][1]  # BART\n",
    "norm = afx_norm[0][head-1].cpu().numpy()\n",
    "df = pd.DataFrame(norm,columns=tokenized_text,index=tokenized_text)\n",
    "sns.heatmap(df,cmap=\"Reds\",square=True)\n",
    "plt.gcf().subplots_adjust(bottom=0.2)"
   ]
  },
  {
   "cell_type": "code",
   "execution_count": 14,
   "metadata": {},
   "outputs": [
    {
     "ename": "IndexError",
     "evalue": "tuple index out of range",
     "output_type": "error",
     "traceback": [
      "\u001b[0;31m---------------------------------------------------------------------------\u001b[0m",
      "\u001b[0;31mIndexError\u001b[0m                                Traceback (most recent call last)",
      "\u001b[0;32m<ipython-input-14-c14bdffdf35b>\u001b[0m in \u001b[0;36m<module>\u001b[0;34m\u001b[0m\n\u001b[1;32m      2\u001b[0m \u001b[0mhead\u001b[0m \u001b[0;34m=\u001b[0m \u001b[0;36m1\u001b[0m\u001b[0;34m\u001b[0m\u001b[0;34m\u001b[0m\u001b[0m\n\u001b[1;32m      3\u001b[0m \u001b[0mplt\u001b[0m\u001b[0;34m.\u001b[0m\u001b[0mfigure\u001b[0m\u001b[0;34m(\u001b[0m\u001b[0;34m)\u001b[0m\u001b[0;34m\u001b[0m\u001b[0;34m\u001b[0m\u001b[0m\n\u001b[0;32m----> 4\u001b[0;31m \u001b[0mafx_norm\u001b[0m \u001b[0;34m=\u001b[0m \u001b[0mnorms\u001b[0m\u001b[0;34m[\u001b[0m\u001b[0mlayer\u001b[0m\u001b[0;34m-\u001b[0m\u001b[0;36m1\u001b[0m\u001b[0;34m]\u001b[0m\u001b[0;34m[\u001b[0m\u001b[0;36m1\u001b[0m\u001b[0;34m]\u001b[0m\u001b[0;34m\u001b[0m\u001b[0;34m\u001b[0m\u001b[0m\n\u001b[0m\u001b[1;32m      5\u001b[0m \u001b[0mnorm\u001b[0m \u001b[0;34m=\u001b[0m \u001b[0mafx_norm\u001b[0m\u001b[0;34m[\u001b[0m\u001b[0;36m0\u001b[0m\u001b[0;34m]\u001b[0m\u001b[0;34m[\u001b[0m\u001b[0mhead\u001b[0m\u001b[0;34m-\u001b[0m\u001b[0;36m1\u001b[0m\u001b[0;34m]\u001b[0m\u001b[0;34m.\u001b[0m\u001b[0mcpu\u001b[0m\u001b[0;34m(\u001b[0m\u001b[0;34m)\u001b[0m\u001b[0;34m.\u001b[0m\u001b[0mnumpy\u001b[0m\u001b[0;34m(\u001b[0m\u001b[0;34m)\u001b[0m\u001b[0;34m\u001b[0m\u001b[0;34m\u001b[0m\u001b[0m\n\u001b[1;32m      6\u001b[0m \u001b[0mdf\u001b[0m \u001b[0;34m=\u001b[0m \u001b[0mpd\u001b[0m\u001b[0;34m.\u001b[0m\u001b[0mDataFrame\u001b[0m\u001b[0;34m(\u001b[0m\u001b[0mnorm\u001b[0m\u001b[0;34m,\u001b[0m\u001b[0mcolumns\u001b[0m\u001b[0;34m=\u001b[0m\u001b[0mtokenized_text\u001b[0m\u001b[0;34m,\u001b[0m\u001b[0mindex\u001b[0m\u001b[0;34m=\u001b[0m\u001b[0mtokenized_text\u001b[0m\u001b[0;34m)\u001b[0m\u001b[0;34m\u001b[0m\u001b[0;34m\u001b[0m\u001b[0m\n",
      "\u001b[0;31mIndexError\u001b[0m: tuple index out of range"
     ]
    },
    {
     "data": {
      "text/plain": [
       "<Figure size 432x288 with 0 Axes>"
      ]
     },
     "metadata": {},
     "output_type": "display_data"
    }
   ],
   "source": [
    "layer = 1\n",
    "head = 1\n",
    "plt.figure() \n",
    "afx_norm = norms[layer-1][1]\n",
    "norm = afx_norm[0][head-1].cpu().numpy()\n",
    "df = pd.DataFrame(norm,columns=tokenized_text,index=tokenized_text)\n",
    "sns.heatmap(df,cmap=\"Reds\",square=True)\n",
    "plt.gcf().subplots_adjust(bottom=0.2)"
   ]
  },
  {
   "cell_type": "markdown",
   "metadata": {},
   "source": [
    "### Attention weight visualization (Layer-level visualization)"
   ]
  },
  {
   "cell_type": "code",
   "execution_count": 12,
   "metadata": {},
   "outputs": [
    {
     "data": {
      "image/png": "[encoded data removed]",
      "text/plain": [
       "<Figure size 432x288 with 2 Axes>"
      ]
     },
     "metadata": {
      "needs_background": "light"
     },
     "output_type": "display_data"
    }
   ],
   "source": [
    "plt.figure() \n",
    "attention = attentions[layer-1][0].mean(0).cpu().numpy()\n",
    "df = pd.DataFrame(attention,columns=tokenized_text,index=tokenized_text)\n",
    "sns.heatmap(df,cmap=\"Reds\",square=True)\n",
    "plt.gcf().subplots_adjust(bottom=0.2)"
   ]
  },
  {
   "cell_type": "markdown",
   "metadata": {},
   "source": [
    "### Norm of the summed weighted vectors (||Σ αf(x)||) visualization (Layer-level visualization)"
   ]
  },
  {
   "cell_type": "code",
   "execution_count": 13,
   "metadata": {},
   "outputs": [
    {
     "data": {
      "image/png": "[encoded data removed]",
      "text/plain": [
       "<Figure size 432x288 with 2 Axes>"
      ]
     },
     "metadata": {
      "needs_background": "light"
     },
     "output_type": "display_data"
    }
   ],
   "source": [
    "plt.figure() \n",
    "summed_afx_norm = norms[layer-1][2]\n",
    "norm = summed_afx_norm[0].cpu().numpy()\n",
    "df = pd.DataFrame(norm,columns=tokenized_text,index=tokenized_text)\n",
    "sns.heatmap(df,cmap=\"Reds\",square=True)\n",
    "plt.gcf().subplots_adjust(bottom=0.2)"
   ]
  },
  {
   "cell_type": "code",
   "execution_count": null,
   "metadata": {},
   "outputs": [],
   "source": []
  },
  {
   "cell_type": "code",
   "execution_count": null,
   "metadata": {},
   "outputs": [],
   "source": []
  }
 ],
 "metadata": {
  "kernelspec": {
   "display_name": "Python 3",
   "language": "python",
   "name": "python3"
  },
  "language_info": {
   "codemirror_mode": {
    "name": "ipython",
    "version": 3
   },
   "file_extension": ".py",
   "mimetype": "text/x-python",
   "name": "python",
   "nbconvert_exporter": "python",
   "pygments_lexer": "ipython3",
   "version": "3.7.10"
  }
 },
 "nbformat": 4,
 "nbformat_minor": 4
}
