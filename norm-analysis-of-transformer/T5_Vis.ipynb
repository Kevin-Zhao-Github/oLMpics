{
 "cells": [
  {
   "cell_type": "code",
   "execution_count": 1,
   "id": "32b87552",
   "metadata": {},
   "outputs": [
    {
     "name": "stdout",
     "output_type": "stream",
     "text": [
      "The current process just got forked. Disabling parallelism to avoid deadlocks...\n",
      "To disable this warning, please explicitly set TOKENIZERS_PARALLELISM=(true | false)\n",
      "The current process just got forked. Disabling parallelism to avoid deadlocks...\n",
      "To disable this warning, please explicitly set TOKENIZERS_PARALLELISM=(true | false)\n",
      "The current process just got forked. Disabling parallelism to avoid deadlocks...\n",
      "To disable this warning, please explicitly set TOKENIZERS_PARALLELISM=(true | false)\n"
     ]
    }
   ],
   "source": [
    "import torch\n",
    "from transformers import BertModel, BertTokenizer, RobertaModel, RobertaTokenizer, BartModel, BartTokenizer, BartConfig, T5Model, T5Tokenizer\n",
    "import seaborn as sns\n",
    "import pandas as pd\n",
    "import numpy as np\n",
    "import matplotlib.pyplot as plt\n",
    "from tqdm.auto import tqdm\n",
    "\n",
    "device = \"cuda\" if torch.cuda.is_available() else \"cpu\""
   ]
  },
  {
   "cell_type": "code",
   "execution_count": 2,
   "id": "722a3053",
   "metadata": {},
   "outputs": [],
   "source": [
    "import transformers"
   ]
  },
  {
   "cell_type": "code",
   "execution_count": 7,
   "id": "5a46d7ef",
   "metadata": {},
   "outputs": [
    {
     "data": {
      "text/plain": [
       "32100"
      ]
     },
     "execution_count": 7,
     "metadata": {},
     "output_type": "execute_result"
    }
   ],
   "source": [
    "T5Tokenizer.from_pretrained(\"t5-small\").vocab_size"
   ]
  },
  {
   "cell_type": "code",
   "execution_count": 10,
   "id": "3b206920",
   "metadata": {},
   "outputs": [],
   "source": [
    "transformers.T5Config(\n",
    "    d_model=128,\n",
    "    d_kv=32,\n",
    "    d_ff=256,\n",
    "    num_layers=6,\n",
    "    num_heads=4\n",
    ").save_pretrained(\"t5-tiny-6L-4H\")"
   ]
  },
  {
   "cell_type": "code",
   "execution_count": 1,
   "id": "abec5777",
   "metadata": {},
   "outputs": [],
   "source": [
    "from datasets import load_dataset"
   ]
  },
  {
   "cell_type": "code",
   "execution_count": 13,
   "id": "c97dbb49",
   "metadata": {},
   "outputs": [
    {
     "name": "stdout",
     "output_type": "stream",
     "text": [
      "The current process just got forked. Disabling parallelism to avoid deadlocks...\n",
      "To disable this warning, please explicitly set TOKENIZERS_PARALLELISM=(true | false)\n"
     ]
    }
   ],
   "source": [
    "!export TOKENIZERS_PARALLELISM=false"
   ]
  },
  {
   "cell_type": "code",
   "execution_count": 3,
   "id": "c2d105b3",
   "metadata": {},
   "outputs": [
    {
     "data": {
      "application/vnd.jupyter.widget-view+json": {
       "model_id": "738c741244944509b9f884a987c9fe36",
       "version_major": 2,
       "version_minor": 0
      },
      "text/plain": [
       "Downloading:   0%|          | 0.00/7.78k [00:00<?, ?B/s]"
      ]
     },
     "metadata": {},
     "output_type": "display_data"
    },
    {
     "data": {
      "application/vnd.jupyter.widget-view+json": {
       "model_id": "926513a2a50c4fef9c11ee62604eff6c",
       "version_major": 2,
       "version_minor": 0
      },
      "text/plain": [
       "Downloading:   0%|          | 0.00/4.47k [00:00<?, ?B/s]"
      ]
     },
     "metadata": {},
     "output_type": "display_data"
    },
    {
     "name": "stdout",
     "output_type": "stream",
     "text": [
      "Downloading and preparing dataset glue/rte (download: 680.81 KiB, generated: 1.83 MiB, post-processed: Unknown size, total: 2.49 MiB) to /home/kzhao/.cache/huggingface/datasets/glue/rte/1.0.0/dacbe3125aa31d7f70367a07a8a9e72a5a0bfeb5fc42e75c9db75b96da6053ad...\n"
     ]
    },
    {
     "data": {
      "application/vnd.jupyter.widget-view+json": {
       "model_id": "75b51c48b7ae469e8731b561f8b25ff0",
       "version_major": 2,
       "version_minor": 0
      },
      "text/plain": [
       "Downloading:   0%|          | 0.00/697k [00:00<?, ?B/s]"
      ]
     },
     "metadata": {},
     "output_type": "display_data"
    },
    {
     "data": {
      "application/vnd.jupyter.widget-view+json": {
       "model_id": "",
       "version_major": 2,
       "version_minor": 0
      },
      "text/plain": [
       "0 examples [00:00, ? examples/s]"
      ]
     },
     "metadata": {},
     "output_type": "display_data"
    },
    {
     "data": {
      "application/vnd.jupyter.widget-view+json": {
       "model_id": "",
       "version_major": 2,
       "version_minor": 0
      },
      "text/plain": [
       "0 examples [00:00, ? examples/s]"
      ]
     },
     "metadata": {},
     "output_type": "display_data"
    },
    {
     "data": {
      "application/vnd.jupyter.widget-view+json": {
       "model_id": "",
       "version_major": 2,
       "version_minor": 0
      },
      "text/plain": [
       "0 examples [00:00, ? examples/s]"
      ]
     },
     "metadata": {},
     "output_type": "display_data"
    },
    {
     "name": "stdout",
     "output_type": "stream",
     "text": [
      "Dataset glue downloaded and prepared to /home/kzhao/.cache/huggingface/datasets/glue/rte/1.0.0/dacbe3125aa31d7f70367a07a8a9e72a5a0bfeb5fc42e75c9db75b96da6053ad. Subsequent calls will reuse this data.\n"
     ]
    },
    {
     "data": {
      "application/vnd.jupyter.widget-view+json": {
       "model_id": "b40a95cc911246d4a75eedd601f812dd",
       "version_major": 2,
       "version_minor": 0
      },
      "text/plain": [
       "  0%|          | 0/3 [00:00<?, ?it/s]"
      ]
     },
     "metadata": {},
     "output_type": "display_data"
    }
   ],
   "source": [
    "dataset = load_dataset(\"glue\", \"rte\")"
   ]
  },
  {
   "cell_type": "code",
   "execution_count": 3,
   "id": "9f488088",
   "metadata": {},
   "outputs": [
    {
     "name": "stderr",
     "output_type": "stream",
     "text": [
      "Some weights of T5ForConditionalGeneration were not initialized from the model checkpoint at t5-large and are newly initialized: ['encoder.embed_tokens.weight', 'decoder.embed_tokens.weight', 'lm_head.weight']\n",
      "You should probably TRAIN this model on a down-stream task to be able to use it for predictions and inference.\n"
     ]
    },
    {
     "data": {
      "text/plain": [
       "['▁A',\n",
       " '▁41',\n",
       " '▁year',\n",
       " '▁old',\n",
       " '▁person',\n",
       " '▁age',\n",
       " '▁is',\n",
       " '<extra_id_0>',\n",
       " '▁than',\n",
       " '▁',\n",
       " 'a',\n",
       " '▁42',\n",
       " '▁year',\n",
       " '▁old',\n",
       " '▁person',\n",
       " '▁',\n",
       " '.']"
      ]
     },
     "execution_count": 3,
     "metadata": {},
     "output_type": "execute_result"
    }
   ],
   "source": [
    "# model_name = \"facebook/bart-large\"\n",
    "model_name = \"t5-large\"\n",
    "# model_name = \"t5-base\"\n",
    "if \"bart\" in model_name.lower():\n",
    "    tokenizer = BartTokenizer.from_pretrained(model_name)\n",
    "    model = BartModel.from_pretrained(model_name).to(device)\n",
    "elif \"t5\" in model_name.lower():\n",
    "    tokenizer = T5Tokenizer.from_pretrained(model_name)\n",
    "    tokenizer.mask_token = \"<extra_id_0>\"\n",
    "#     model = T5Model.from_pretrained(model_name).to(device)\n",
    "    model = transformers.T5ForConditionalGeneration.from_pretrained(model_name).to(device)\n",
    "else:\n",
    "    assert False\n",
    "\n",
    "model.eval()\n",
    "\n",
    "input_ids = torch.tensor([tokenizer.encode(f\"A 41 year old person age is {tokenizer.mask_token} than a 42 year old person .\", add_special_tokens=True)]).to(device)\n",
    "# input_ids = torch.tensor([tokenizer.encode(f\"rte sentence1: A smaller proportion of Yugoslavia’s Italians were settled in Slovenia (at the 1991 national census, some 3000 inhabitants of Slovenia declared themselves as ethnic Italians). sentence2: Slovenia has 3,000 inhabitants.\", add_special_tokens=True)]).to(device)\n",
    "tokenized_text = tokenizer.convert_ids_to_tokens(input_ids[0])\n",
    "tokenized_text"
   ]
  },
  {
   "cell_type": "code",
   "execution_count": 7,
   "id": "da7f406a",
   "metadata": {},
   "outputs": [],
   "source": [
    "pad_id = torch.tensor([tokenizer.encode(\"<extra_id_0>\", add_special_tokens=False)]).to(device)\n",
    "with torch.no_grad():\n",
    "    loss, decoder_features, decoder_cache, decoder_states, decoder_attns, decoder_self_norms, decoder_cross_norms, encoder_last_state, encoder_states, encoder_attns, encoder_norms = model(input_ids=input_ids.repeat(2, 1), labels=pad_id.repeat(2, 1), output_hidden_states=True, output_attentions=True, output_norms=True)"
   ]
  },
  {
   "cell_type": "code",
   "execution_count": 20,
   "id": "0718cee4",
   "metadata": {},
   "outputs": [
    {
     "data": {
      "text/plain": [
       "torch.Size([2, 24, 16, 17, 17])"
      ]
     },
     "execution_count": 20,
     "metadata": {},
     "output_type": "execute_result"
    }
   ],
   "source": [
    "norm_list = []\n",
    "for el in encoder_norms:\n",
    "    norm_list.append(el[1])\n",
    "\n",
    "norm_tensor = torch.stack(norm_list, dim=1)\n",
    "# num_layers, num_heads, seq_len, _ = norm_tensor.size()\n",
    "# assert num_layers == model.config.num_hidden_layers and num_heads == model.config.num_attention_heads and seq_len == _\n",
    "# norm_tensor = norm_tensor.reshape(num_layers, num_heads, seq_len * seq_len).permute(1, 0, 2).contiguous()\n",
    "norm_tensor.size()"
   ]
  },
  {
   "cell_type": "code",
   "execution_count": 17,
   "id": "08bde5ee",
   "metadata": {},
   "outputs": [
    {
     "data": {
      "text/plain": [
       "torch.Size([2, 16, 17, 17])"
      ]
     },
     "execution_count": 17,
     "metadata": {},
     "output_type": "execute_result"
    }
   ],
   "source": [
    "encoder_norms[2][1].size()"
   ]
  },
  {
   "cell_type": "code",
   "execution_count": 6,
   "id": "47ce7f05",
   "metadata": {},
   "outputs": [
    {
     "data": {
      "text/plain": [
       "tensor(0., device='cuda:0')"
      ]
     },
     "execution_count": 6,
     "metadata": {},
     "output_type": "execute_result"
    }
   ],
   "source": [
    "loss"
   ]
  },
  {
   "cell_type": "code",
   "execution_count": 14,
   "id": "55726728",
   "metadata": {},
   "outputs": [],
   "source": [
    "pad_id = torch.tensor([tokenizer.encode(tokenizer.pad_token, add_special_tokens=False)]).to(device)"
   ]
  },
  {
   "cell_type": "code",
   "execution_count": 32,
   "id": "13079c19",
   "metadata": {},
   "outputs": [],
   "source": [
    "with torch.no_grad():\n",
    "#     last_hidden_state, pooler_output, hidden_states, attentions, norms = model(input_ids=input_ids, output_hidden_states=True, output_attentions=True, output_norms=True)\n",
    "#     decoder_features, decoder_states, decoder_attns, encoder_last_state, encoder_states, encoder_attns, norms = model(input_ids=input_ids.repeat(2, 1), output_hidden_states=True, output_attentions=True, output_norms=True)    \n",
    "    decoder_features, decoder_states, decoder_attns, decoder_self_norms, decoder_cross_norms, encoder_last_state, encoder_states, encoder_attns, encoder_norms = model(input_ids=input_ids, output_hidden_states=True, output_attentions=True, output_norms=True)  # BART\n",
    "#     decoder_features, decoder_cache, decoder_states, decoder_attns, decoder_self_norms, decoder_cross_norms, encoder_last_state, encoder_states, encoder_attns, encoder_norms = model(input_ids=input_ids, decoder_input_ids=pad_id, output_hidden_states=True, output_attentions=True, output_norms=True)  # T5"
   ]
  },
  {
   "cell_type": "code",
   "execution_count": 9,
   "id": "afb8e45b",
   "metadata": {},
   "outputs": [
    {
     "data": {
      "application/vnd.jupyter.widget-view+json": {
       "model_id": "d753364506e740c3b66bc849f9c0cdbf",
       "version_major": 2,
       "version_minor": 0
      },
      "text/plain": [
       "  0%|          | 0/24 [00:00<?, ?it/s]"
      ]
     },
     "metadata": {},
     "output_type": "display_data"
    }
   ],
   "source": [
    "norms = encoder_norms\n",
    "num_heads = model.config.num_attention_heads\n",
    "num_layers = model.config.num_hidden_layers\n",
    "fig = plt.figure()\n",
    "fig.set_figheight(180)\n",
    "fig.set_figwidth(120)\n",
    "for layer in tqdm(range(num_layers)):\n",
    "    for head in range(num_heads):\n",
    "        ax = plt.subplot(num_layers, num_heads, num_heads * layer + head + 1)\n",
    "        real_layer = layer\n",
    "        afx_norm = norms[real_layer][1]  # bart decoder-self, bart cross, t5 all\n",
    "        norm = afx_norm[0][head].cpu().numpy()\n",
    "\n",
    "        plt.imshow(norm, cmap=sns.color_palette(\"Reds\", as_cmap=True))\n",
    "        ax.set_xticks(np.arange(len(tokenized_text)))\n",
    "        ax.set_yticks(np.arange(len(tokenized_text)))\n",
    "\n",
    "        ax.set_xticklabels(tokenized_text)\n",
    "        ax.set_yticklabels(tokenized_text)\n",
    "\n",
    "        ax.title.set_text(f\"Layer {layer} Head {head}\")\n",
    "\n",
    "        plt.setp(ax.get_xticklabels(), rotation=45, ha=\"right\", rotation_mode=\"anchor\")\n",
    "        \n",
    "#     time.sleep(30)\n",
    "\n",
    "plt.savefig(f\"t5-encoder-self-attention_1-16.png\", bbox_inches=\"tight\")\n",
    "plt.close(fig)\n",
    "# plt.show()"
   ]
  },
  {
   "cell_type": "code",
   "execution_count": 14,
   "id": "d5230ea6",
   "metadata": {},
   "outputs": [
    {
     "data": {
      "application/vnd.jupyter.widget-view+json": {
       "model_id": "9eae22fc3f3e43b0acee83b5b6d1a9ad",
       "version_major": 2,
       "version_minor": 0
      },
      "text/plain": [
       "  0%|          | 0/24 [00:00<?, ?it/s]"
      ]
     },
     "metadata": {},
     "output_type": "display_data"
    }
   ],
   "source": [
    "norms = decoder_cross_norms\n",
    "num_heads = model.config.num_attention_heads\n",
    "num_layers = model.config.num_hidden_layers\n",
    "fig = plt.figure()\n",
    "fig.set_figheight(40)\n",
    "fig.set_figwidth(120)\n",
    "for layer in tqdm(range(num_layers)):\n",
    "    for head in range(num_heads):\n",
    "        ax = plt.subplot(num_layers, num_heads, num_heads * layer + head + 1)\n",
    "        real_layer = layer\n",
    "        afx_norm = norms[real_layer][1]  # bart decoder-self, bart cross, t5 all\n",
    "        norm = afx_norm[0][head].cpu().numpy()\n",
    "\n",
    "        plt.imshow(norm, cmap=sns.color_palette(\"Reds\", as_cmap=True))\n",
    "        ax.set_xticks(np.arange(len(tokenized_text)))\n",
    "        ax.set_yticks(np.arange(1))\n",
    "\n",
    "        ax.set_xticklabels(tokenized_text)\n",
    "        ax.set_yticklabels([\"<pad>\"])\n",
    "\n",
    "        ax.title.set_text(f\"Layer {layer} Head {head}\")\n",
    "\n",
    "        plt.setp(ax.get_xticklabels(), rotation=45, ha=\"right\", rotation_mode=\"anchor\")\n",
    "        \n",
    "#     time.sleep(30)\n",
    "\n",
    "plt.savefig(f\"t5-decoder-cross-attention_1-16.png\", bbox_inches=\"tight\")\n",
    "plt.close(fig)\n",
    "# plt.show()"
   ]
  },
  {
   "cell_type": "code",
   "execution_count": 31,
   "id": "07750602",
   "metadata": {},
   "outputs": [],
   "source": [
    "decoder_norms_list = []\n",
    "for layer in range(num_layers):\n",
    "    decoder_norms_list.append(decoder_self_norms[layer][1])\n",
    "    \n",
    "decoder_norms_tensor = torch.stack(decoder_norms_list).squeeze(-1).squeeze(-1).squeeze(1)"
   ]
  },
  {
   "cell_type": "code",
   "execution_count": 36,
   "id": "6245ff79",
   "metadata": {},
   "outputs": [
    {
     "data": {
      "image/png": "[encoded data removed]",
      "text/plain": [
       "<Figure size 432x288 with 2 Axes>"
      ]
     },
     "metadata": {
      "needs_background": "light"
     },
     "output_type": "display_data"
    }
   ],
   "source": [
    "plt.title(\"T5-Large Decoder Self-Attention Norms\")\n",
    "plt.xlabel(\"Head\")\n",
    "plt.ylabel(\"Layer\")\n",
    "plt.imshow(decoder_norms_tensor.cpu())\n",
    "plt.colorbar()\n",
    "plt.savefig(f\"t5-decoder-self-attention_1-16.png\", bbox_inches=\"tight\")"
   ]
  },
  {
   "cell_type": "code",
   "execution_count": 12,
   "id": "a95c3928",
   "metadata": {},
   "outputs": [],
   "source": [
    "plt.rcParams[\"figure.dpi\"] = 240"
   ]
  },
  {
   "cell_type": "code",
   "execution_count": 5,
   "id": "515eef88",
   "metadata": {},
   "outputs": [
    {
     "data": {
      "application/vnd.jupyter.widget-view+json": {
       "model_id": "706634ce05064061a49658a0b84d0d44",
       "version_major": 2,
       "version_minor": 0
      },
      "text/plain": [
       "  0%|          | 0/3 [00:00<?, ?it/s]"
      ]
     },
     "metadata": {},
     "output_type": "display_data"
    },
    {
     "data": {
      "image/png": "[encoded data removed]",
      "text/plain": [
       "<Figure size 1440x1440 with 15 Axes>"
      ]
     },
     "metadata": {
      "needs_background": "dark"
     },
     "output_type": "display_data"
    }
   ],
   "source": [
    "# def getH(head):\n",
    "#     assert 0 <= head < 3\n",
    "#     if head < 2:\n",
    "#         return head + 7\n",
    "#     elif head == 2:\n",
    "#         return 12\n",
    "\n",
    "def getH(head):\n",
    "    assert 0 <= head < 3\n",
    "    if head == 0:\n",
    "        return 2  # 6\n",
    "    elif head == 1:\n",
    "        return 8\n",
    "    elif head == 2:\n",
    "        return 9\n",
    "\n",
    "# def get(layer):\n",
    "#     assert 0 <= layer < 3\n",
    "#     if layer == 0:\n",
    "#         return 10\n",
    "#     elif layer == 1:\n",
    "#         return 5\n",
    "#     elif layer == 2:\n",
    "#         return 0\n",
    "    \n",
    "def get(layer):\n",
    "    assert 0 <= layer < 3\n",
    "    if layer == 0:\n",
    "        return 11\n",
    "    elif layer == 1:\n",
    "        return 6\n",
    "    elif layer == 2:\n",
    "        return 0  # 1\n",
    "\n",
    "norms = encoder_norms\n",
    "fig = plt.figure()\n",
    "fig.set_figheight(20)\n",
    "fig.set_figwidth(20)\n",
    "x_axs = [fig.add_subplot(1, 3, i, label=f\"Head {getH(i - 1)}\") for i in range(1, 4)]\n",
    "y_axs = [fig.add_subplot(3, 1, i, label=\"asf\") for i in range(1, 4)]\n",
    "\n",
    "for x_ax in x_axs:\n",
    "    x_ax.spines['top'].set_color('none')\n",
    "    x_ax.spines['bottom'].set_color('none')\n",
    "    x_ax.spines['left'].set_color('none')\n",
    "    x_ax.spines['right'].set_color('none')\n",
    "    x_ax.tick_params(labelcolor='w', top=False, bottom=False, left=False, right=False)\n",
    "\n",
    "for y_ax in y_axs:\n",
    "    y_ax.spines['top'].set_color('none')\n",
    "    y_ax.spines['bottom'].set_color('none')\n",
    "    y_ax.spines['left'].set_color('none')\n",
    "    y_ax.spines['right'].set_color('none')\n",
    "    y_ax.tick_params(labelcolor='w', top=False, bottom=False, left=False, right=False)\n",
    "\n",
    "for layer in tqdm(range(3)):\n",
    "    for head in range(3):\n",
    "        axt = fig.add_subplot(3, 3, 3 * layer + head + 1)\n",
    "        afx_norm = norms[get(layer)][1]  # bart all, t5 all\n",
    "        norm = afx_norm[0][getH(head)].cpu().numpy()\n",
    "\n",
    "#         axt.imshow(norm, cmap=\"hot\")\n",
    "        axt.imshow(norm, cmap=sns.color_palette(\"Reds\", as_cmap=True))\n",
    "        axt.tick_params(which=\"both\", bottom=False, left=False, labelbottom=False, labelleft=False)\n",
    "\n",
    "# ax1.loglog(x, y1)\n",
    "# ax2.loglog(x, y2)\n",
    "\n",
    "# Set common labels\n",
    "for i, x_ax in enumerate(x_axs):\n",
    "    x_ax.set_xlabel(f\"Head {getH(i)}\", fontsize=30)\n",
    "\n",
    "for i, y_ax in enumerate(y_axs):\n",
    "    y_ax.set_ylabel(f\"Layer {get(i)}\", fontsize=30)\n",
    "\n",
    "# plt.savefig('t5_base_alternate_heads_head_2.png', bbox_inches='tight')\n",
    "# plt.close(fig)\n",
    "plt.show()"
   ]
  },
  {
   "cell_type": "code",
   "execution_count": 33,
   "id": "e603d89b",
   "metadata": {},
   "outputs": [
    {
     "data": {
      "text/plain": [
       "torch.Size([12, 16, 17, 17])"
      ]
     },
     "execution_count": 33,
     "metadata": {},
     "output_type": "execute_result"
    }
   ],
   "source": [
    "norm_list = []\n",
    "for el in encoder_norms:\n",
    "    norm_list.append(el[1])\n",
    "\n",
    "norm_tensor = torch.cat(norm_list, dim=0)\n",
    "# num_layers, num_heads, seq_len, _ = norm_tensor.size()\n",
    "# assert num_layers == model.config.num_hidden_layers and num_heads == model.config.num_attention_heads and seq_len == _\n",
    "# norm_tensor = norm_tensor.reshape(num_layers, num_heads, seq_len * seq_len).permute(1, 0, 2).contiguous()\n",
    "norm_tensor.size()"
   ]
  },
  {
   "cell_type": "code",
   "execution_count": 1,
   "id": "9327b9b4",
   "metadata": {},
   "outputs": [],
   "source": [
    "import numpy as np\n",
    "import matplotlib.pyplot as plt\n",
    "\n",
    "import torch\n",
    "import torch.nn as nn\n",
    "import torch.nn.functional as F"
   ]
  },
  {
   "cell_type": "code",
   "execution_count": 8,
   "id": "effb36af",
   "metadata": {},
   "outputs": [],
   "source": [
    "def compute_specialization_metric(encoder_norms):\n",
    "    \"\"\"\n",
    "    Args:\n",
    "        encoder_norms - Attention norms.\n",
    "                        Tensor of size (num_layers, num_heads, seq_len, seq_len)\n",
    "    \"\"\"\n",
    "    \n",
    "    num_layers, num_heads, seq_len, seq_len2 = encoder_norms.size()\n",
    "    assert seq_len == seq_len2\n",
    "    encoder_norms = encoder_norms.permute(1, 0, 2, 3)  # flip layer dimension with head dimension\n",
    "    encoder_norms = F.normalize(encoder_norms.flatten(2).contiguous(), p=1.0, dim=-1)  # divide each attention norm pattern by its mean\n",
    "    # encoder_norms now has a size of (num_heads, num_layers, seq_len * seq_len)\n",
    "\n",
    "    head_variances = []\n",
    "    for single_head_norms in encoder_norms:\n",
    "        single_head_distances = F.pdist(single_head_norms, p=1)  # pairwise L1 distances\n",
    "        head_variances.append(torch.mean(single_head_distances))\n",
    "\n",
    "    single_head_var = torch.stack(head_variances).mean()\n",
    "    all_head_var = torch.mean(\n",
    "        F.pdist(encoder_norms.flatten(start_dim=0, end_dim=1).contiguous(), p=1\n",
    "    )).mean()  # pairwise distances between all attention norm patterns\n",
    "    \n",
    "#     head_variances = []\n",
    "#     for single_head_norms in encoder_norms:\n",
    "#         single_head_distances = F.pdist(single_head_norms, p=1)  # pairwise L1 distances\n",
    "#         head_variances.append(torch.var(single_head_distances, unbiased=True))\n",
    "\n",
    "#     single_head_var = torch.stack(head_variances).mean()\n",
    "#     all_head_var = torch.var(\n",
    "#         F.pdist(encoder_norms.flatten(start_dim=0, end_dim=1).contiguous(), p=1\n",
    "#     ), unbiased=True).mean()  # pairwise distances between all attention norm patterns\n",
    "    \n",
    "    return single_head_var.item() / all_head_var.item()"
   ]
  },
  {
   "cell_type": "code",
   "execution_count": 34,
   "id": "4a6ad7f5",
   "metadata": {},
   "outputs": [
    {
     "data": {
      "text/plain": [
       "1.0006509541880777"
      ]
     },
     "execution_count": 34,
     "metadata": {},
     "output_type": "execute_result"
    }
   ],
   "source": [
    "compute_specialization_metric(norm_tensor)"
   ]
  },
  {
   "cell_type": "code",
   "execution_count": 10,
   "id": "90e0a4e7",
   "metadata": {},
   "outputs": [
    {
     "name": "stdout",
     "output_type": "stream",
     "text": [
      "Mean: 0.0\n"
     ]
    },
    {
     "data": {
      "image/png": "[encoded data removed]",
      "text/plain": [
       "<Figure size 432x288 with 1 Axes>"
      ]
     },
     "metadata": {
      "needs_background": "light"
     },
     "output_type": "display_data"
    }
   ],
   "source": [
    "metrics = []\n",
    "for i in range(10000):\n",
    "#     encoder_norms = torch.rand(6, 4, 20, 20)\n",
    "#     encoder_norms = torch.rand(1, 4, 20, 20).expand(6, 4, 20, 20)\n",
    "\n",
    "    metrics.append(compute_specialization_metric(encoder_norms))\n",
    "    \n",
    "print(f\"Mean: {np.mean(metrics)}\")\n",
    "plt.hist(metrics)\n",
    "plt.show()"
   ]
  },
  {
   "cell_type": "code",
   "execution_count": null,
   "id": "4cd43a97",
   "metadata": {},
   "outputs": [],
   "source": []
  },
  {
   "cell_type": "code",
   "execution_count": 144,
   "id": "49f57f96",
   "metadata": {},
   "outputs": [],
   "source": [
    "metrics = []\n",
    "for i in range(5000):\n",
    "    norm_tensor = torch.rand_like(norm_tensor)\n",
    "\n",
    "    head_var = []\n",
    "    for head in range(num_heads):\n",
    "    #     head_distances = F.pdist(norm_tensor[head], p=1)  # pairwise distances\n",
    "        head_distances = F.pdist(norm_tensor[head], p=1.0, dim=-1), p=1)\n",
    "        head_var.append(torch.var(head_distances, unbiased=True))\n",
    "\n",
    "    var_by_head = torch.stack(head_var).mean().item()\n",
    "    var_all = torch.var(F.pdist(F.normalize(norm_tensor.flatten(start_dim=0, end_dim=1).contiguous(), p=1.0, dim=-1), p=1), unbiased=True).mean().item()\n",
    "    metric = var_by_head / var_all\n",
    "    metrics.append(metric)"
   ]
  },
  {
   "cell_type": "code",
   "execution_count": 150,
   "id": "96c1399d",
   "metadata": {},
   "outputs": [
    {
     "data": {
      "text/plain": [
       "(array([  20.,  146.,  617., 1243., 1353.,  969.,  467.,  144.,   35.,\n",
       "           6.]),\n",
       " array([0.6036007 , 0.66992307, 0.73624545, 0.80256782, 0.86889019,\n",
       "        0.93521256, 1.00153493, 1.0678573 , 1.13417967, 1.20050204,\n",
       "        1.26682442]),\n",
       " <a list of 10 Patch objects>)"
      ]
     },
     "execution_count": 150,
     "metadata": {},
     "output_type": "execute_result"
    },
    {
     "data": {
      "image/png": "[encoded data removed]",
      "text/plain": [
       "<Figure size 432x288 with 1 Axes>"
      ]
     },
     "metadata": {
      "needs_background": "light"
     },
     "output_type": "display_data"
    }
   ],
   "source": [
    "plt.hist(metrics)"
   ]
  },
  {
   "cell_type": "code",
   "execution_count": 145,
   "id": "86288d53",
   "metadata": {},
   "outputs": [
    {
     "data": {
      "text/plain": [
       "0.8955757816967355"
      ]
     },
     "execution_count": 145,
     "metadata": {},
     "output_type": "execute_result"
    }
   ],
   "source": [
    "np.mean(metrics)"
   ]
  },
  {
   "cell_type": "code",
   "execution_count": 146,
   "id": "0d620c9a",
   "metadata": {},
   "outputs": [
    {
     "data": {
      "text/plain": [
       "0.09258396656428546"
      ]
     },
     "execution_count": 146,
     "metadata": {},
     "output_type": "execute_result"
    }
   ],
   "source": [
    "np.std(metrics)"
   ]
  },
  {
   "cell_type": "code",
   "execution_count": 114,
   "id": "dbc93d46",
   "metadata": {},
   "outputs": [
    {
     "data": {
      "text/plain": [
       "0.0"
      ]
     },
     "execution_count": 114,
     "metadata": {},
     "output_type": "execute_result"
    }
   ],
   "source": [
    "var_by_head"
   ]
  },
  {
   "cell_type": "code",
   "execution_count": 115,
   "id": "151ed6b1",
   "metadata": {},
   "outputs": [
    {
     "data": {
      "text/plain": [
       "0.029955586418509483"
      ]
     },
     "execution_count": 115,
     "metadata": {},
     "output_type": "execute_result"
    }
   ],
   "source": [
    "var_all"
   ]
  },
  {
   "cell_type": "code",
   "execution_count": 77,
   "id": "b263940b",
   "metadata": {},
   "outputs": [
    {
     "data": {
      "text/plain": [
       "tensor(19402692., device='cuda:0')"
      ]
     },
     "execution_count": 77,
     "metadata": {},
     "output_type": "execute_result"
    }
   ],
   "source": [
    "var_by_head"
   ]
  },
  {
   "cell_type": "code",
   "execution_count": 78,
   "id": "9944bc2c",
   "metadata": {},
   "outputs": [
    {
     "data": {
      "text/plain": [
       "tensor(26087408., device='cuda:0')"
      ]
     },
     "execution_count": 78,
     "metadata": {},
     "output_type": "execute_result"
    }
   ],
   "source": [
    "var_all"
   ]
  },
  {
   "cell_type": "code",
   "execution_count": null,
   "id": "f95fbf89",
   "metadata": {},
   "outputs": [],
   "source": [
    "- L1 distance between attention patterns for all layers for every head\n",
    "1. Normalize attention norms (somehow)\n",
    "    1. Divide each attention norm by an average value of this attention norm\n",
    "2. Compute all paiwise distances between the attention norms for every layer within each head\n",
    "3. Compute variance between them\n",
    "4. Compute mean over all heads\n",
    "5. Compare BART and T5\n",
    "6. Do the same, but for all paiwise distances of all heads and layers (no step 4 then)"
   ]
  }
 ],
 "metadata": {
  "kernelspec": {
   "display_name": "Python 3 (ipykernel)",
   "language": "python",
   "name": "python3"
  },
  "language_info": {
   "codemirror_mode": {
    "name": "ipython",
    "version": 3
   },
   "file_extension": ".py",
   "mimetype": "text/x-python",
   "name": "python",
   "nbconvert_exporter": "python",
   "pygments_lexer": "ipython3",
   "version": "3.8.10"
  }
 },
 "nbformat": 4,
 "nbformat_minor": 5
}
