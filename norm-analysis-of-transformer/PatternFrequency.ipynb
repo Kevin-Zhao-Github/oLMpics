{
 "cells": [
  {
   "cell_type": "code",
   "execution_count": 1,
   "id": "5bf2c7e4",
   "metadata": {},
   "outputs": [],
   "source": [
    "import torch\n",
    "import transformers\n",
    "import seaborn as sns\n",
    "import pandas as pd\n",
    "import numpy as np\n",
    "import matplotlib.pyplot as plt\n",
    "from tqdm.auto import tqdm\n",
    "\n",
    "device = \"cuda\" if torch.cuda.is_available() else \"cpu\""
   ]
  },
  {
   "cell_type": "code",
   "execution_count": 2,
   "id": "50d313ee",
   "metadata": {},
   "outputs": [
    {
     "name": "stdout",
     "output_type": "stream",
     "text": [
      "t5-large\n"
     ]
    },
    {
     "name": "stderr",
     "output_type": "stream",
     "text": [
      "Some weights of T5Model were not initialized from the model checkpoint at t5-large and are newly initialized: ['encoder.embed_tokens.weight', 'decoder.embed_tokens.weight']\n",
      "You should probably TRAIN this model on a down-stream task to be able to use it for predictions and inference.\n"
     ]
    },
    {
     "data": {
      "application/vnd.jupyter.widget-view+json": {
       "model_id": "8d6ba7f74cc9499cbdda29a2757e9873",
       "version_major": 2,
       "version_minor": 0
      },
      "text/plain": [
       "  0%|          | 0/20 [00:00<?, ?it/s]"
      ]
     },
     "metadata": {},
     "output_type": "display_data"
    },
    {
     "name": "stdout",
     "output_type": "stream",
     "text": [
      "bert-base-uncased\n"
     ]
    },
    {
     "data": {
      "application/vnd.jupyter.widget-view+json": {
       "model_id": "b0e7d9b64d4b49bd95d6e55dbaec9527",
       "version_major": 2,
       "version_minor": 0
      },
      "text/plain": [
       "  0%|          | 0/20 [00:00<?, ?it/s]"
      ]
     },
     "metadata": {},
     "output_type": "display_data"
    },
    {
     "name": "stdout",
     "output_type": "stream",
     "text": [
      "bart-large\n"
     ]
    },
    {
     "data": {
      "application/vnd.jupyter.widget-view+json": {
       "model_id": "51ecc99494d74121ab495b7643ea8b99",
       "version_major": 2,
       "version_minor": 0
      },
      "text/plain": [
       "  0%|          | 0/20 [00:00<?, ?it/s]"
      ]
     },
     "metadata": {},
     "output_type": "display_data"
    },
    {
     "name": "stdout",
     "output_type": "stream",
     "text": [
      "bert-large-uncased-whole-word-masking\n"
     ]
    },
    {
     "data": {
      "application/vnd.jupyter.widget-view+json": {
       "model_id": "da813306063f479787f3fd87f130e928",
       "version_major": 2,
       "version_minor": 0
      },
      "text/plain": [
       "  0%|          | 0/20 [00:00<?, ?it/s]"
      ]
     },
     "metadata": {},
     "output_type": "display_data"
    },
    {
     "name": "stdout",
     "output_type": "stream",
     "text": [
      "bert-large-uncased\n"
     ]
    },
    {
     "data": {
      "application/vnd.jupyter.widget-view+json": {
       "model_id": "97e79f6ac5dd42eeb9bd7f007e715837",
       "version_major": 2,
       "version_minor": 0
      },
      "text/plain": [
       "  0%|          | 0/20 [00:00<?, ?it/s]"
      ]
     },
     "metadata": {},
     "output_type": "display_data"
    },
    {
     "name": "stdout",
     "output_type": "stream",
     "text": [
      "roberta-large\n"
     ]
    },
    {
     "data": {
      "application/vnd.jupyter.widget-view+json": {
       "model_id": "0683c6824c8d4d98a834a0f5b10867be",
       "version_major": 2,
       "version_minor": 0
      },
      "text/plain": [
       "  0%|          | 0/20 [00:00<?, ?it/s]"
      ]
     },
     "metadata": {},
     "output_type": "display_data"
    }
   ],
   "source": [
    "models = ['t5-large', 'bert-base-uncased', 'bart-large', 'bert-large-uncased-whole-word-masking', 'bert-large-uncased', 'roberta-large']\n",
    "model_freqs = {}\n",
    "for model_name in models:\n",
    "    print(model_name)\n",
    "    if \"t5\" in model_name.lower():\n",
    "        model = transformers.T5Model.from_pretrained(model_name).to(device)\n",
    "        tokenizer = transformers.AutoTokenizer.from_pretrained(model_name)\n",
    "        tokenizer.mask_token = \"<extra_id_0>\"\n",
    "    elif \"gpt\" in model_name.lower():\n",
    "        raise NotImplementedError\n",
    "    else:\n",
    "        if model_name.startswith(\"bart\"):\n",
    "            model = transformers.AutoModel.from_pretrained(\"facebook/\" + model_name).to(device)\n",
    "            tokenizer = transformers.AutoTokenizer.from_pretrained(\"facebook/\" + model_name)\n",
    "        else:\n",
    "            model = transformers.AutoModel.from_pretrained(model_name).to(device)\n",
    "            tokenizer = transformers.AutoTokenizer.from_pretrained(model_name)\n",
    "            \n",
    "    \n",
    "    age_age = 0\n",
    "    age_mask = 0\n",
    "    age_age_by_layer = np.zeros((model.config.num_hidden_layers), dtype=int)\n",
    "    age_age_by_head = np.zeros((model.config.num_hidden_layers, model.config.num_attention_heads), dtype=int)\n",
    "    age_mask_by_layer = np.zeros((model.config.num_hidden_layers), dtype=int)\n",
    "    age_mask_by_head = np.zeros((model.config.num_hidden_layers, model.config.num_attention_heads), dtype=int)\n",
    "    for age1 in tqdm(range(40, 60)):\n",
    "        for age2 in range(40, 60):\n",
    "    # for age1 in tqdm(range(20, 40)):\n",
    "    #     for age2 in range(20, 40):\n",
    "            if age1 == age2:\n",
    "                continue\n",
    "\n",
    "            local_age_age = False\n",
    "            local_age_mask = False\n",
    "            input_ids = torch.tensor([tokenizer.encode(f\"A {age1} year old person age is {tokenizer.mask_token} than a {age2} year old person .\", add_special_tokens=True)]).to(device)\n",
    "            tokenized_text = tokenizer.convert_ids_to_tokens(input_ids[0])\n",
    "            with torch.no_grad():\n",
    "                if model_name.startswith(\"bart\"):\n",
    "                    decoder_features, decoder_states, decoder_attns, decoder_self_norms, decoder_cross_norms, encoder_last_state, encoder_states, encoder_attns, encoder_norms = model(input_ids=input_ids, output_hidden_states=True, output_attentions=True, output_norms=True)  # BART\n",
    "                    norms = encoder_norms\n",
    "                elif model_name.startswith(\"t5\"):\n",
    "                    decoder_features, decoder_cache, decoder_states, decoder_attns, decoder_self_norms, decoder_cross_norms, encoder_last_state, encoder_states, encoder_attns, encoder_norms = model(input_ids=input_ids, decoder_input_ids=input_ids, output_hidden_states=True, output_attentions=True, output_norms=True)  # T5\n",
    "                    norms = encoder_norms\n",
    "                else: \n",
    "                    last_hidden_state, pooler_output, hidden_states, attentions, norms = model(input_ids=input_ids, output_hidden_states=True, output_attentions=True, output_norms=True)\n",
    "\n",
    "            if \"roberta\" in model_name or \"bart\" in model_name:\n",
    "                first_age = tokenized_text.index(\"Ġyear\") - 1\n",
    "                sec_age = len(tokenized_text) - 1 - tokenized_text[::-1].index(\"Ġyear\") - 1\n",
    "            elif \"t5\" in model_name:\n",
    "                first_age = tokenized_text.index(\"▁year\") - 1\n",
    "                sec_age = len(tokenized_text) - 1 - tokenized_text[::-1].index(\"▁year\") - 1\n",
    "            else:\n",
    "                first_age = tokenized_text.index(\"year\") - 1\n",
    "                sec_age = len(tokenized_text) - 1 - tokenized_text[::-1].index(\"year\") - 1\n",
    "            mask = tokenized_text.index(tokenizer.mask_token)\n",
    "            for layer in range(model.config.num_hidden_layers):\n",
    "                layer_age_age = False\n",
    "                layer_age_mask = False\n",
    "                for head in range(model.config.num_attention_heads):\n",
    "                    head_norms = norms[layer][1][0][head].cpu().numpy()\n",
    "                    thres = np.percentile(head_norms, 99)\n",
    "                    if head_norms[first_age][sec_age] > thres and head_norms[sec_age][first_age] > thres:\n",
    "                        age_age_by_head[layer][head] += 1\n",
    "                        local_age_age = True\n",
    "                        layer_age_age = True\n",
    "\n",
    "                    if head_norms[first_age][mask] > thres and head_norms[sec_age][mask] > thres:\n",
    "                    # if head_norms[mask][first_age] > thres and head_norms[mask][sec_age] > thres:\n",
    "                        age_mask_by_head[layer][head] += 1\n",
    "                        local_age_mask = True\n",
    "                        layer_age_mask = True\n",
    "\n",
    "                if layer_age_age:\n",
    "                    age_age_by_layer[layer] += 1\n",
    "\n",
    "                if layer_age_mask:\n",
    "                    age_mask_by_layer[layer] += 1\n",
    "\n",
    "            if local_age_age:\n",
    "                age_age += 1\n",
    "            if local_age_mask:\n",
    "                age_mask += 1\n",
    "\n",
    "    model_freqs[model_name] = (age_age, age_mask, age_age_by_layer, age_mask_by_layer, age_age_by_head, age_mask_by_head)"
   ]
  },
  {
   "cell_type": "code",
   "execution_count": 67,
   "id": "2ffae4e7",
   "metadata": {},
   "outputs": [
    {
     "name": "stderr",
     "output_type": "stream",
     "text": [
      "Some weights of T5Model were not initialized from the model checkpoint at t5-large and are newly initialized: ['encoder.embed_tokens.weight', 'decoder.embed_tokens.weight']\n",
      "You should probably TRAIN this model on a down-stream task to be able to use it for predictions and inference.\n"
     ]
    }
   ],
   "source": [
    "# model_name = \"bert-base-uncased\"\n",
    "# model_name = \"facebook/bart-large\"\n",
    "# model_name = \"bert-large-uncased-whole-word-masking\"\n",
    "# model_name = \"bert-large-uncased\"\n",
    "# model_name = \"roberta-large\"\n",
    "model_name = \"t5-large\"\n",
    "if \"t5\" in model_name.lower():\n",
    "    model = transformers.T5Model.from_pretrained(model_name).to(device)\n",
    "    tokenizer = transformers.AutoTokenizer.from_pretrained(model_name)\n",
    "    tokenizer.mask_token = \"<extra_id_0>\"\n",
    "elif \"gpt\" in model_name.lower():\n",
    "    raise NotImplementedError\n",
    "else:\n",
    "    # model = transformers.AutoModelForMaskedLM.from_pretrained(model_name).to(device)\n",
    "    model = transformers.AutoModel.from_pretrained(model_name).to(device)\n",
    "    tokenizer = transformers.AutoTokenizer.from_pretrained(model_name)"
   ]
  },
  {
   "cell_type": "code",
   "execution_count": 70,
   "id": "10b3b051",
   "metadata": {},
   "outputs": [
    {
     "data": {
      "application/vnd.jupyter.widget-view+json": {
       "model_id": "1e6dd4dd5d574b69867edc8b45247b6f",
       "version_major": 2,
       "version_minor": 0
      },
      "text/plain": [
       "  0%|          | 0/20 [00:00<?, ?it/s]"
      ]
     },
     "metadata": {},
     "output_type": "display_data"
    },
    {
     "data": {
      "text/plain": [
       "(380, 380)"
      ]
     },
     "execution_count": 70,
     "metadata": {},
     "output_type": "execute_result"
    }
   ],
   "source": [
    "age_age = 0\n",
    "age_mask = 0\n",
    "age_age_by_layer = np.zeros((model.config.num_hidden_layers), dtype=int)\n",
    "age_age_by_head = np.zeros((model.config.num_hidden_layers, model.config.num_attention_heads), dtype=int)\n",
    "age_mask_by_layer = np.zeros((model.config.num_hidden_layers), dtype=int)\n",
    "age_mask_by_head = np.zeros((model.config.num_hidden_layers, model.config.num_attention_heads), dtype=int)\n",
    "for age1 in tqdm(range(40, 60)):\n",
    "    for age2 in range(40, 60):\n",
    "# for age1 in tqdm(range(20, 40)):\n",
    "#     for age2 in range(20, 40):\n",
    "        if age1 == age2:\n",
    "            continue\n",
    "\n",
    "        local_age_age = False\n",
    "        local_age_mask = False\n",
    "        input_ids = torch.tensor([tokenizer.encode(f\"A {age1} year old person age is {tokenizer.mask_token} than a {age2} year old person .\", add_special_tokens=True)]).to(device)\n",
    "        tokenized_text = tokenizer.convert_ids_to_tokens(input_ids[0])\n",
    "        with torch.no_grad():\n",
    "#            last_hidden_state, pooler_output, hidden_states, attentions, norms = model(input_ids=input_ids, output_hidden_states=True, output_attentions=True, output_norms=True)\n",
    "#             decoder_features, decoder_states, decoder_attns, decoder_self_norms, decoder_cross_norms, encoder_last_state, encoder_states, encoder_attns, encoder_norms = model(input_ids=input_ids, output_hidden_states=True, output_attentions=True, output_norms=True)  # BART\n",
    "            decoder_features, decoder_cache, decoder_states, decoder_attns, decoder_self_norms, decoder_cross_norms, encoder_last_state, encoder_states, encoder_attns, encoder_norms = model(input_ids=input_ids, decoder_input_ids=input_ids, output_hidden_states=True, output_attentions=True, output_norms=True)  # T5\n",
    "            norms = encoder_norms\n",
    "        \n",
    "        if \"roberta\" in model_name or \"bart\" in model_name:\n",
    "            first_age = tokenized_text.index(\"Ġyear\") - 1\n",
    "            sec_age = len(tokenized_text) - 1 - tokenized_text[::-1].index(\"Ġyear\") - 1\n",
    "        elif \"t5\" in model_name:\n",
    "            first_age = tokenized_text.index(\"▁year\") - 1\n",
    "            sec_age = len(tokenized_text) - 1 - tokenized_text[::-1].index(\"▁year\") - 1\n",
    "        else:\n",
    "            first_age = tokenized_text.index(\"year\") - 1\n",
    "            sec_age = len(tokenized_text) - 1 - tokenized_text[::-1].index(\"year\") - 1\n",
    "        mask = tokenized_text.index(tokenizer.mask_token)\n",
    "        for layer in range(model.config.num_hidden_layers):\n",
    "            layer_age_age = False\n",
    "            layer_age_mask = False\n",
    "            for head in range(model.config.num_attention_heads):\n",
    "                head_norms = norms[layer][1][0][head].cpu().numpy()\n",
    "                thres = np.percentile(head_norms, 99)\n",
    "                if head_norms[first_age][sec_age] > thres and head_norms[sec_age][first_age] > thres:\n",
    "                    age_age_by_head[layer][head] += 1\n",
    "                    local_age_age = True\n",
    "                    layer_age_age = True\n",
    "                \n",
    "                if head_norms[first_age][mask] > thres and head_norms[sec_age][mask] > thres:\n",
    "                # if head_norms[mask][first_age] > thres and head_norms[mask][sec_age] > thres:\n",
    "                    age_mask_by_head[layer][head] += 1\n",
    "                    local_age_mask = True\n",
    "                    layer_age_mask = True\n",
    "\n",
    "            if layer_age_age:\n",
    "                age_age_by_layer[layer] += 1\n",
    "                \n",
    "            if layer_age_mask:\n",
    "                age_mask_by_layer[layer] += 1\n",
    "\n",
    "        if local_age_age:\n",
    "            age_age += 1\n",
    "        if local_age_mask:\n",
    "            age_mask += 1\n",
    "\n",
    "age_age, age_mask"
   ]
  },
  {
   "cell_type": "code",
   "execution_count": 15,
   "id": "0278c89a",
   "metadata": {},
   "outputs": [],
   "source": [
    "model_freqs = {}"
   ]
  },
  {
   "cell_type": "code",
   "execution_count": 16,
   "id": "ea6854ff",
   "metadata": {},
   "outputs": [],
   "source": [
    "total = 380"
   ]
  },
  {
   "cell_type": "code",
   "execution_count": 72,
   "id": "1dfd508d",
   "metadata": {},
   "outputs": [
    {
     "name": "stdout",
     "output_type": "stream",
     "text": [
      "380 380\n"
     ]
    },
    {
     "data": {
      "image/png": "[encoded data removed]",
      "text/plain": [
       "<Figure size 936x144 with 6 Axes>"
      ]
     },
     "metadata": {
      "needs_background": "light"
     },
     "output_type": "display_data"
    }
   ],
   "source": [
    "# (age_age, age_mask, age_age_by_layer, age_mask_by_layer, age_age_by_head, age_mask_by_head) = model_freqs[model_name]\n",
    "print(age_age, age_mask)\n",
    "fig, (ax1, ax2, ax3) = plt.subplots(ncols=3, figsize=(13, 2))\n",
    "plt.suptitle(model_name, y=1.3)\n",
    "im1 = ax1.imshow(np.stack([age_age_by_layer, age_mask_by_layer]))\n",
    "im2 = ax2.imshow(age_age_by_head.T)\n",
    "im3 = ax3.imshow(age_mask_by_head.T)\n",
    "\n",
    "ax1.set_title(\"Pattern Frequencies \\n by Layer\")\n",
    "ax1.set_xlabel(\"Layer\")\n",
    "ax1.set_yticks([0, 1])\n",
    "ax1.set_yticklabels([\"Age-Age\\n\", \"Age-MASK\"])\n",
    "\n",
    "ax2.set_title(\"Age-Age Frequencies \\n by Head\")\n",
    "ax2.set_xlabel(\"Layer\")\n",
    "ax2.set_ylabel(\"Head\")\n",
    "\n",
    "ax3.set_title(\"Age-MASK Frequencies \\n by Head\")\n",
    "ax3.set_xlabel(\"Layer\")\n",
    "ax3.set_ylabel(\"Head\")\n",
    "\n",
    "fig.colorbar(im1, ax=ax1)\n",
    "fig.colorbar(im2, ax=ax2)\n",
    "fig.colorbar(im3, ax=ax3)\n",
    "plt.figtext(0.11, 1.05, f\"Age-Age: {'{:.1f}'.format(age_age / total * 100)}% \\n Age-MASK: {'{:.1f}%'.format(age_mask / total * 100)}\", wrap=True, horizontalalignment='center', fontsize=12)\n",
    "# model_freqs[model_name] = (age_age, age_mask, age_age_by_layer, age_mask_by_layer, age_age_by_head, age_mask_by_head)\n",
    "plt.savefig(f\"Patterns/{model_name}-40.png\", bbox_inches=\"tight\")\n",
    "plt.show()"
   ]
  },
  {
   "cell_type": "code",
   "execution_count": 3,
   "id": "8a75865f",
   "metadata": {},
   "outputs": [],
   "source": [
    "import pickle\n",
    "with open('model_freqs-40.pkl', 'wb') as f:\n",
    "    pickle.dump(model_freqs, f, protocol=pickle.HIGHEST_PROTOCOL)"
   ]
  },
  {
   "cell_type": "code",
   "execution_count": 7,
   "id": "79dc5b0c",
   "metadata": {},
   "outputs": [
    {
     "data": {
      "text/plain": [
       "dict_keys(['t5-large', 'bert-base-uncased', 'bart-large', 'bert-large-uncased-whole-word-masking', 'bert-large-uncased', 'roberta-large'])"
      ]
     },
     "execution_count": 7,
     "metadata": {},
     "output_type": "execute_result"
    }
   ],
   "source": [
    "model_freqs.keys()"
   ]
  },
  {
   "cell_type": "code",
   "execution_count": 2,
   "id": "0ae71a0c",
   "metadata": {},
   "outputs": [],
   "source": [
    "import pickle\n",
    "with open('model_freqs.pkl', 'rb') as f:\n",
    "    model_freqs = pickle.load(f)"
   ]
  },
  {
   "cell_type": "code",
   "execution_count": 5,
   "id": "d316f137",
   "metadata": {},
   "outputs": [
    {
     "name": "stdout",
     "output_type": "stream",
     "text": [
      "t5-large\n",
      "Age-Age By Layer: 0.39901315789473685\n",
      "Age-MASK By Layer: 0.15405701754385964\n",
      "Age-Age By Head: 0.031284265350877194\n",
      "Age-MASK By Head: 0.009820449561403509\n",
      "---------------------\n",
      "bert-base-uncased\n",
      "Age-Age By Layer: 0.0756578947368421\n",
      "Age-MASK By Layer: 0.0008771929824561403\n",
      "Age-Age By Head: 0.006304824561403509\n",
      "Age-MASK By Head: 7.309941520467836e-05\n",
      "---------------------\n",
      "facebook/bart-large\n",
      "Age-Age By Layer: 0.3048245614035088\n",
      "Age-MASK By Layer: 0.00021929824561403506\n",
      "Age-Age By Head: 0.031085526315789473\n",
      "Age-MASK By Head: 1.3706140350877192e-05\n",
      "---------------------\n",
      "bert-large-uncased-whole-word-masking\n",
      "Age-Age By Layer: 0.15098684210526317\n",
      "Age-MASK By Layer: 0.015789473684210527\n",
      "Age-Age By Head: 0.01352796052631579\n",
      "Age-MASK By Head: 0.000986842105263158\n",
      "---------------------\n",
      "bert-large-uncased\n",
      "Age-Age By Layer: 0.13925438596491227\n",
      "Age-MASK By Layer: 0.04978070175438597\n",
      "Age-Age By Head: 0.008908991228070175\n",
      "Age-MASK By Head: 0.003111293859649123\n",
      "---------------------\n",
      "roberta-large\n",
      "Age-Age By Layer: 0.20679824561403506\n",
      "Age-MASK By Layer: 0.04265350877192982\n",
      "Age-Age By Head: 0.013980263157894737\n",
      "Age-MASK By Head: 0.0026658442982456136\n",
      "---------------------\n"
     ]
    }
   ],
   "source": [
    "models = ['t5-large', 'bert-base-uncased', 'bart-large', 'bert-large-uncased-whole-word-masking', 'bert-large-uncased', 'roberta-large']\n",
    "for model_name in models:\n",
    "    model_freq = model_freqs[model_name]\n",
    "    if model_name.startswith(\"bart\"):\n",
    "        model_name = \"facebook/\" + model_name\n",
    "    try:\n",
    "        layers = transformers.AutoConfig.from_pretrained(model_name).num_hidden_layers\n",
    "        heads = transformers.AutoConfig.from_pretrained(model_name).num_attention_heads\n",
    "    except AttributeError:\n",
    "        layers = transformers.AutoConfig.from_pretrained(model_name).num_layers\n",
    "        heads = transformers.AutoConfig.from_pretrained(model_name).num_heads\n",
    "    print(model_name)\n",
    "    print(f\"Age-Age By Layer: {np.sum(model_freq[2]) / layers / 380}\")\n",
    "    print(f\"Age-MASK By Layer: {np.sum(model_freq[3]) / layers / 380}\")\n",
    "    print(f\"Age-Age By Head: {np.sum(model_freq[4]) / (layers * heads) / 380}\")\n",
    "    print(f\"Age-MASK By Head: {np.sum(model_freq[5]) / (layers * heads) / 380}\")\n",
    "    print(\"---------------------\")"
   ]
  },
  {
   "cell_type": "code",
   "execution_count": 8,
   "id": "9b7b5d32",
   "metadata": {},
   "outputs": [
    {
     "data": {
      "text/plain": [
       "0.5506578947368421"
      ]
     },
     "execution_count": 8,
     "metadata": {},
     "output_type": "execute_result"
    }
   ],
   "source": [
    "np.sum(model_freqs[\"t5-large\"][2]) / 16 / 380"
   ]
  },
  {
   "cell_type": "code",
   "execution_count": 10,
   "id": "16433d6c",
   "metadata": {},
   "outputs": [
    {
     "data": {
      "text/plain": [
       "4408"
      ]
     },
     "execution_count": 10,
     "metadata": {},
     "output_type": "execute_result"
    }
   ],
   "source": [
    "np.sum(model_freqs[\"t5-large\"][4])"
   ]
  },
  {
   "cell_type": "code",
   "execution_count": 13,
   "id": "36211905",
   "metadata": {},
   "outputs": [
    {
     "data": {
      "text/plain": [
       "BartConfig {\n",
       "  \"activation_dropout\": 0.1,\n",
       "  \"activation_function\": \"gelu\",\n",
       "  \"add_bias_logits\": false,\n",
       "  \"add_final_layer_norm\": false,\n",
       "  \"architectures\": [\n",
       "    \"BartModel\",\n",
       "    \"BartForConditionalGeneration\",\n",
       "    \"BartForSequenceClassification\"\n",
       "  ],\n",
       "  \"attention_dropout\": 0.1,\n",
       "  \"bos_token_id\": 0,\n",
       "  \"classif_dropout\": 0.0,\n",
       "  \"d_model\": 1024,\n",
       "  \"decoder_attention_heads\": 16,\n",
       "  \"decoder_ffn_dim\": 4096,\n",
       "  \"decoder_layerdrop\": 0.0,\n",
       "  \"decoder_layers\": 12,\n",
       "  \"decoder_start_token_id\": 2,\n",
       "  \"dropout\": 0.1,\n",
       "  \"early_stopping\": true,\n",
       "  \"encoder_attention_heads\": 16,\n",
       "  \"encoder_ffn_dim\": 4096,\n",
       "  \"encoder_layerdrop\": 0.0,\n",
       "  \"encoder_layers\": 12,\n",
       "  \"eos_token_id\": 2,\n",
       "  \"extra_pos_embeddings\": 2,\n",
       "  \"id2label\": {\n",
       "    \"0\": \"LABEL_0\",\n",
       "    \"1\": \"LABEL_1\",\n",
       "    \"2\": \"LABEL_2\"\n",
       "  },\n",
       "  \"init_std\": 0.02,\n",
       "  \"is_encoder_decoder\": true,\n",
       "  \"label2id\": {\n",
       "    \"LABEL_0\": 0,\n",
       "    \"LABEL_1\": 1,\n",
       "    \"LABEL_2\": 2\n",
       "  },\n",
       "  \"max_position_embeddings\": 1024,\n",
       "  \"model_type\": \"bart\",\n",
       "  \"no_repeat_ngram_size\": 3,\n",
       "  \"normalize_before\": false,\n",
       "  \"normalize_embedding\": true,\n",
       "  \"num_beams\": 4,\n",
       "  \"num_hidden_layers\": 12,\n",
       "  \"pad_token_id\": 1,\n",
       "  \"scale_embedding\": false,\n",
       "  \"static_position_embeddings\": false,\n",
       "  \"task_specific_params\": {\n",
       "    \"summarization\": {\n",
       "      \"length_penalty\": 1.0,\n",
       "      \"max_length\": 128,\n",
       "      \"min_length\": 12,\n",
       "      \"num_beams\": 4\n",
       "    },\n",
       "    \"summarization_cnn\": {\n",
       "      \"length_penalty\": 2.0,\n",
       "      \"max_length\": 142,\n",
       "      \"min_length\": 56,\n",
       "      \"num_beams\": 4\n",
       "    },\n",
       "    \"summarization_xsum\": {\n",
       "      \"length_penalty\": 1.0,\n",
       "      \"max_length\": 62,\n",
       "      \"min_length\": 11,\n",
       "      \"num_beams\": 6\n",
       "    }\n",
       "  },\n",
       "  \"vocab_size\": 50265\n",
       "}"
      ]
     },
     "execution_count": 13,
     "metadata": {},
     "output_type": "execute_result"
    }
   ],
   "source": [
    "transformers.AutoConfig.from_pretrained(\"facebook/bart-large\")"
   ]
  },
  {
   "cell_type": "code",
   "execution_count": 22,
   "id": "dd9be17e",
   "metadata": {},
   "outputs": [
    {
     "name": "stdout",
     "output_type": "stream",
     "text": [
      "24\n",
      "16\n",
      "12\n",
      "12\n",
      "12\n",
      "16\n",
      "24\n",
      "16\n",
      "24\n",
      "16\n",
      "24\n",
      "16\n"
     ]
    }
   ],
   "source": [
    "models = ['t5-large', 'bert-base-uncased', 'bart-large', 'bert-large-uncased-whole-word-masking', 'bert-large-uncased', 'roberta-large']\n",
    "for model_name in models:\n",
    "    if model_name.startswith(\"bart\"):\n",
    "        model_name = \"facebook/\" + model_name\n",
    "    try:\n",
    "        layers = transformers.AutoConfig.from_pretrained(model_name).num_hidden_layers\n",
    "        heads = transformers.AutoConfig.from_pretrained(model_name).num_attention_heads\n",
    "    except AttributeError:\n",
    "        layers = transformers.AutoConfig.from_pretrained(model_name).num_layers\n",
    "        heads = transformers.AutoConfig.from_pretrained(model_name).num_heads\n",
    "        \n",
    "    print(layers)\n",
    "    print(heads)"
   ]
  },
  {
   "cell_type": "code",
   "execution_count": 17,
   "id": "7ac37e16",
   "metadata": {},
   "outputs": [
    {
     "ename": "AttributeError",
     "evalue": "'BartConfig' object has no attribute 'num_hidden_layer'",
     "output_type": "error",
     "traceback": [
      "\u001b[0;31m---------------------------------------------------------------------------\u001b[0m",
      "\u001b[0;31mAttributeError\u001b[0m                            Traceback (most recent call last)",
      "\u001b[0;32m/tmp/ipykernel_314644/3429908767.py\u001b[0m in \u001b[0;36m<module>\u001b[0;34m\u001b[0m\n\u001b[0;32m----> 1\u001b[0;31m \u001b[0mlayers\u001b[0m \u001b[0;34m=\u001b[0m \u001b[0mtransformers\u001b[0m\u001b[0;34m.\u001b[0m\u001b[0mAutoConfig\u001b[0m\u001b[0;34m.\u001b[0m\u001b[0mfrom_pretrained\u001b[0m\u001b[0;34m(\u001b[0m\u001b[0;34m\"facebook/bart-large\"\u001b[0m\u001b[0;34m)\u001b[0m\u001b[0;34m.\u001b[0m\u001b[0mnum_hidden_layer\u001b[0m\u001b[0;34m\u001b[0m\u001b[0;34m\u001b[0m\u001b[0m\n\u001b[0m",
      "\u001b[0;31mAttributeError\u001b[0m: 'BartConfig' object has no attribute 'num_hidden_layer'"
     ]
    }
   ],
   "source": [
    "layers = transformers.AutoConfig.from_pretrained(\"facebook/bart-large\").num_hidden_layer"
   ]
  },
  {
   "cell_type": "code",
   "execution_count": null,
   "id": "83fb515c",
   "metadata": {},
   "outputs": [],
   "source": []
  }
 ],
 "metadata": {
  "kernelspec": {
   "display_name": "Python 3 (ipykernel)",
   "language": "python",
   "name": "python3"
  },
  "language_info": {
   "codemirror_mode": {
    "name": "ipython",
    "version": 3
   },
   "file_extension": ".py",
   "mimetype": "text/x-python",
   "name": "python",
   "nbconvert_exporter": "python",
   "pygments_lexer": "ipython3",
   "version": "3.8.10"
  }
 },
 "nbformat": 4,
 "nbformat_minor": 5
}
